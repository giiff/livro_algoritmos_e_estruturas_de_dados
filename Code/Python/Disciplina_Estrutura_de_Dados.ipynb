{
 "cells": [
  {
   "cell_type": "markdown",
   "metadata": {
    "id": "kOu9S_Z6XIwO"
   },
   "source": [
    "# Estrutura de Dados\n",
    "\n",
    "*Ein gutes Gewissen ist ein sanftes Ruhekissen*\n",
    "\n",
    "*Uma consciência tranquila é um travesseiro macio*"
   ]
  },
  {
   "cell_type": "markdown",
   "metadata": {
    "id": "2rCB_7dgak0c"
   },
   "source": [
    "## Recursividade\n",
    "\n",
    "Características de um algoritmo recursivo:\n",
    "\n",
    "* Quebrar o problema em subproblemas do mesmo tipo\n",
    "\n",
    "* cada subproblemas precisa ter tamanho menor que o problema original até\n",
    "\n",
    "* Não ser mais possível a decomposição do problema em subproblemas (condição de \n",
    "parada)\n",
    "\n",
    "Deve haver uma chamada recursiva à função"
   ]
  },
  {
   "cell_type": "code",
   "execution_count": null,
   "metadata": {
    "id": "18ke99ZSXHsw"
   },
   "outputs": [],
   "source": [
    "# Função iterativa para imprimir número de 1 a 10\n",
    "def f_iterativa(n): # definição da função\n",
    "    while n <= 10: #condicao de parada\n",
    "        print(n) # propósito da função\n",
    "        n = n + 1 # incremento de n"
   ]
  },
  {
   "cell_type": "code",
   "execution_count": null,
   "metadata": {
    "id": "FJVSWsF4bpUy"
   },
   "outputs": [],
   "source": [
    "# Função recursiva para imprimir número de 1 a 10\n",
    "def f_recursiva(n):\n",
    "    if n <= 10: # condição de parada\n",
    "        print(n)\n",
    "        f_recursiva(n + 1)\n",
    "    else:\n",
    "        print(f\"n = {n}: condição de parada alcançada!\")"
   ]
  },
  {
   "cell_type": "code",
   "execution_count": null,
   "metadata": {
    "colab": {
     "base_uri": "https://localhost:8080/"
    },
    "executionInfo": {
     "elapsed": 250,
     "status": "ok",
     "timestamp": 1633781779130,
     "user": {
      "displayName": "Waldeyr Mendes Cordeiro da Silva",
      "photoUrl": "https://lh3.googleusercontent.com/a-/AOh14GgXl7vAH6l0VPjECKc5e3QXWv0QmnF7d2o7ekhr7-E=s64",
      "userId": "06543881337980292104"
     },
     "user_tz": 180
    },
    "id": "r_RQFd66a5RZ",
    "outputId": "8ddbd4bb-d0b3-4c12-8676-a8c5525e986b"
   },
   "outputs": [
    {
     "name": "stdout",
     "output_type": "stream",
     "text": [
      "\n",
      "Função iterativa\n",
      "\n",
      "1\n",
      "2\n",
      "3\n",
      "4\n",
      "5\n",
      "6\n",
      "7\n",
      "8\n",
      "9\n",
      "10\n",
      "\n",
      "Função recursiva\n",
      "\n",
      "1\n",
      "2\n",
      "3\n",
      "4\n",
      "5\n",
      "6\n",
      "7\n",
      "8\n",
      "9\n",
      "10\n",
      "n = 11: condição de parada alcançada!\n"
     ]
    }
   ],
   "source": [
    "print(\"\\nFunção iterativa\\n\")\n",
    "f_iterativa(1)\n",
    "print(\"\\nFunção recursiva\\n\")\n",
    "f_recursiva(1)"
   ]
  },
  {
   "cell_type": "code",
   "execution_count": null,
   "metadata": {
    "colab": {
     "base_uri": "https://localhost:8080/"
    },
    "executionInfo": {
     "elapsed": 260,
     "status": "ok",
     "timestamp": 1633781842793,
     "user": {
      "displayName": "Waldeyr Mendes Cordeiro da Silva",
      "photoUrl": "https://lh3.googleusercontent.com/a-/AOh14GgXl7vAH6l0VPjECKc5e3QXWv0QmnF7d2o7ekhr7-E=s64",
      "userId": "06543881337980292104"
     },
     "user_tz": 180
    },
    "id": "L90qp-2kX_7H",
    "outputId": "efbbf7f4-7451-45a1-b89e-cd7a5d6c32a9"
   },
   "outputs": [
    {
     "name": "stdout",
     "output_type": "stream",
     "text": [
      "5\n",
      "4\n",
      "3\n",
      "2\n",
      "1\n",
      "Decolar!\n"
     ]
    }
   ],
   "source": [
    "# Contagem regressiva com recursividade\n",
    "def contagemRegressiva(n):\n",
    "    if n == 0: # condição de parada\n",
    "        print(\"Decolar!\")\n",
    "    else:\n",
    "        print(n)\n",
    "        contagemRegressiva(n-1)\n",
    "\n",
    "contagemRegressiva(5)"
   ]
  },
  {
   "cell_type": "code",
   "execution_count": null,
   "metadata": {
    "id": "6nFwkLKtYD1P"
   },
   "outputs": [],
   "source": [
    "# Cálculo de fatorial iterativo e recursivo\n",
    "# O que seria fatorial?  3! = 3.2.1 = 6\n",
    "def fatorialIterativo(n):\n",
    "    resultado = 1\n",
    "    while n > 0:\n",
    "        resultado  = resultado * n\n",
    "        n = n - 1\n",
    "    return resultado\n",
    "\n",
    "def fatorialRecursivo(n):\n",
    "    if n == 0:\n",
    "        return 1\n",
    "    else:\n",
    "        return n * fatorialRecursivo(n-1)\n",
    "\n",
    "n = int(input(\"Informe o valor de n: \"))\n",
    "print(f\"O fatorial de {n} é {fatorialIterativo(n)}\")\n",
    "print(f\"O fatorial de {n} é {fatorialRecursivo(n)}\")\n",
    "    "
   ]
  },
  {
   "cell_type": "code",
   "execution_count": null,
   "metadata": {
    "colab": {
     "base_uri": "https://localhost:8080/"
    },
    "executionInfo": {
     "elapsed": 2964,
     "status": "ok",
     "timestamp": 1633782203645,
     "user": {
      "displayName": "Waldeyr Mendes Cordeiro da Silva",
      "photoUrl": "https://lh3.googleusercontent.com/a-/AOh14GgXl7vAH6l0VPjECKc5e3QXWv0QmnF7d2o7ekhr7-E=s64",
      "userId": "06543881337980292104"
     },
     "user_tz": 180
    },
    "id": "ySrO9NoNYLbd",
    "outputId": "b0fd3f49-a3e0-4c54-b883-a425dc444259"
   },
   "outputs": [
    {
     "name": "stdout",
     "output_type": "stream",
     "text": [
      "Informe o número de termos de Fibonacci:5\n",
      "0\n",
      "1\n",
      "1\n",
      "2\n",
      "3\n"
     ]
    }
   ],
   "source": [
    "# Sequência de Fibonacci com recursividade\n",
    "'''\n",
    "Leonardo Fibonacci (Pisa-Itália, 1170-1250) foi um dos mais talentosos matemáticos da Idade Média.\n",
    "Ficou conhecido pela sequência de Fibonacci e pela sua participação na introdução dos algarismos hindu-arábicos na Europa.\n",
    "A sequência de Fibonacci é uma sequência de números inteiros, começando normalmente por 0 e 1.\n",
    "Cada termo subsequente corresponde à soma dos dois anteriores.\n",
    "Exemplo: 0 1 1 2 3 5 8 13\n",
    "'''\n",
    "def Fibonacci(n):\n",
    "    if n <= 1: # condicao de parada\n",
    "        return n\n",
    "    else:\n",
    "        return (Fibonacci(n-1) + Fibonacci(n-2))\n",
    "\n",
    "n = int(input(\"Informe o número de termos de Fibonacci:\"))\n",
    "for i in range(n\n",
    "               ):\n",
    "    print(f\"{Fibonacci(i)}\")"
   ]
  },
  {
   "cell_type": "code",
   "execution_count": null,
   "metadata": {
    "id": "SZiiKTJuhuyk"
   },
   "outputs": [],
   "source": [
    "# Contando o tempo de execução para geração de 35 números de Fibonacci\n",
    "import time\n",
    "import matplotlib.pyplot as plt\n",
    "\n",
    "def Fibonacci(n):\n",
    "    if n <= 1:\n",
    "        return n\n",
    "    else:\n",
    "        return (Fibonacci(n-1) + Fibonacci(n-2))\n",
    "\n",
    "qtd = [1,10,20,30,40,45]\n",
    "tempo = []\n",
    "for q in qtd:\n",
    "    inicio = time.time() # comeca a contar o tempo para um dada quantidade de numeros de Fibonacci\n",
    "    for i in range(q):\n",
    "        Fibonacci(i)\n",
    "        #print(f\"{Fibonacci(i)}\")\n",
    "    final = time.time() - inicio # tempo decorrido para um dada quantidade de numeros de Fibonacci\n",
    "    tempo.append(final)"
   ]
  },
  {
   "cell_type": "code",
   "execution_count": null,
   "metadata": {
    "colab": {
     "base_uri": "https://localhost:8080/",
     "height": 279
    },
    "executionInfo": {
     "elapsed": 305,
     "status": "ok",
     "timestamp": 1633093988941,
     "user": {
      "displayName": "Waldeyr Mendes Cordeiro da Silva",
      "photoUrl": "https://lh3.googleusercontent.com/a-/AOh14GgXl7vAH6l0VPjECKc5e3QXWv0QmnF7d2o7ekhr7-E=s64",
      "userId": "06543881337980292104"
     },
     "user_tz": 180
    },
    "id": "m7057dALe1Nv",
    "outputId": "2fd72fde-86d1-439f-b7b1-c38f2f85af9e"
   },
   "outputs": [
    {
     "data": {
      "image/png": "[encoded data removed]",
      "text/plain": [
       "<Figure size 432x288 with 1 Axes>"
      ]
     },
     "metadata": {
      "needs_background": "light"
     },
     "output_type": "display_data"
    }
   ],
   "source": [
    "# plot\n",
    "plt.plot(qtd,tempo)\n",
    "plt.title(\"Tempo de execução para Fibonacci recursivo\")\n",
    "plt.xlabel(\"Quantidade de número de Fibonacci\")\n",
    "plt.ylabel(\"Tempo (s)\")\n",
    "plt.gcf().autofmt_xdate()\n",
    "plt.show()"
   ]
  },
  {
   "cell_type": "markdown",
   "metadata": {
    "id": "9kDj-syTb6bw"
   },
   "source": [
    "## Algoritmos de Ordenação"
   ]
  },
  {
   "cell_type": "markdown",
   "metadata": {
    "id": "N5AorH7yf8aM"
   },
   "source": [
    "[Animações dos algoritmos de ordenação](https://visualgo.net/bn/sorting)\n",
    "\n",
    "---\n",
    "\n"
   ]
  },
  {
   "cell_type": "code",
   "execution_count": null,
   "metadata": {
    "colab": {
     "base_uri": "https://localhost:8080/"
    },
    "executionInfo": {
     "elapsed": 256,
     "status": "ok",
     "timestamp": 1633784328281,
     "user": {
      "displayName": "Waldeyr Mendes Cordeiro da Silva",
      "photoUrl": "https://lh3.googleusercontent.com/a-/AOh14GgXl7vAH6l0VPjECKc5e3QXWv0QmnF7d2o7ekhr7-E=s64",
      "userId": "06543881337980292104"
     },
     "user_tz": 180
    },
    "id": "ndTiT3syZIsx",
    "outputId": "a114878c-2795-4971-e611-027e708e8c3b"
   },
   "outputs": [
    {
     "name": "stdout",
     "output_type": "stream",
     "text": [
      "Vetor original: [5, 3, 4, 2, 6]\n",
      "Vetor ordenado: [2, 3, 4, 5, 6]\n"
     ]
    }
   ],
   "source": [
    "# Ordenação por bolha (Bubble sort)\n",
    "def bubbleSort(lista):\n",
    "    for num in range(len(lista)-1,0,-1):\n",
    "        for i in range(num):\n",
    "            if lista[i] > lista[i+1]:\n",
    "                lista[i], lista[i+1] = lista[i+1], lista[i]\n",
    "\n",
    "lista = [5,3,4,2,6]\n",
    "print(f\"Vetor original: {lista}\")\n",
    "bubbleSort(lista)\n",
    "print(f\"Vetor ordenado: {lista}\")"
   ]
  },
  {
   "cell_type": "code",
   "execution_count": null,
   "metadata": {
    "colab": {
     "base_uri": "https://localhost:8080/"
    },
    "executionInfo": {
     "elapsed": 20,
     "status": "ok",
     "timestamp": 1631710704179,
     "user": {
      "displayName": "Waldeyr Mendes Cordeiro da Silva",
      "photoUrl": "https://lh3.googleusercontent.com/a-/AOh14GgXl7vAH6l0VPjECKc5e3QXWv0QmnF7d2o7ekhr7-E=s64",
      "userId": "06543881337980292104"
     },
     "user_tz": 180
    },
    "id": "AoYKQPeseVaA",
    "outputId": "f289e1b1-c047-4a6a-ea9b-015b55588235"
   },
   "outputs": [
    {
     "name": "stdout",
     "output_type": "stream",
     "text": [
      "Vetor original: [5, 4, 3, 2, 1]\n",
      "Vetor ordenado: [1, 2, 3, 4, 5]\n"
     ]
    }
   ],
   "source": [
    "# Ordenação por inserção\n",
    "def insertionSort(lista):\n",
    "    for posicao in range(1, len(lista)): \n",
    "        key = lista[posicao] \n",
    "        # Mover todos os elementos da lista [0..posicao-1] que são maiores que o elemento da vez para as posições à frente dele\n",
    "        j = posicao-1\n",
    "        while j >= 0 and key < lista[j] : \n",
    "                lista[j+1] = lista[j] \n",
    "                j -= 1\n",
    "        lista[j+1] = key \n",
    "\n",
    "lista = [5,4,3,2,1]\n",
    "print(f\"Vetor original: {lista}\")\n",
    "insertionSort(lista)\n",
    "print(f\"Vetor ordenado: {lista}\")         "
   ]
  },
  {
   "cell_type": "code",
   "execution_count": null,
   "metadata": {
    "colab": {
     "base_uri": "https://localhost:8080/"
    },
    "executionInfo": {
     "elapsed": 227,
     "status": "ok",
     "timestamp": 1631710701764,
     "user": {
      "displayName": "Waldeyr Mendes Cordeiro da Silva",
      "photoUrl": "https://lh3.googleusercontent.com/a-/AOh14GgXl7vAH6l0VPjECKc5e3QXWv0QmnF7d2o7ekhr7-E=s64",
      "userId": "06543881337980292104"
     },
     "user_tz": 180
    },
    "id": "LP3bFQ7tdBfc",
    "outputId": "0a4bf210-7986-44f6-b2e9-bfb1ed947066"
   },
   "outputs": [
    {
     "name": "stdout",
     "output_type": "stream",
     "text": [
      "Vetor original: [5, 4, 3, 2, 1]\n",
      "Vetor ordenado: [1, 2, 3, 4, 5]\n"
     ]
    }
   ],
   "source": [
    "# Ordenação por seleção\n",
    "def selectionSort(lista):\n",
    "    for posicao in range(len(lista)): \n",
    "        # Encontrar o menor elemento da lista \n",
    "        posicao_menor = posicao \n",
    "        for j in range(posicao+1, len(lista)): \n",
    "            if lista[j] < lista[posicao_menor]: \n",
    "                posicao_menor = j \n",
    "        # Trocar o menor elemento da lista com a posição mais à esquerda ainda não ordenada         \n",
    "        lista[posicao], lista[posicao_menor] = lista[posicao_menor], lista[posicao] \n",
    "\n",
    "lista = [5,4,3,2,1]\n",
    "print(f\"Vetor original: {lista}\")\n",
    "selectionSort(lista)\n",
    "print(f\"Vetor ordenado: {lista}\")        "
   ]
  },
  {
   "cell_type": "code",
   "execution_count": null,
   "metadata": {
    "colab": {
     "base_uri": "https://localhost:8080/"
    },
    "executionInfo": {
     "elapsed": 262,
     "status": "ok",
     "timestamp": 1631710707577,
     "user": {
      "displayName": "Waldeyr Mendes Cordeiro da Silva",
      "photoUrl": "https://lh3.googleusercontent.com/a-/AOh14GgXl7vAH6l0VPjECKc5e3QXWv0QmnF7d2o7ekhr7-E=s64",
      "userId": "06543881337980292104"
     },
     "user_tz": 180
    },
    "id": "HMxE1-dccOAF",
    "outputId": "b352900e-3621-46a0-915c-e87d3bcc345d"
   },
   "outputs": [
    {
     "name": "stdout",
     "output_type": "stream",
     "text": [
      "Vetor original: [5, 4, 3, 2, 1]\n",
      "Vetor ordenado: [1, 2, 3, 4, 5]\n"
     ]
    }
   ],
   "source": [
    "###############################################################################\n",
    "# Merge Sort\n",
    "# O vetor é dividido de forma recursiva meio a meio até que haja apenas um elemento;\n",
    "# Os elementos de cada metade são comparados e ordenados;\n",
    "# Usa vetores auxiliares (esquerda e direita) para guardar as metades ordenadas = (maior gasto de memória)\n",
    "###############################################################################\n",
    "def mergesort(lista):\n",
    "    if len(lista) < 2:\n",
    "        return\n",
    "    else:\n",
    "        meio = len(lista) // 2\n",
    "        esquerda = lista[:meio]\n",
    "        direita = lista[meio:]\n",
    "        mergesort(esquerda)\n",
    "        mergesort(direita)\n",
    "        p = 0 # indice da particao esquerda\n",
    "        q = 0 # indice da particao direita\n",
    "        r = 0 # indice da particao juntada\n",
    "        while p < len(esquerda) and q < len(direita): # enquanto particao esq,dir\n",
    "            if esquerda[p] < direita[q]:\n",
    "                lista[r] = esquerda[p] \n",
    "                p += 1\n",
    "            else:\n",
    "                lista[r] = direita[q]\n",
    "                q += 1\n",
    "            r += 1\n",
    "        while p < len(esquerda):\n",
    "            lista[r] = esquerda[p]\n",
    "            p += 1\n",
    "            r += 1\n",
    "        while q < len(direita):\n",
    "            lista[r] = direita[q]\n",
    "            q += 1\n",
    "            r += 1\n",
    "\n",
    "lista = [5,4,3,2,1]\n",
    "print(f\"Vetor original: {lista}\")\n",
    "mergesort(lista)\n",
    "print(f\"Vetor ordenado: {lista}\")"
   ]
  },
  {
   "cell_type": "code",
   "execution_count": null,
   "metadata": {
    "colab": {
     "base_uri": "https://localhost:8080/"
    },
    "executionInfo": {
     "elapsed": 244,
     "status": "ok",
     "timestamp": 1631712108745,
     "user": {
      "displayName": "Waldeyr Mendes Cordeiro da Silva",
      "photoUrl": "https://lh3.googleusercontent.com/a-/AOh14GgXl7vAH6l0VPjECKc5e3QXWv0QmnF7d2o7ekhr7-E=s64",
      "userId": "06543881337980292104"
     },
     "user_tz": 180
    },
    "id": "YcAEmSRZviV1",
    "outputId": "41e079ca-07aa-442f-b823-9758434e00ce"
   },
   "outputs": [
    {
     "name": "stdout",
     "output_type": "stream",
     "text": [
      "Vetor original: [5, 4, 3, 2, 1]\n",
      "Vetor ordenado: [1, 2, 3, 4, 5]\n"
     ]
    }
   ],
   "source": [
    "def quicksort(lista):\n",
    "    quicksort_aux(lista, 0, len(lista)-1)\n",
    "\n",
    "def quicksort_aux(lista, menor, maior):\n",
    "    if menor < maior:\n",
    "        p = particao(lista, menor, maior)\n",
    "        quicksort_aux(lista, menor, p)\n",
    "        quicksort_aux(lista, p + 1, maior)\n",
    "\n",
    "def particao(lista, menor, maior):\n",
    "    pivot = lista[menor]\n",
    "    i, j = menor-1, maior+1\n",
    "    while True:\n",
    "        i += 1\n",
    "        j -= 1\n",
    "        while(lista[i] < pivot): i+= 1\n",
    "        while(lista[j] > pivot ): j-= 1\n",
    "        if i >= j: \n",
    "            return j\n",
    "        lista[i], lista[j] = lista[j], lista[i]\n",
    "\n",
    "lista = [5,4,3,2,1]\n",
    "print(f\"Vetor original: {lista}\")\n",
    "quicksort(lista)\n",
    "print(f\"Vetor ordenado: {lista}\")"
   ]
  },
  {
   "cell_type": "code",
   "execution_count": null,
   "metadata": {
    "colab": {
     "base_uri": "https://localhost:8080/"
    },
    "executionInfo": {
     "elapsed": 266,
     "status": "ok",
     "timestamp": 1637839708155,
     "user": {
      "displayName": "Waldeyr Mendes Cordeiro da Silva",
      "photoUrl": "https://lh3.googleusercontent.com/a-/AOh14GgXl7vAH6l0VPjECKc5e3QXWv0QmnF7d2o7ekhr7-E=s64",
      "userId": "06543881337980292104"
     },
     "user_tz": 180
    },
    "id": "HC61CUvN2Oh2",
    "outputId": "a3d2fb27-eff6-49d7-b79a-245d78eb2e55"
   },
   "outputs": [
    {
     "name": "stdout",
     "output_type": "stream",
     "text": [
      "Vetor original: [5, 4, 3, 2, 1]\n",
      "Vetor ordenado: [5, 4, 3, 2, 1]\n"
     ]
    }
   ],
   "source": [
    "def quicksortAlternativo(lista):\n",
    "    if len(lista) <= 1:\n",
    "        return lista\n",
    "    pivot = lista[len(lista) // 2]\n",
    "    esquerda = [x for x in lista if x < pivot]\n",
    "    meio = [x for x in lista if x == pivot]\n",
    "    direita = [x for x in lista if x > pivot]\n",
    "    return quicksortAlternativo(esquerda) + meio + quicksortAlternativo(direita)\n",
    "\n",
    "lista = [5,4,3,2,1]\n",
    "print(f\"Vetor original: {lista}\")\n",
    "quicksortAlternativo(lista)\n",
    "print(f\"Vetor ordenado: {lista}\")"
   ]
  },
  {
   "cell_type": "markdown",
   "metadata": {
    "id": "2QrRfV1pnx4J"
   },
   "source": [
    "## Filas\n",
    "\n"
   ]
  },
  {
   "cell_type": "code",
   "execution_count": null,
   "metadata": {
    "id": "PWubJaU7B6l7",
    "outputId": "64518c1e-b309-40bc-eb01-e009d4c7e50f"
   },
   "outputs": [
    {
     "name": "stdout",
     "output_type": "stream",
     "text": [
      "123\n",
      "Ana\n",
      "456\n",
      "Bia\n"
     ]
    }
   ],
   "source": [
    "class Aluno:\n",
    "    def __init__(self, matricula, nome):\n",
    "        self.matricula = matricula\n",
    "        self.nome = nome\n",
    "\n",
    "   \n",
    "aluno1 = Aluno(123 ,\"Ana\")\n",
    "print(aluno1.matricula)\n",
    "print(aluno1.nome)\n",
    "\n",
    "\n",
    "aluno2 = Aluno(456 ,\"Bia\")\n",
    "print(aluno2.matricula)\n",
    "print(aluno2.nome)"
   ]
  },
  {
   "cell_type": "code",
   "execution_count": null,
   "metadata": {
    "id": "kxlpKHf7B6l8"
   },
   "outputs": [],
   "source": [
    "class No:    \n",
    "    def __init__(self, valor, prox = None):\n",
    "        self.valor = valor\n",
    "        self.prox = prox\n",
    "        \n",
    "class Fila:\n",
    "    def __init__(self):\n",
    "        self._cabeca = None\n",
    "        self._cauda = None\n",
    "        self._tamanho = 0\n",
    "        \n",
    "    def inserir(self, valor):\n",
    "        if self._tamanho == 0:\n",
    "            no = No(valor = valor, prox = None)\n",
    "            self._cabeca = no\n",
    "            self._cauda  = no\n",
    "        else:\n",
    "            self._cauda.prox = No(valor = valor, prox = None)\n",
    "            self._cauda = self._cauda.prox\n",
    "        self._tamanho += 1\n",
    "        \n",
    "    def retirar(self):\n",
    "        if self._tamanho == 0:\n",
    "            print(\"Lista vazia\")\n",
    "        else:\n",
    "            no = self._cabeca\n",
    "            self._cabeca = self._cabeca.prox\n",
    "            self._tamanho -= 1\n",
    "            if self._tamanho == 0:\n",
    "                self._cauda = None\n",
    "            return no.valor"
   ]
  },
  {
   "cell_type": "code",
   "execution_count": null,
   "metadata": {
    "id": "VC1kp1SWB6l9",
    "outputId": "a1560bf4-c24f-43f8-c64a-d283721ab769"
   },
   "outputs": [
    {
     "name": "stdout",
     "output_type": "stream",
     "text": [
      "Lista vazia\n"
     ]
    }
   ],
   "source": [
    "fila = Fila()# Criando a variavel (objeto) do tipo Fila (classe)\n",
    "fila.inserir(2) # Inserindo o valor 2 na fila\n",
    "fila.inserir(4)\n",
    "fila.inserir(6)\n",
    "fila.inserir(8)\n",
    "fila.retirar()\n",
    "fila.retirar()\n",
    "fila.retirar()\n",
    "fila.retirar()\n",
    "fila.retirar()"
   ]
  },
  {
   "cell_type": "code",
   "execution_count": null,
   "metadata": {
    "id": "ZwsVqpK-B6l-"
   },
   "outputs": [],
   "source": [
    "class Fila2:\n",
    "    def __init__(self):\n",
    "        self.proximo_a_entrar = 0\n",
    "        self.proximo_a_sair   = 0\n",
    "        self.items = {}\n",
    "    def inserir(self, valor):\n",
    "        self.items[self.proximo_a_entrar] = valor\n",
    "        self.proximo_a_entrar += 1\n",
    "    def retirar(self, n =- 1):\n",
    "        if not self.items:\n",
    "            print(\"Lista vazia\")\n",
    "        else:\n",
    "            valor = self.items[self.proximo_a_sair]\n",
    "            del self.items[self.proximo_a_sair]\n",
    "            self.proximo_a_sair += 1\n",
    "            return valor"
   ]
  },
  {
   "cell_type": "code",
   "execution_count": null,
   "metadata": {
    "id": "8hvBwYuvB6l_",
    "outputId": "c9200f87-de48-45a2-b844-f1b2393c909d"
   },
   "outputs": [
    {
     "name": "stdout",
     "output_type": "stream",
     "text": [
      "Lista vazia\n"
     ]
    }
   ],
   "source": [
    "fila2 = Fila2()# Criando a variavel (objeto) do tipo Fila (classe)\n",
    "fila2.inserir(2) # Inserindo o valor 2 na fila\n",
    "fila2.inserir(4)\n",
    "fila2.inserir(6)\n",
    "fila2.inserir(8)\n",
    "fila2.retirar()\n",
    "fila2.retirar()\n",
    "fila2.retirar()\n",
    "fila2.retirar()\n",
    "fila2.retirar()"
   ]
  },
  {
   "cell_type": "code",
   "execution_count": null,
   "metadata": {
    "colab": {
     "base_uri": "https://localhost:8080/"
    },
    "executionInfo": {
     "elapsed": 952,
     "status": "ok",
     "timestamp": 1611918473896,
     "user": {
      "displayName": "Waldeyr Mendes Cordeiro da Silva",
      "photoUrl": "https://lh3.googleusercontent.com/a-/AOh14Gin9oTjE5yZZVccDTu-s4ehJHyLTj_xnnEbm3R9Afc=s64",
      "userId": "06543881337980292104"
     },
     "user_tz": 180
    },
    "id": "cLPjyLizKGKV",
    "outputId": "ccf937fd-4997-4ff2-c185-f6adc7d80d05"
   },
   "outputs": [
    {
     "name": "stdout",
     "output_type": "stream",
     "text": [
      "Fila:  deque(['Abacate', 'Banana', 'Cupuaçu'])\n",
      "Abacate\n",
      "Adicionando um elemento:  deque(['Abacate', 'Banana', 'Cupuaçu', 'Tamarindo'])\n",
      "Abacate\n",
      "Removendo um elemento:  deque(['Banana', 'Cupuaçu', 'Tamarindo'])\n",
      "Banana\n"
     ]
    }
   ],
   "source": [
    "# Filas em Python3\n",
    "\n",
    "from collections import deque\n",
    "\n",
    "# Criando uma fila com três elementos\n",
    "fila = deque([\"Abacate\", \"Banana\", \"Cupuaçu\"])\n",
    "print(\"Fila: \", fila)\n",
    "print(fila[0])\n",
    "\n",
    "# Adiciona um elemento ao final da fila\n",
    "fila.append(\"Tamarindo\")\n",
    "print(\"Adicionando um elemento: \", fila)\n",
    "print(fila[0])\n",
    "\n",
    "# Remove o primeiro elemento adicionado à fila\n",
    "fila.popleft()\n",
    "print(\"Removendo um elemento: \", fila)\n",
    "\n",
    "print(fila[0])"
   ]
  },
  {
   "cell_type": "code",
   "execution_count": null,
   "metadata": {
    "colab": {
     "base_uri": "https://localhost:8080/"
    },
    "executionInfo": {
     "elapsed": 705,
     "status": "ok",
     "timestamp": 1611918958836,
     "user": {
      "displayName": "Waldeyr Mendes Cordeiro da Silva",
      "photoUrl": "https://lh3.googleusercontent.com/a-/AOh14Gin9oTjE5yZZVccDTu-s4ehJHyLTj_xnnEbm3R9Afc=s64",
      "userId": "06543881337980292104"
     },
     "user_tz": 180
    },
    "id": "3af3f0VXMSDj",
    "outputId": "deff6d6e-f65c-4279-9c69-6fa989b16576"
   },
   "outputs": [
    {
     "name": "stdout",
     "output_type": "stream",
     "text": [
      "deque([])\n",
      "deque([10])\n",
      "deque([10, 20])\n",
      "deque([10, 20, 30])\n",
      "deque([10, 20, 30, 40])\n",
      "deque([10, 20, 30, 40, 50])\n",
      "deque([20, 30, 40, 50])\n",
      "deque([30, 40, 50])\n",
      "deque([40, 50])\n",
      "deque([50])\n",
      "deque([])\n"
     ]
    }
   ],
   "source": [
    "# Exemplo com fila\n",
    "\n",
    "from collections import deque\n",
    "fila = deque([])\n",
    "\n",
    "print(fila)\n",
    "fila.append(10)\n",
    "print(fila)\n",
    "fila.append(20)\n",
    "print(fila)\n",
    "fila.append(30)\n",
    "print(fila)\n",
    "fila.append(40)\n",
    "print(fila)\n",
    "fila.append(50)\n",
    "print(fila)\n",
    "fila.popleft()\n",
    "print(fila)\n",
    "fila.popleft()\n",
    "print(fila)\n",
    "fila.popleft()\n",
    "print(fila)\n",
    "fila.popleft()\n",
    "print(fila)\n",
    "fila.popleft()\n",
    "print(fila)"
   ]
  },
  {
   "cell_type": "markdown",
   "metadata": {
    "id": "Pyu7HQprn4v_"
   },
   "source": [
    "## Pilhas"
   ]
  },
  {
   "cell_type": "code",
   "execution_count": null,
   "metadata": {
    "colab": {
     "base_uri": "https://localhost:8080/"
    },
    "executionInfo": {
     "elapsed": 1264,
     "status": "ok",
     "timestamp": 1611840376884,
     "user": {
      "displayName": "Waldeyr Mendes Cordeiro da Silva",
      "photoUrl": "https://lh3.googleusercontent.com/a-/AOh14Gin9oTjE5yZZVccDTu-s4ehJHyLTj_xnnEbm3R9Afc=s64",
      "userId": "06543881337980292104"
     },
     "user_tz": 180
    },
    "id": "YxKCbGOpKxjQ",
    "outputId": "e84c8a7f-095e-4dc4-d258-52b9cba079df"
   },
   "outputs": [
    {
     "name": "stdout",
     "output_type": "stream",
     "text": [
      "Fila:  ['Abacate', 'Banana', 'Cupuaçu']\n",
      "Adicionando um elemento:  ['Abacate', 'Banana', 'Cupuaçu', 'Tamarindo']\n",
      "Removendo um elemento:  ['Abacate', 'Banana', 'Cupuaçu']\n"
     ]
    }
   ],
   "source": [
    "# Pilhas em Python3\n",
    "\n",
    "# Criando uma pilha (lista) com três elementos\n",
    "pilha = [\"Abacate\", \"Banana\", \"Cupuaçu\"]\n",
    "print(\"Fila: \", pilha)\n",
    "\n",
    "# Adiciona um elemento ao inicio da pilha\n",
    "pilha.append(\"Tamarindo\")\n",
    "print(\"Adicionado um elemento: \", pilha)\n",
    "\n",
    "# Remove o primeiro elemento adicionado à pilha\n",
    "pilha.pop()\n",
    "print(\"Removendo um elemento: \", pilha)"
   ]
  },
  {
   "cell_type": "code",
   "execution_count": null,
   "metadata": {
    "colab": {
     "base_uri": "https://localhost:8080/"
    },
    "executionInfo": {
     "elapsed": 824,
     "status": "ok",
     "timestamp": 1611920258642,
     "user": {
      "displayName": "Waldeyr Mendes Cordeiro da Silva",
      "photoUrl": "https://lh3.googleusercontent.com/a-/AOh14Gin9oTjE5yZZVccDTu-s4ehJHyLTj_xnnEbm3R9Afc=s64",
      "userId": "06543881337980292104"
     },
     "user_tz": 180
    },
    "id": "bT6f0Iz4OsVu",
    "outputId": "c0a91721-1653-40e1-fed2-56860038c18e"
   },
   "outputs": [
    {
     "name": "stdout",
     "output_type": "stream",
     "text": [
      "[]\n",
      "[10]\n",
      "[10, 20]\n",
      "[10, 20, 30]\n",
      "[10, 20, 30, 40]\n",
      "[10, 20, 30, 40, 50]\n",
      "[10, 20, 30, 40]\n",
      "[10, 20, 30]\n",
      "[10, 20]\n",
      "[10]\n",
      "[]\n"
     ]
    }
   ],
   "source": [
    "# Exemplo com pilhas\n",
    "pilha = []\n",
    "\n",
    "print(pilha)\n",
    "pilha.append(10)\n",
    "print(pilha)\n",
    "pilha.append(20)\n",
    "print(pilha)\n",
    "pilha.append(30)\n",
    "print(pilha)\n",
    "pilha.append(40)\n",
    "print(pilha)\n",
    "pilha.append(50)\n",
    "print(pilha)\n",
    "pilha.pop()\n",
    "print(pilha)\n",
    "pilha.pop()\n",
    "print(pilha)\n",
    "pilha.pop()\n",
    "print(pilha)\n",
    "pilha.pop()\n",
    "print(pilha)\n",
    "pilha.pop()\n",
    "print(pilha)\n",
    "\n",
    "\n"
   ]
  },
  {
   "cell_type": "markdown",
   "metadata": {
    "id": "_XObH-PE9Sjt"
   },
   "source": [
    "## Árvores binárias"
   ]
  },
  {
   "cell_type": "code",
   "execution_count": null,
   "metadata": {
    "id": "OSXqN9Kz2JM7",
    "outputId": "1d86eb75-cb90-4fa3-f6d1-fb8ca9d4aae4"
   },
   "outputs": [
    {
     "name": "stdout",
     "output_type": "stream",
     "text": [
      "Collecting graphviz\n",
      "  Downloading graphviz-0.18.2-py3-none-any.whl (39 kB)\n",
      "Installing collected packages: graphviz\n",
      "Successfully installed graphviz-0.18.2\n"
     ]
    }
   ],
   "source": [
    "!pip install graphviz"
   ]
  },
  {
   "cell_type": "code",
   "execution_count": null,
   "metadata": {
    "id": "G0oHQtxOuZPo"
   },
   "outputs": [],
   "source": [
    "# Criando um novo tipo de dados em Python, o nó que contem um valor e outros nós à esquerda e à direita\n",
    "from graphviz import Digraph # biblioteca graphviz\n",
    "class Arvore:\n",
    "    def __init__( self, valor = None, esquerda = None, direita = None ):\n",
    "        self.valor = valor\n",
    "        self.esquerda = esquerda\n",
    "        self.direita = direita\n",
    "\n",
    "    def verArvore(self, raiz):\n",
    "        \"\"\"\n",
    "        Método para visualização gráfica da árvore usando a biblioteca graphviz\n",
    "        \"\"\"\n",
    "        def adicionar_nos_arestas(raiz, dot = None):\n",
    "            # Create Digraph object\n",
    "            if dot is None:\n",
    "                dot = Digraph()\n",
    "                dot.node(name = str(raiz), label = str(raiz.valor))\n",
    "            # Add nodes\n",
    "            if raiz.esquerda:\n",
    "                dot.node(name=str(raiz.esquerda) ,label=str(raiz.esquerda.valor))\n",
    "                dot.edge(str(raiz), str(raiz.esquerda)+\":ne\")\n",
    "                dot = adicionar_nos_arestas(raiz.esquerda, dot = dot)\n",
    "\n",
    "            if raiz.direita:\n",
    "                dot.node(name = str(raiz.direita) ,label = str(raiz.direita.valor))\n",
    "                dot.edge(str(raiz), str(raiz.direita)+\":nw\")\n",
    "                dot = adicionar_nos_arestas(raiz.direita, dot = dot)\n",
    "            return dot\n",
    "        # Adiciona recursivamente nós e cria uma lista de arestas\n",
    "        dot = adicionar_nos_arestas(raiz)\n",
    "        # retorna a visualização\n",
    "        return dot\n"
   ]
  },
  {
   "cell_type": "code",
   "execution_count": null,
   "metadata": {
    "colab": {
     "base_uri": "https://localhost:8080/",
     "height": 271
    },
    "executionInfo": {
     "elapsed": 270,
     "status": "ok",
     "timestamp": 1636115997709,
     "user": {
      "displayName": "Waldeyr Mendes Cordeiro da Silva",
      "photoUrl": "https://lh3.googleusercontent.com/a-/AOh14GgXl7vAH6l0VPjECKc5e3QXWv0QmnF7d2o7ekhr7-E=s64",
      "userId": "06543881337980292104"
     },
     "user_tz": 180
    },
    "id": "2El-QwCcoJ5T",
    "outputId": "d8b78e62-ff0d-4a70-859d-58f070cfa70e"
   },
   "outputs": [
    {
     "data": {
      "image/svg+xml": [
       "<?xml version=\"1.0\" encoding=\"UTF-8\" standalone=\"no\"?>\n",
       "<!DOCTYPE svg PUBLIC \"-//W3C//DTD SVG 1.1//EN\"\n",
       " \"http://www.w3.org/Graphics/SVG/1.1/DTD/svg11.dtd\">\n",
       "<!-- Generated by graphviz version 2.44.0 (0)\n",
       " -->\n",
       "<!-- Pages: 1 -->\n",
       "<svg width=\"278pt\" height=\"188pt\"\n",
       " viewBox=\"0.00 0.00 278.00 188.00\" xmlns=\"http://www.w3.org/2000/svg\" xmlns:xlink=\"http://www.w3.org/1999/xlink\">\n",
       "<g id=\"graph0\" class=\"graph\" transform=\"scale(1 1) rotate(0) translate(4 184)\">\n",
       "<polygon fill=\"white\" stroke=\"transparent\" points=\"-4,4 -4,-184 274,-184 274,4 -4,4\"/>\n",
       "<!-- __main__.Arvore object at 0x7efc5edc2e48 -->\n",
       "<g id=\"node1\" class=\"node\">\n",
       "<title>__main__.Arvore object at 0x7efc5edc2e48</title>\n",
       "<ellipse fill=\"none\" stroke=\"black\" cx=\"135\" cy=\"-162\" rx=\"27\" ry=\"18\"/>\n",
       "<text text-anchor=\"middle\" x=\"135\" y=\"-158.3\" font-family=\"Times-Roman\" font-size=\"14.00\">5</text>\n",
       "</g>\n",
       "<!-- __main__.Arvore object at 0x7efc5edc2e10 -->\n",
       "<g id=\"node2\" class=\"node\">\n",
       "<title>__main__.Arvore object at 0x7efc5edc2e10</title>\n",
       "<ellipse fill=\"none\" stroke=\"black\" cx=\"84\" cy=\"-90\" rx=\"27\" ry=\"18\"/>\n",
       "<text text-anchor=\"middle\" x=\"84\" y=\"-86.3\" font-family=\"Times-Roman\" font-size=\"14.00\">3</text>\n",
       "</g>\n",
       "<!-- __main__.Arvore object at 0x7efc5edc2e48&#45;&gt;__main__.Arvore object at 0x7efc5edc2e10 -->\n",
       "<g id=\"edge1\" class=\"edge\">\n",
       "<title>__main__.Arvore object at 0x7efc5edc2e48&#45;&gt;__main__.Arvore object at 0x7efc5edc2e10:ne</title>\n",
       "<path fill=\"none\" stroke=\"black\" d=\"M126.76,-144.81C121.6,-135.5 114.31,-123.66 105.77,-113.44\"/>\n",
       "<polygon fill=\"black\" stroke=\"black\" points=\"108.32,-111.04 99,-106 103.14,-115.75 108.32,-111.04\"/>\n",
       "</g>\n",
       "<!-- __main__.Arvore object at 0x7efc5edc24a8 -->\n",
       "<g id=\"node5\" class=\"node\">\n",
       "<title>__main__.Arvore object at 0x7efc5edc24a8</title>\n",
       "<ellipse fill=\"none\" stroke=\"black\" cx=\"186\" cy=\"-90\" rx=\"27\" ry=\"18\"/>\n",
       "<text text-anchor=\"middle\" x=\"186\" y=\"-86.3\" font-family=\"Times-Roman\" font-size=\"14.00\">8</text>\n",
       "</g>\n",
       "<!-- __main__.Arvore object at 0x7efc5edc2e48&#45;&gt;__main__.Arvore object at 0x7efc5edc24a8 -->\n",
       "<g id=\"edge4\" class=\"edge\">\n",
       "<title>__main__.Arvore object at 0x7efc5edc2e48&#45;&gt;__main__.Arvore object at 0x7efc5edc24a8:nw</title>\n",
       "<path fill=\"none\" stroke=\"black\" d=\"M143.24,-144.81C148.4,-135.5 155.69,-123.66 164.23,-113.44\"/>\n",
       "<polygon fill=\"black\" stroke=\"black\" points=\"166.86,-115.75 171,-106 161.68,-111.04 166.86,-115.75\"/>\n",
       "</g>\n",
       "<!-- __main__.Arvore object at 0x7efc6c036160 -->\n",
       "<g id=\"node3\" class=\"node\">\n",
       "<title>__main__.Arvore object at 0x7efc6c036160</title>\n",
       "<ellipse fill=\"none\" stroke=\"black\" cx=\"27\" cy=\"-18\" rx=\"27\" ry=\"18\"/>\n",
       "<text text-anchor=\"middle\" x=\"27\" y=\"-14.3\" font-family=\"Times-Roman\" font-size=\"14.00\">1</text>\n",
       "</g>\n",
       "<!-- __main__.Arvore object at 0x7efc5edc2e10&#45;&gt;__main__.Arvore object at 0x7efc6c036160 -->\n",
       "<g id=\"edge2\" class=\"edge\">\n",
       "<title>__main__.Arvore object at 0x7efc5edc2e10&#45;&gt;__main__.Arvore object at 0x7efc6c036160:ne</title>\n",
       "<path fill=\"none\" stroke=\"black\" d=\"M73.61,-73.17C67.22,-63.91 58.46,-52 48.99,-41.42\"/>\n",
       "<polygon fill=\"black\" stroke=\"black\" points=\"51.41,-38.88 42,-34 46.31,-43.68 51.41,-38.88\"/>\n",
       "</g>\n",
       "<!-- __main__.Arvore object at 0x7efc5edc24e0 -->\n",
       "<g id=\"node4\" class=\"node\">\n",
       "<title>__main__.Arvore object at 0x7efc5edc24e0</title>\n",
       "<ellipse fill=\"none\" stroke=\"black\" cx=\"99\" cy=\"-18\" rx=\"27\" ry=\"18\"/>\n",
       "<text text-anchor=\"middle\" x=\"99\" y=\"-14.3\" font-family=\"Times-Roman\" font-size=\"14.00\">4</text>\n",
       "</g>\n",
       "<!-- __main__.Arvore object at 0x7efc5edc2e10&#45;&gt;__main__.Arvore object at 0x7efc5edc24e0 -->\n",
       "<g id=\"edge3\" class=\"edge\">\n",
       "<title>__main__.Arvore object at 0x7efc5edc2e10&#45;&gt;__main__.Arvore object at 0x7efc5edc24e0:nw</title>\n",
       "<path fill=\"none\" stroke=\"black\" d=\"M78.42,-72.21C76.25,-63.08 75.02,-51.81 78.5,-42.63\"/>\n",
       "<polygon fill=\"black\" stroke=\"black\" points=\"81.58,-44.31 84,-34 75.68,-40.55 81.58,-44.31\"/>\n",
       "</g>\n",
       "<!-- __main__.Arvore object at 0x7efc5edc2438 -->\n",
       "<g id=\"node6\" class=\"node\">\n",
       "<title>__main__.Arvore object at 0x7efc5edc2438</title>\n",
       "<ellipse fill=\"none\" stroke=\"black\" cx=\"171\" cy=\"-18\" rx=\"27\" ry=\"18\"/>\n",
       "<text text-anchor=\"middle\" x=\"171\" y=\"-14.3\" font-family=\"Times-Roman\" font-size=\"14.00\">7</text>\n",
       "</g>\n",
       "<!-- __main__.Arvore object at 0x7efc5edc24a8&#45;&gt;__main__.Arvore object at 0x7efc5edc2438 -->\n",
       "<g id=\"edge5\" class=\"edge\">\n",
       "<title>__main__.Arvore object at 0x7efc5edc24a8&#45;&gt;__main__.Arvore object at 0x7efc5edc2438:ne</title>\n",
       "<path fill=\"none\" stroke=\"black\" d=\"M191.58,-72.21C193.75,-63.08 194.98,-51.81 191.5,-42.63\"/>\n",
       "<polygon fill=\"black\" stroke=\"black\" points=\"194.32,-40.55 186,-34 188.42,-44.31 194.32,-40.55\"/>\n",
       "</g>\n",
       "<!-- __main__.Arvore object at 0x7efc5edc2518 -->\n",
       "<g id=\"node7\" class=\"node\">\n",
       "<title>__main__.Arvore object at 0x7efc5edc2518</title>\n",
       "<ellipse fill=\"none\" stroke=\"black\" cx=\"243\" cy=\"-18\" rx=\"27\" ry=\"18\"/>\n",
       "<text text-anchor=\"middle\" x=\"243\" y=\"-14.3\" font-family=\"Times-Roman\" font-size=\"14.00\">10</text>\n",
       "</g>\n",
       "<!-- __main__.Arvore object at 0x7efc5edc24a8&#45;&gt;__main__.Arvore object at 0x7efc5edc2518 -->\n",
       "<g id=\"edge6\" class=\"edge\">\n",
       "<title>__main__.Arvore object at 0x7efc5edc24a8&#45;&gt;__main__.Arvore object at 0x7efc5edc2518:nw</title>\n",
       "<path fill=\"none\" stroke=\"black\" d=\"M196.39,-73.17C202.78,-63.91 211.54,-52 221.01,-41.42\"/>\n",
       "<polygon fill=\"black\" stroke=\"black\" points=\"223.69,-43.68 228,-34 218.59,-38.88 223.69,-43.68\"/>\n",
       "</g>\n",
       "</g>\n",
       "</svg>\n"
      ],
      "text/plain": [
       "<graphviz.graphs.Digraph at 0x7efc5edc2400>"
      ]
     },
     "execution_count": 13,
     "metadata": {},
     "output_type": "execute_result"
    }
   ],
   "source": [
    "# Exemplo de árvore binária utilizando a classe acima\n",
    "#cria a árvore no por nó a partir de um nó inicial (raiz)\n",
    "arvore = Arvore(5)\n",
    "arvore.esquerda = Arvore(3)\n",
    "arvore.esquerda.esquerda = Arvore(1)\n",
    "arvore.esquerda.direita = Arvore(4)\n",
    "arvore.direita = Arvore(8)\n",
    "arvore.direita.esquerda = Arvore(7)\n",
    "arvore.direita.direita = Arvore(10)\n",
    "# Gera a imagem da árvora usando a bilioteca graphviz\n",
    "arvore.verArvore(arvore)\n",
    "# Neste exemplo, os valores foram inseridos na árvore de forma que suas posições foram manualmente escolhidas com base nos valores."
   ]
  },
  {
   "cell_type": "code",
   "execution_count": null,
   "metadata": {
    "colab": {
     "base_uri": "https://localhost:8080/",
     "height": 464
    },
    "executionInfo": {
     "elapsed": 897,
     "status": "ok",
     "timestamp": 1636719446561,
     "user": {
      "displayName": "Waldeyr Mendes Cordeiro da Silva",
      "photoUrl": "https://lh3.googleusercontent.com/a-/AOh14GgXl7vAH6l0VPjECKc5e3QXWv0QmnF7d2o7ekhr7-E=s64",
      "userId": "06543881337980292104"
     },
     "user_tz": 180
    },
    "id": "A-HzRadroVSE",
    "outputId": "3ab5c582-5a3b-458c-809a-6b2f0b4cfe41"
   },
   "outputs": [
    {
     "data": {
      "image/svg+xml": [
       "<?xml version=\"1.0\" encoding=\"UTF-8\" standalone=\"no\"?>\n",
       "<!DOCTYPE svg PUBLIC \"-//W3C//DTD SVG 1.1//EN\"\n",
       " \"http://www.w3.org/Graphics/SVG/1.1/DTD/svg11.dtd\">\n",
       "<!-- Generated by graphviz version 2.44.0 (0)\n",
       " -->\n",
       "<!-- Pages: 1 -->\n",
       "<svg width=\"272pt\" height=\"332pt\"\n",
       " viewBox=\"0.00 0.00 272.00 332.00\" xmlns=\"http://www.w3.org/2000/svg\" xmlns:xlink=\"http://www.w3.org/1999/xlink\">\n",
       "<g id=\"graph0\" class=\"graph\" transform=\"scale(1 1) rotate(0) translate(4 328)\">\n",
       "<polygon fill=\"white\" stroke=\"transparent\" points=\"-4,4 -4,-328 268,-328 268,4 -4,4\"/>\n",
       "<!-- __main__.Arvore object at 0x7efc5ee48550 -->\n",
       "<g id=\"node1\" class=\"node\">\n",
       "<title>__main__.Arvore object at 0x7efc5ee48550</title>\n",
       "<ellipse fill=\"none\" stroke=\"black\" cx=\"129\" cy=\"-306\" rx=\"27\" ry=\"18\"/>\n",
       "<text text-anchor=\"middle\" x=\"129\" y=\"-302.3\" font-family=\"Times-Roman\" font-size=\"14.00\">3</text>\n",
       "</g>\n",
       "<!-- __main__.Arvore object at 0x7efc5ee16ef0 -->\n",
       "<g id=\"node2\" class=\"node\">\n",
       "<title>__main__.Arvore object at 0x7efc5ee16ef0</title>\n",
       "<ellipse fill=\"none\" stroke=\"black\" cx=\"93\" cy=\"-234\" rx=\"27\" ry=\"18\"/>\n",
       "<text text-anchor=\"middle\" x=\"93\" y=\"-230.3\" font-family=\"Times-Roman\" font-size=\"14.00\">3</text>\n",
       "</g>\n",
       "<!-- __main__.Arvore object at 0x7efc5ee48550&#45;&gt;__main__.Arvore object at 0x7efc5ee16ef0 -->\n",
       "<g id=\"edge1\" class=\"edge\">\n",
       "<title>__main__.Arvore object at 0x7efc5ee48550&#45;&gt;__main__.Arvore object at 0x7efc5ee16ef0:ne</title>\n",
       "<path fill=\"none\" stroke=\"black\" d=\"M126.26,-287.84C124.17,-278.65 120.55,-267.33 114.39,-257.95\"/>\n",
       "<polygon fill=\"black\" stroke=\"black\" points=\"117,-255.6 108,-250 111.54,-259.99 117,-255.6\"/>\n",
       "</g>\n",
       "<!-- __main__.Arvore object at 0x7efc5ee16cf8 -->\n",
       "<g id=\"node7\" class=\"node\">\n",
       "<title>__main__.Arvore object at 0x7efc5ee16cf8</title>\n",
       "<ellipse fill=\"none\" stroke=\"black\" cx=\"165\" cy=\"-234\" rx=\"27\" ry=\"18\"/>\n",
       "<text text-anchor=\"middle\" x=\"165\" y=\"-230.3\" font-family=\"Times-Roman\" font-size=\"14.00\">10</text>\n",
       "</g>\n",
       "<!-- __main__.Arvore object at 0x7efc5ee48550&#45;&gt;__main__.Arvore object at 0x7efc5ee16cf8 -->\n",
       "<g id=\"edge6\" class=\"edge\">\n",
       "<title>__main__.Arvore object at 0x7efc5ee48550&#45;&gt;__main__.Arvore object at 0x7efc5ee16cf8:nw</title>\n",
       "<path fill=\"none\" stroke=\"black\" d=\"M131.74,-287.84C133.83,-278.65 137.45,-267.33 143.61,-257.95\"/>\n",
       "<polygon fill=\"black\" stroke=\"black\" points=\"146.46,-259.99 150,-250 141,-255.6 146.46,-259.99\"/>\n",
       "</g>\n",
       "<!-- __main__.Arvore object at 0x7efc5ee16978 -->\n",
       "<g id=\"node3\" class=\"node\">\n",
       "<title>__main__.Arvore object at 0x7efc5ee16978</title>\n",
       "<ellipse fill=\"none\" stroke=\"black\" cx=\"78\" cy=\"-162\" rx=\"27\" ry=\"18\"/>\n",
       "<text text-anchor=\"middle\" x=\"78\" y=\"-158.3\" font-family=\"Times-Roman\" font-size=\"14.00\">1</text>\n",
       "</g>\n",
       "<!-- __main__.Arvore object at 0x7efc5ee16ef0&#45;&gt;__main__.Arvore object at 0x7efc5ee16978 -->\n",
       "<g id=\"edge2\" class=\"edge\">\n",
       "<title>__main__.Arvore object at 0x7efc5ee16ef0&#45;&gt;__main__.Arvore object at 0x7efc5ee16978:ne</title>\n",
       "<path fill=\"none\" stroke=\"black\" d=\"M98.58,-216.21C100.75,-207.08 101.98,-195.81 98.5,-186.63\"/>\n",
       "<polygon fill=\"black\" stroke=\"black\" points=\"101.32,-184.55 93,-178 95.42,-188.31 101.32,-184.55\"/>\n",
       "</g>\n",
       "<!-- __main__.Arvore object at 0x7efc5ee48828 -->\n",
       "<g id=\"node4\" class=\"node\">\n",
       "<title>__main__.Arvore object at 0x7efc5ee48828</title>\n",
       "<ellipse fill=\"none\" stroke=\"black\" cx=\"42\" cy=\"-90\" rx=\"27\" ry=\"18\"/>\n",
       "<text text-anchor=\"middle\" x=\"42\" y=\"-86.3\" font-family=\"Times-Roman\" font-size=\"14.00\">&#45;1</text>\n",
       "</g>\n",
       "<!-- __main__.Arvore object at 0x7efc5ee16978&#45;&gt;__main__.Arvore object at 0x7efc5ee48828 -->\n",
       "<g id=\"edge3\" class=\"edge\">\n",
       "<title>__main__.Arvore object at 0x7efc5ee16978&#45;&gt;__main__.Arvore object at 0x7efc5ee48828:ne</title>\n",
       "<path fill=\"none\" stroke=\"black\" d=\"M75.26,-143.84C73.17,-134.65 69.55,-123.33 63.39,-113.95\"/>\n",
       "<polygon fill=\"black\" stroke=\"black\" points=\"66,-111.6 57,-106 60.54,-115.99 66,-111.6\"/>\n",
       "</g>\n",
       "<!-- __main__.Arvore object at 0x7efc5ee486a0 -->\n",
       "<g id=\"node6\" class=\"node\">\n",
       "<title>__main__.Arvore object at 0x7efc5ee486a0</title>\n",
       "<ellipse fill=\"none\" stroke=\"black\" cx=\"114\" cy=\"-90\" rx=\"27\" ry=\"18\"/>\n",
       "<text text-anchor=\"middle\" x=\"114\" y=\"-86.3\" font-family=\"Times-Roman\" font-size=\"14.00\">2</text>\n",
       "</g>\n",
       "<!-- __main__.Arvore object at 0x7efc5ee16978&#45;&gt;__main__.Arvore object at 0x7efc5ee486a0 -->\n",
       "<g id=\"edge5\" class=\"edge\">\n",
       "<title>__main__.Arvore object at 0x7efc5ee16978&#45;&gt;__main__.Arvore object at 0x7efc5ee486a0:nw</title>\n",
       "<path fill=\"none\" stroke=\"black\" d=\"M80.74,-143.84C82.83,-134.65 86.45,-123.33 92.61,-113.95\"/>\n",
       "<polygon fill=\"black\" stroke=\"black\" points=\"95.46,-115.99 99,-106 90,-111.6 95.46,-115.99\"/>\n",
       "</g>\n",
       "<!-- __main__.Arvore object at 0x7efc5ee48c88 -->\n",
       "<g id=\"node5\" class=\"node\">\n",
       "<title>__main__.Arvore object at 0x7efc5ee48c88</title>\n",
       "<ellipse fill=\"none\" stroke=\"black\" cx=\"27\" cy=\"-18\" rx=\"27\" ry=\"18\"/>\n",
       "<text text-anchor=\"middle\" x=\"27\" y=\"-14.3\" font-family=\"Times-Roman\" font-size=\"14.00\">&#45;2</text>\n",
       "</g>\n",
       "<!-- __main__.Arvore object at 0x7efc5ee48828&#45;&gt;__main__.Arvore object at 0x7efc5ee48c88 -->\n",
       "<g id=\"edge4\" class=\"edge\">\n",
       "<title>__main__.Arvore object at 0x7efc5ee48828&#45;&gt;__main__.Arvore object at 0x7efc5ee48c88:ne</title>\n",
       "<path fill=\"none\" stroke=\"black\" d=\"M47.58,-72.21C49.75,-63.08 50.98,-51.81 47.5,-42.63\"/>\n",
       "<polygon fill=\"black\" stroke=\"black\" points=\"50.32,-40.55 42,-34 44.42,-44.31 50.32,-40.55\"/>\n",
       "</g>\n",
       "<!-- __main__.Arvore object at 0x7efc5ee48470 -->\n",
       "<g id=\"node8\" class=\"node\">\n",
       "<title>__main__.Arvore object at 0x7efc5ee48470</title>\n",
       "<ellipse fill=\"none\" stroke=\"black\" cx=\"150\" cy=\"-162\" rx=\"27\" ry=\"18\"/>\n",
       "<text text-anchor=\"middle\" x=\"150\" y=\"-158.3\" font-family=\"Times-Roman\" font-size=\"14.00\">7</text>\n",
       "</g>\n",
       "<!-- __main__.Arvore object at 0x7efc5ee16cf8&#45;&gt;__main__.Arvore object at 0x7efc5ee48470 -->\n",
       "<g id=\"edge7\" class=\"edge\">\n",
       "<title>__main__.Arvore object at 0x7efc5ee16cf8&#45;&gt;__main__.Arvore object at 0x7efc5ee48470:ne</title>\n",
       "<path fill=\"none\" stroke=\"black\" d=\"M170.58,-216.21C172.75,-207.08 173.98,-195.81 170.5,-186.63\"/>\n",
       "<polygon fill=\"black\" stroke=\"black\" points=\"173.32,-184.55 165,-178 167.42,-188.31 173.32,-184.55\"/>\n",
       "</g>\n",
       "<!-- __main__.Arvore object at 0x7efc5ee48b00 -->\n",
       "<g id=\"node9\" class=\"node\">\n",
       "<title>__main__.Arvore object at 0x7efc5ee48b00</title>\n",
       "<ellipse fill=\"none\" stroke=\"black\" cx=\"222\" cy=\"-162\" rx=\"27\" ry=\"18\"/>\n",
       "<text text-anchor=\"middle\" x=\"222\" y=\"-158.3\" font-family=\"Times-Roman\" font-size=\"14.00\">20</text>\n",
       "</g>\n",
       "<!-- __main__.Arvore object at 0x7efc5ee16cf8&#45;&gt;__main__.Arvore object at 0x7efc5ee48b00 -->\n",
       "<g id=\"edge8\" class=\"edge\">\n",
       "<title>__main__.Arvore object at 0x7efc5ee16cf8&#45;&gt;__main__.Arvore object at 0x7efc5ee48b00:nw</title>\n",
       "<path fill=\"none\" stroke=\"black\" d=\"M175.39,-217.17C181.78,-207.91 190.54,-196 200.01,-185.42\"/>\n",
       "<polygon fill=\"black\" stroke=\"black\" points=\"202.69,-187.68 207,-178 197.59,-182.88 202.69,-187.68\"/>\n",
       "</g>\n",
       "<!-- __main__.Arvore object at 0x7efc5ee48748 -->\n",
       "<g id=\"node10\" class=\"node\">\n",
       "<title>__main__.Arvore object at 0x7efc5ee48748</title>\n",
       "<ellipse fill=\"none\" stroke=\"black\" cx=\"237\" cy=\"-90\" rx=\"27\" ry=\"18\"/>\n",
       "<text text-anchor=\"middle\" x=\"237\" y=\"-86.3\" font-family=\"Times-Roman\" font-size=\"14.00\">35</text>\n",
       "</g>\n",
       "<!-- __main__.Arvore object at 0x7efc5ee48b00&#45;&gt;__main__.Arvore object at 0x7efc5ee48748 -->\n",
       "<g id=\"edge9\" class=\"edge\">\n",
       "<title>__main__.Arvore object at 0x7efc5ee48b00&#45;&gt;__main__.Arvore object at 0x7efc5ee48748:nw</title>\n",
       "<path fill=\"none\" stroke=\"black\" d=\"M216.42,-144.21C214.25,-135.08 213.02,-123.81 216.5,-114.63\"/>\n",
       "<polygon fill=\"black\" stroke=\"black\" points=\"219.58,-116.31 222,-106 213.68,-112.55 219.58,-116.31\"/>\n",
       "</g>\n",
       "</g>\n",
       "</svg>\n"
      ],
      "text/plain": [
       "<graphviz.graphs.Digraph at 0x7efc5ee16e10>"
      ]
     },
     "execution_count": 19,
     "metadata": {},
     "output_type": "execute_result"
    }
   ],
   "source": [
    "# Criando um novo tipo de dados em Python, o nó que contem um valor e outros nós à esquerda e à direita\n",
    "from graphviz import Digraph # biblioteca graphviz\n",
    "class Arvore:\n",
    "    def __init__( self, valor = None, esquerda = None, direita = None ):\n",
    "        self.valor = valor\n",
    "        self.esquerda = esquerda\n",
    "        self.direita = direita\n",
    "\n",
    "    def verArvore(self, raiz):\n",
    "        \"\"\"\n",
    "        Método para visualização gráfica da árvore usando a biblioteca graphviz\n",
    "        \"\"\"\n",
    "        def adicionar_nos_arestas(raiz, dot = None):\n",
    "            # Create Digraph object\n",
    "            if dot is None:\n",
    "                dot = Digraph()\n",
    "                dot.node(name = str(raiz), label = str(raiz.valor))\n",
    "            # Add nodes\n",
    "            if raiz.esquerda:\n",
    "                dot.node(name=str(raiz.esquerda) ,label=str(raiz.esquerda.valor))\n",
    "                dot.edge(str(raiz), str(raiz.esquerda)+\":ne\")\n",
    "                dot = adicionar_nos_arestas(raiz.esquerda, dot = dot)\n",
    "\n",
    "            if raiz.direita:\n",
    "                dot.node(name = str(raiz.direita) ,label = str(raiz.direita.valor))\n",
    "                dot.edge(str(raiz), str(raiz.direita)+\":nw\")\n",
    "                dot = adicionar_nos_arestas(raiz.direita, dot = dot)\n",
    "            return dot\n",
    "        # Adiciona recursivamente nós e cria uma lista de arestas\n",
    "        dot = adicionar_nos_arestas(raiz)\n",
    "        # retorna a visualização\n",
    "        return dot\n",
    "\n",
    "    def inserir(self, raiz, no):\n",
    "        if raiz is None:\n",
    "            raiz = no\n",
    "        elif  no.valor > raiz.valor: # lado direito\n",
    "            if raiz.direita is None:\n",
    "                raiz.direita = no\n",
    "            else:\n",
    "                self.inserir(raiz.direita, no)\n",
    "        else: # lado esquerdo\n",
    "            if raiz.esquerda is None:\n",
    "                raiz.esquerda = no\n",
    "            else:\n",
    "                self.inserir(raiz.esquerda, no)\n",
    "\n",
    "# Testando a inserção automática\n",
    "arvore = Arvore(3)\n",
    "for valor in [10, 3, 1, 2, -1, -2, 20, 7, 35]:\n",
    "    no = Arvore(valor)\n",
    "    arvore.inserir(arvore, no)\n",
    "# Imprimindo a árvore\n",
    "arvore.verArvore(arvore)"
   ]
  },
  {
   "cell_type": "code",
   "execution_count": null,
   "metadata": {
    "id": "wofQGhnY2JM-",
    "outputId": "a6d55c57-719e-48d1-9061-69d826cd5ea4"
   },
   "outputs": [
    {
     "data": {
      "image/svg+xml": [
       "<?xml version=\"1.0\" encoding=\"UTF-8\" standalone=\"no\"?>\n",
       "<!DOCTYPE svg PUBLIC \"-//W3C//DTD SVG 1.1//EN\"\n",
       " \"http://www.w3.org/Graphics/SVG/1.1/DTD/svg11.dtd\">\n",
       "<!-- Generated by graphviz version 2.44.0 (0)\n",
       " -->\n",
       "<!-- Pages: 1 -->\n",
       "<svg width=\"242pt\" height=\"332pt\"\n",
       " viewBox=\"0.00 0.00 242.00 332.00\" xmlns=\"http://www.w3.org/2000/svg\" xmlns:xlink=\"http://www.w3.org/1999/xlink\">\n",
       "<g id=\"graph0\" class=\"graph\" transform=\"scale(1 1) rotate(0) translate(4 328)\">\n",
       "<polygon fill=\"white\" stroke=\"transparent\" points=\"-4,4 -4,-328 238,-328 238,4 -4,4\"/>\n",
       "<!-- __main__.Arvore object at 0x7efc5ee71358 -->\n",
       "<g id=\"node1\" class=\"node\">\n",
       "<title>__main__.Arvore object at 0x7efc5ee71358</title>\n",
       "<ellipse fill=\"none\" stroke=\"black\" cx=\"114\" cy=\"-306\" rx=\"27\" ry=\"18\"/>\n",
       "<text text-anchor=\"middle\" x=\"114\" y=\"-302.3\" font-family=\"Times-Roman\" font-size=\"14.00\">11</text>\n",
       "</g>\n",
       "<!-- __main__.Arvore object at 0x7efc5ee0abe0 -->\n",
       "<g id=\"node2\" class=\"node\">\n",
       "<title>__main__.Arvore object at 0x7efc5ee0abe0</title>\n",
       "<ellipse fill=\"none\" stroke=\"black\" cx=\"78\" cy=\"-234\" rx=\"27\" ry=\"18\"/>\n",
       "<text text-anchor=\"middle\" x=\"78\" y=\"-230.3\" font-family=\"Times-Roman\" font-size=\"14.00\">10</text>\n",
       "</g>\n",
       "<!-- __main__.Arvore object at 0x7efc5ee71358&#45;&gt;__main__.Arvore object at 0x7efc5ee0abe0 -->\n",
       "<g id=\"edge1\" class=\"edge\">\n",
       "<title>__main__.Arvore object at 0x7efc5ee71358&#45;&gt;__main__.Arvore object at 0x7efc5ee0abe0:ne</title>\n",
       "<path fill=\"none\" stroke=\"black\" d=\"M111.26,-287.84C109.17,-278.65 105.55,-267.33 99.39,-257.95\"/>\n",
       "<polygon fill=\"black\" stroke=\"black\" points=\"102,-255.6 93,-250 96.54,-259.99 102,-255.6\"/>\n",
       "</g>\n",
       "<!-- __main__.Arvore object at 0x7efc5ee0af28 -->\n",
       "<g id=\"node8\" class=\"node\">\n",
       "<title>__main__.Arvore object at 0x7efc5ee0af28</title>\n",
       "<ellipse fill=\"none\" stroke=\"black\" cx=\"150\" cy=\"-234\" rx=\"27\" ry=\"18\"/>\n",
       "<text text-anchor=\"middle\" x=\"150\" y=\"-230.3\" font-family=\"Times-Roman\" font-size=\"14.00\">15</text>\n",
       "</g>\n",
       "<!-- __main__.Arvore object at 0x7efc5ee71358&#45;&gt;__main__.Arvore object at 0x7efc5ee0af28 -->\n",
       "<g id=\"edge7\" class=\"edge\">\n",
       "<title>__main__.Arvore object at 0x7efc5ee71358&#45;&gt;__main__.Arvore object at 0x7efc5ee0af28:nw</title>\n",
       "<path fill=\"none\" stroke=\"black\" d=\"M116.74,-287.84C118.83,-278.65 122.45,-267.33 128.61,-257.95\"/>\n",
       "<polygon fill=\"black\" stroke=\"black\" points=\"131.46,-259.99 135,-250 126,-255.6 131.46,-259.99\"/>\n",
       "</g>\n",
       "<!-- __main__.Arvore object at 0x7efc5edc2320 -->\n",
       "<g id=\"node3\" class=\"node\">\n",
       "<title>__main__.Arvore object at 0x7efc5edc2320</title>\n",
       "<ellipse fill=\"none\" stroke=\"black\" cx=\"63\" cy=\"-162\" rx=\"27\" ry=\"18\"/>\n",
       "<text text-anchor=\"middle\" x=\"63\" y=\"-158.3\" font-family=\"Times-Roman\" font-size=\"14.00\">5</text>\n",
       "</g>\n",
       "<!-- __main__.Arvore object at 0x7efc5ee0abe0&#45;&gt;__main__.Arvore object at 0x7efc5edc2320 -->\n",
       "<g id=\"edge2\" class=\"edge\">\n",
       "<title>__main__.Arvore object at 0x7efc5ee0abe0&#45;&gt;__main__.Arvore object at 0x7efc5edc2320:ne</title>\n",
       "<path fill=\"none\" stroke=\"black\" d=\"M83.58,-216.21C85.75,-207.08 86.98,-195.81 83.5,-186.63\"/>\n",
       "<polygon fill=\"black\" stroke=\"black\" points=\"86.32,-184.55 78,-178 80.42,-188.31 86.32,-184.55\"/>\n",
       "</g>\n",
       "<!-- __main__.Arvore object at 0x7efc5ee0af60 -->\n",
       "<g id=\"node4\" class=\"node\">\n",
       "<title>__main__.Arvore object at 0x7efc5ee0af60</title>\n",
       "<ellipse fill=\"none\" stroke=\"black\" cx=\"27\" cy=\"-90\" rx=\"27\" ry=\"18\"/>\n",
       "<text text-anchor=\"middle\" x=\"27\" y=\"-86.3\" font-family=\"Times-Roman\" font-size=\"14.00\">3</text>\n",
       "</g>\n",
       "<!-- __main__.Arvore object at 0x7efc5edc2320&#45;&gt;__main__.Arvore object at 0x7efc5ee0af60 -->\n",
       "<g id=\"edge3\" class=\"edge\">\n",
       "<title>__main__.Arvore object at 0x7efc5edc2320&#45;&gt;__main__.Arvore object at 0x7efc5ee0af60:ne</title>\n",
       "<path fill=\"none\" stroke=\"black\" d=\"M60.26,-143.84C58.17,-134.65 54.55,-123.33 48.39,-113.95\"/>\n",
       "<polygon fill=\"black\" stroke=\"black\" points=\"51,-111.6 42,-106 45.54,-115.99 51,-111.6\"/>\n",
       "</g>\n",
       "<!-- __main__.Arvore object at 0x7efc5ee0ae48 -->\n",
       "<g id=\"node5\" class=\"node\">\n",
       "<title>__main__.Arvore object at 0x7efc5ee0ae48</title>\n",
       "<ellipse fill=\"none\" stroke=\"black\" cx=\"99\" cy=\"-90\" rx=\"27\" ry=\"18\"/>\n",
       "<text text-anchor=\"middle\" x=\"99\" y=\"-86.3\" font-family=\"Times-Roman\" font-size=\"14.00\">7</text>\n",
       "</g>\n",
       "<!-- __main__.Arvore object at 0x7efc5edc2320&#45;&gt;__main__.Arvore object at 0x7efc5ee0ae48 -->\n",
       "<g id=\"edge4\" class=\"edge\">\n",
       "<title>__main__.Arvore object at 0x7efc5edc2320&#45;&gt;__main__.Arvore object at 0x7efc5ee0ae48:nw</title>\n",
       "<path fill=\"none\" stroke=\"black\" d=\"M65.74,-143.84C67.83,-134.65 71.45,-123.33 77.61,-113.95\"/>\n",
       "<polygon fill=\"black\" stroke=\"black\" points=\"80.46,-115.99 84,-106 75,-111.6 80.46,-115.99\"/>\n",
       "</g>\n",
       "<!-- __main__.Arvore object at 0x7efc5ee0aa58 -->\n",
       "<g id=\"node6\" class=\"node\">\n",
       "<title>__main__.Arvore object at 0x7efc5ee0aa58</title>\n",
       "<ellipse fill=\"none\" stroke=\"black\" cx=\"63\" cy=\"-18\" rx=\"27\" ry=\"18\"/>\n",
       "<text text-anchor=\"middle\" x=\"63\" y=\"-14.3\" font-family=\"Times-Roman\" font-size=\"14.00\">6</text>\n",
       "</g>\n",
       "<!-- __main__.Arvore object at 0x7efc5ee0ae48&#45;&gt;__main__.Arvore object at 0x7efc5ee0aa58 -->\n",
       "<g id=\"edge5\" class=\"edge\">\n",
       "<title>__main__.Arvore object at 0x7efc5ee0ae48&#45;&gt;__main__.Arvore object at 0x7efc5ee0aa58:ne</title>\n",
       "<path fill=\"none\" stroke=\"black\" d=\"M96.26,-71.84C94.17,-62.65 90.55,-51.33 84.39,-41.95\"/>\n",
       "<polygon fill=\"black\" stroke=\"black\" points=\"87,-39.6 78,-34 81.54,-43.99 87,-39.6\"/>\n",
       "</g>\n",
       "<!-- __main__.Arvore object at 0x7efc5ee71710 -->\n",
       "<g id=\"node7\" class=\"node\">\n",
       "<title>__main__.Arvore object at 0x7efc5ee71710</title>\n",
       "<ellipse fill=\"none\" stroke=\"black\" cx=\"135\" cy=\"-18\" rx=\"27\" ry=\"18\"/>\n",
       "<text text-anchor=\"middle\" x=\"135\" y=\"-14.3\" font-family=\"Times-Roman\" font-size=\"14.00\">9</text>\n",
       "</g>\n",
       "<!-- __main__.Arvore object at 0x7efc5ee0ae48&#45;&gt;__main__.Arvore object at 0x7efc5ee71710 -->\n",
       "<g id=\"edge6\" class=\"edge\">\n",
       "<title>__main__.Arvore object at 0x7efc5ee0ae48&#45;&gt;__main__.Arvore object at 0x7efc5ee71710:nw</title>\n",
       "<path fill=\"none\" stroke=\"black\" d=\"M101.74,-71.84C103.83,-62.65 107.45,-51.33 113.61,-41.95\"/>\n",
       "<polygon fill=\"black\" stroke=\"black\" points=\"116.46,-43.99 120,-34 111,-39.6 116.46,-43.99\"/>\n",
       "</g>\n",
       "<!-- __main__.Arvore object at 0x7efc5ee0a898 -->\n",
       "<g id=\"node9\" class=\"node\">\n",
       "<title>__main__.Arvore object at 0x7efc5ee0a898</title>\n",
       "<ellipse fill=\"none\" stroke=\"black\" cx=\"135\" cy=\"-162\" rx=\"27\" ry=\"18\"/>\n",
       "<text text-anchor=\"middle\" x=\"135\" y=\"-158.3\" font-family=\"Times-Roman\" font-size=\"14.00\">12</text>\n",
       "</g>\n",
       "<!-- __main__.Arvore object at 0x7efc5ee0af28&#45;&gt;__main__.Arvore object at 0x7efc5ee0a898 -->\n",
       "<g id=\"edge8\" class=\"edge\">\n",
       "<title>__main__.Arvore object at 0x7efc5ee0af28&#45;&gt;__main__.Arvore object at 0x7efc5ee0a898:ne</title>\n",
       "<path fill=\"none\" stroke=\"black\" d=\"M155.58,-216.21C157.75,-207.08 158.98,-195.81 155.5,-186.63\"/>\n",
       "<polygon fill=\"black\" stroke=\"black\" points=\"158.32,-184.55 150,-178 152.42,-188.31 158.32,-184.55\"/>\n",
       "</g>\n",
       "<!-- __main__.Arvore object at 0x7efc5ee0ac18 -->\n",
       "<g id=\"node10\" class=\"node\">\n",
       "<title>__main__.Arvore object at 0x7efc5ee0ac18</title>\n",
       "<ellipse fill=\"none\" stroke=\"black\" cx=\"207\" cy=\"-162\" rx=\"27\" ry=\"18\"/>\n",
       "<text text-anchor=\"middle\" x=\"207\" y=\"-158.3\" font-family=\"Times-Roman\" font-size=\"14.00\">18</text>\n",
       "</g>\n",
       "<!-- __main__.Arvore object at 0x7efc5ee0af28&#45;&gt;__main__.Arvore object at 0x7efc5ee0ac18 -->\n",
       "<g id=\"edge9\" class=\"edge\">\n",
       "<title>__main__.Arvore object at 0x7efc5ee0af28&#45;&gt;__main__.Arvore object at 0x7efc5ee0ac18:nw</title>\n",
       "<path fill=\"none\" stroke=\"black\" d=\"M160.39,-217.17C166.78,-207.91 175.54,-196 185.01,-185.42\"/>\n",
       "<polygon fill=\"black\" stroke=\"black\" points=\"187.69,-187.68 192,-178 182.59,-182.88 187.69,-187.68\"/>\n",
       "</g>\n",
       "</g>\n",
       "</svg>\n"
      ],
      "text/plain": [
       "<graphviz.graphs.Digraph at 0x7efc5edc2f60>"
      ]
     },
     "execution_count": 26,
     "metadata": {},
     "output_type": "execute_result"
    }
   ],
   "source": [
    "# Criando um novo tipo de dados em Python, o nó que contem um valor e outros nós à esquerda e à direita\n",
    "from graphviz import Digraph # biblioteca graphviz\n",
    "class Arvore:\n",
    "    def __init__( self, valor = None, esquerda = None, direita = None ):\n",
    "        self.valor = valor\n",
    "        self.esquerda = esquerda\n",
    "        self.direita = direita\n",
    "\n",
    "    def verArvore(self, raiz):\n",
    "        \"\"\"\n",
    "        Método para visualização gráfica da árvore usando a biblioteca graphviz\n",
    "        \"\"\"\n",
    "        def adicionar_nos_arestas(raiz, dot = None):\n",
    "            # Create Digraph object\n",
    "            if dot is None:\n",
    "                dot = Digraph()\n",
    "                dot.node(name = str(raiz), label = str(raiz.valor))\n",
    "            # Add nodes\n",
    "            if raiz.esquerda:\n",
    "                dot.node(name=str(raiz.esquerda) ,label=str(raiz.esquerda.valor))\n",
    "                dot.edge(str(raiz), str(raiz.esquerda)+\":ne\")\n",
    "                dot = adicionar_nos_arestas(raiz.esquerda, dot = dot)\n",
    "\n",
    "            if raiz.direita:\n",
    "                dot.node(name = str(raiz.direita) ,label = str(raiz.direita.valor))\n",
    "                dot.edge(str(raiz), str(raiz.direita)+\":nw\")\n",
    "                dot = adicionar_nos_arestas(raiz.direita, dot = dot)\n",
    "            return dot\n",
    "        # Adiciona recursivamente nós e cria uma lista de arestas\n",
    "        dot = adicionar_nos_arestas(raiz)\n",
    "        # retorna a visualização\n",
    "        return dot\n",
    "\n",
    "    def inserir(self, raiz, no):\n",
    "        if raiz is None:\n",
    "            raiz = no\n",
    "        elif  no.valor > raiz.valor: # lado direito\n",
    "            if raiz.direita is None:\n",
    "                raiz.direita = no\n",
    "            else:\n",
    "                self.inserir(raiz.direita, no)\n",
    "        else: # lado esquerdo\n",
    "            if raiz.esquerda is None:\n",
    "                raiz.esquerda = no\n",
    "            else:\n",
    "                self.inserir(raiz.esquerda, no)\n",
    "\n",
    "    def altura(self, raiz):\n",
    "        if raiz is None: # Se raiz é nula, altura=0\n",
    "            return 0 \n",
    "        altura_esquerda = self.altura(raiz.esquerda)\n",
    "        altura_direita  = self.altura(raiz.direita)\n",
    "        return max(altura_esquerda, altura_direita) + 1 # maior valor entre esquerda e direita somado a 1\n",
    "                \n",
    "                \n",
    "# Testando a inserção automática\n",
    "arvore = Arvore(11)\n",
    "for valor in [10, 5, 15, 3, 12, 7, 18, 6, 9]:\n",
    "    no = Arvore(valor)\n",
    "    arvore.inserir(arvore, no)\n",
    "# Imprimindo a árvore\n",
    "arvore.verArvore(arvore)"
   ]
  },
  {
   "cell_type": "code",
   "execution_count": null,
   "metadata": {
    "id": "H5iGaQpQ2JM_",
    "outputId": "215f7b58-a91a-4679-dfb0-96e5ffe9675b"
   },
   "outputs": [
    {
     "data": {
      "text/plain": [
       "5"
      ]
     },
     "execution_count": 27,
     "metadata": {},
     "output_type": "execute_result"
    }
   ],
   "source": [
    "# Imprimindo a altura\n",
    "arvore.altura(arvore)"
   ]
  },
  {
   "cell_type": "code",
   "execution_count": null,
   "metadata": {
    "id": "XNS6RulQ2JND",
    "outputId": "9175ea81-5b5e-45ed-bf59-8f3a51d0dd4c"
   },
   "outputs": [
    {
     "data": {
      "image/svg+xml": [
       "<?xml version=\"1.0\" encoding=\"UTF-8\" standalone=\"no\"?>\n",
       "<!DOCTYPE svg PUBLIC \"-//W3C//DTD SVG 1.1//EN\"\n",
       " \"http://www.w3.org/Graphics/SVG/1.1/DTD/svg11.dtd\">\n",
       "<!-- Generated by graphviz version 2.44.0 (0)\n",
       " -->\n",
       "<!-- Pages: 1 -->\n",
       "<svg width=\"272pt\" height=\"404pt\"\n",
       " viewBox=\"0.00 0.00 272.00 404.00\" xmlns=\"http://www.w3.org/2000/svg\" xmlns:xlink=\"http://www.w3.org/1999/xlink\">\n",
       "<g id=\"graph0\" class=\"graph\" transform=\"scale(1 1) rotate(0) translate(4 400)\">\n",
       "<polygon fill=\"white\" stroke=\"transparent\" points=\"-4,4 -4,-400 268,-400 268,4 -4,4\"/>\n",
       "<!-- __main__.Arvore object at 0x7efc5ee16320 -->\n",
       "<g id=\"node1\" class=\"node\">\n",
       "<title>__main__.Arvore object at 0x7efc5ee16320</title>\n",
       "<ellipse fill=\"none\" stroke=\"black\" cx=\"144\" cy=\"-378\" rx=\"27\" ry=\"18\"/>\n",
       "<text text-anchor=\"middle\" x=\"144\" y=\"-374.3\" font-family=\"Times-Roman\" font-size=\"14.00\">3</text>\n",
       "</g>\n",
       "<!-- __main__.Arvore object at 0x7efc5ee16940 -->\n",
       "<g id=\"node2\" class=\"node\">\n",
       "<title>__main__.Arvore object at 0x7efc5ee16940</title>\n",
       "<ellipse fill=\"none\" stroke=\"black\" cx=\"108\" cy=\"-306\" rx=\"27\" ry=\"18\"/>\n",
       "<text text-anchor=\"middle\" x=\"108\" y=\"-302.3\" font-family=\"Times-Roman\" font-size=\"14.00\">3</text>\n",
       "</g>\n",
       "<!-- __main__.Arvore object at 0x7efc5ee16320&#45;&gt;__main__.Arvore object at 0x7efc5ee16940 -->\n",
       "<g id=\"edge1\" class=\"edge\">\n",
       "<title>__main__.Arvore object at 0x7efc5ee16320&#45;&gt;__main__.Arvore object at 0x7efc5ee16940:ne</title>\n",
       "<path fill=\"none\" stroke=\"black\" d=\"M141.26,-359.84C139.17,-350.65 135.55,-339.33 129.39,-329.95\"/>\n",
       "<polygon fill=\"black\" stroke=\"black\" points=\"132,-327.6 123,-322 126.54,-331.99 132,-327.6\"/>\n",
       "</g>\n",
       "<!-- __main__.Arvore object at 0x7efc5ee16240 -->\n",
       "<g id=\"node8\" class=\"node\">\n",
       "<title>__main__.Arvore object at 0x7efc5ee16240</title>\n",
       "<ellipse fill=\"none\" stroke=\"black\" cx=\"180\" cy=\"-306\" rx=\"27\" ry=\"18\"/>\n",
       "<text text-anchor=\"middle\" x=\"180\" y=\"-302.3\" font-family=\"Times-Roman\" font-size=\"14.00\">10</text>\n",
       "</g>\n",
       "<!-- __main__.Arvore object at 0x7efc5ee16320&#45;&gt;__main__.Arvore object at 0x7efc5ee16240 -->\n",
       "<g id=\"edge7\" class=\"edge\">\n",
       "<title>__main__.Arvore object at 0x7efc5ee16320&#45;&gt;__main__.Arvore object at 0x7efc5ee16240:nw</title>\n",
       "<path fill=\"none\" stroke=\"black\" d=\"M146.74,-359.84C148.83,-350.65 152.45,-339.33 158.61,-329.95\"/>\n",
       "<polygon fill=\"black\" stroke=\"black\" points=\"161.46,-331.99 165,-322 156,-327.6 161.46,-331.99\"/>\n",
       "</g>\n",
       "<!-- __main__.Arvore object at 0x7efc5ee16ba8 -->\n",
       "<g id=\"node3\" class=\"node\">\n",
       "<title>__main__.Arvore object at 0x7efc5ee16ba8</title>\n",
       "<ellipse fill=\"none\" stroke=\"black\" cx=\"93\" cy=\"-234\" rx=\"27\" ry=\"18\"/>\n",
       "<text text-anchor=\"middle\" x=\"93\" y=\"-230.3\" font-family=\"Times-Roman\" font-size=\"14.00\">1</text>\n",
       "</g>\n",
       "<!-- __main__.Arvore object at 0x7efc5ee16940&#45;&gt;__main__.Arvore object at 0x7efc5ee16ba8 -->\n",
       "<g id=\"edge2\" class=\"edge\">\n",
       "<title>__main__.Arvore object at 0x7efc5ee16940&#45;&gt;__main__.Arvore object at 0x7efc5ee16ba8:ne</title>\n",
       "<path fill=\"none\" stroke=\"black\" d=\"M113.58,-288.21C115.75,-279.08 116.98,-267.81 113.5,-258.63\"/>\n",
       "<polygon fill=\"black\" stroke=\"black\" points=\"116.32,-256.55 108,-250 110.42,-260.31 116.32,-256.55\"/>\n",
       "</g>\n",
       "<!-- __main__.Arvore object at 0x7efc5ee16f60 -->\n",
       "<g id=\"node4\" class=\"node\">\n",
       "<title>__main__.Arvore object at 0x7efc5ee16f60</title>\n",
       "<ellipse fill=\"none\" stroke=\"black\" cx=\"57\" cy=\"-162\" rx=\"27\" ry=\"18\"/>\n",
       "<text text-anchor=\"middle\" x=\"57\" y=\"-158.3\" font-family=\"Times-Roman\" font-size=\"14.00\">&#45;1</text>\n",
       "</g>\n",
       "<!-- __main__.Arvore object at 0x7efc5ee16ba8&#45;&gt;__main__.Arvore object at 0x7efc5ee16f60 -->\n",
       "<g id=\"edge3\" class=\"edge\">\n",
       "<title>__main__.Arvore object at 0x7efc5ee16ba8&#45;&gt;__main__.Arvore object at 0x7efc5ee16f60:ne</title>\n",
       "<path fill=\"none\" stroke=\"black\" d=\"M90.26,-215.84C88.17,-206.65 84.55,-195.33 78.39,-185.95\"/>\n",
       "<polygon fill=\"black\" stroke=\"black\" points=\"81,-183.6 72,-178 75.54,-187.99 81,-183.6\"/>\n",
       "</g>\n",
       "<!-- __main__.Arvore object at 0x7efc5ee16dd8 -->\n",
       "<g id=\"node7\" class=\"node\">\n",
       "<title>__main__.Arvore object at 0x7efc5ee16dd8</title>\n",
       "<ellipse fill=\"none\" stroke=\"black\" cx=\"129\" cy=\"-162\" rx=\"27\" ry=\"18\"/>\n",
       "<text text-anchor=\"middle\" x=\"129\" y=\"-158.3\" font-family=\"Times-Roman\" font-size=\"14.00\">2</text>\n",
       "</g>\n",
       "<!-- __main__.Arvore object at 0x7efc5ee16ba8&#45;&gt;__main__.Arvore object at 0x7efc5ee16dd8 -->\n",
       "<g id=\"edge6\" class=\"edge\">\n",
       "<title>__main__.Arvore object at 0x7efc5ee16ba8&#45;&gt;__main__.Arvore object at 0x7efc5ee16dd8:nw</title>\n",
       "<path fill=\"none\" stroke=\"black\" d=\"M95.74,-215.84C97.83,-206.65 101.45,-195.33 107.61,-185.95\"/>\n",
       "<polygon fill=\"black\" stroke=\"black\" points=\"110.46,-187.99 114,-178 105,-183.6 110.46,-187.99\"/>\n",
       "</g>\n",
       "<!-- __main__.Arvore object at 0x7efc5ee16860 -->\n",
       "<g id=\"node5\" class=\"node\">\n",
       "<title>__main__.Arvore object at 0x7efc5ee16860</title>\n",
       "<ellipse fill=\"none\" stroke=\"black\" cx=\"42\" cy=\"-90\" rx=\"27\" ry=\"18\"/>\n",
       "<text text-anchor=\"middle\" x=\"42\" y=\"-86.3\" font-family=\"Times-Roman\" font-size=\"14.00\">&#45;2</text>\n",
       "</g>\n",
       "<!-- __main__.Arvore object at 0x7efc5ee16f60&#45;&gt;__main__.Arvore object at 0x7efc5ee16860 -->\n",
       "<g id=\"edge4\" class=\"edge\">\n",
       "<title>__main__.Arvore object at 0x7efc5ee16f60&#45;&gt;__main__.Arvore object at 0x7efc5ee16860:ne</title>\n",
       "<path fill=\"none\" stroke=\"black\" d=\"M62.58,-144.21C64.75,-135.08 65.98,-123.81 62.5,-114.63\"/>\n",
       "<polygon fill=\"black\" stroke=\"black\" points=\"65.32,-112.55 57,-106 59.42,-116.31 65.32,-112.55\"/>\n",
       "</g>\n",
       "<!-- __main__.Arvore object at 0x7efc5ee16128 -->\n",
       "<g id=\"node6\" class=\"node\">\n",
       "<title>__main__.Arvore object at 0x7efc5ee16128</title>\n",
       "<ellipse fill=\"none\" stroke=\"black\" cx=\"27\" cy=\"-18\" rx=\"27\" ry=\"18\"/>\n",
       "<text text-anchor=\"middle\" x=\"27\" y=\"-14.3\" font-family=\"Times-Roman\" font-size=\"14.00\">&#45;10</text>\n",
       "</g>\n",
       "<!-- __main__.Arvore object at 0x7efc5ee16860&#45;&gt;__main__.Arvore object at 0x7efc5ee16128 -->\n",
       "<g id=\"edge5\" class=\"edge\">\n",
       "<title>__main__.Arvore object at 0x7efc5ee16860&#45;&gt;__main__.Arvore object at 0x7efc5ee16128:ne</title>\n",
       "<path fill=\"none\" stroke=\"black\" d=\"M47.58,-72.21C49.75,-63.08 50.98,-51.81 47.5,-42.63\"/>\n",
       "<polygon fill=\"black\" stroke=\"black\" points=\"50.32,-40.55 42,-34 44.42,-44.31 50.32,-40.55\"/>\n",
       "</g>\n",
       "<!-- __main__.Arvore object at 0x7efc5ee16400 -->\n",
       "<g id=\"node9\" class=\"node\">\n",
       "<title>__main__.Arvore object at 0x7efc5ee16400</title>\n",
       "<ellipse fill=\"none\" stroke=\"black\" cx=\"165\" cy=\"-234\" rx=\"27\" ry=\"18\"/>\n",
       "<text text-anchor=\"middle\" x=\"165\" y=\"-230.3\" font-family=\"Times-Roman\" font-size=\"14.00\">7</text>\n",
       "</g>\n",
       "<!-- __main__.Arvore object at 0x7efc5ee16240&#45;&gt;__main__.Arvore object at 0x7efc5ee16400 -->\n",
       "<g id=\"edge8\" class=\"edge\">\n",
       "<title>__main__.Arvore object at 0x7efc5ee16240&#45;&gt;__main__.Arvore object at 0x7efc5ee16400:ne</title>\n",
       "<path fill=\"none\" stroke=\"black\" d=\"M185.58,-288.21C187.75,-279.08 188.98,-267.81 185.5,-258.63\"/>\n",
       "<polygon fill=\"black\" stroke=\"black\" points=\"188.32,-256.55 180,-250 182.42,-260.31 188.32,-256.55\"/>\n",
       "</g>\n",
       "<!-- __main__.Arvore object at 0x7efc5ee167f0 -->\n",
       "<g id=\"node10\" class=\"node\">\n",
       "<title>__main__.Arvore object at 0x7efc5ee167f0</title>\n",
       "<ellipse fill=\"none\" stroke=\"black\" cx=\"237\" cy=\"-234\" rx=\"27\" ry=\"18\"/>\n",
       "<text text-anchor=\"middle\" x=\"237\" y=\"-230.3\" font-family=\"Times-Roman\" font-size=\"14.00\">20</text>\n",
       "</g>\n",
       "<!-- __main__.Arvore object at 0x7efc5ee16240&#45;&gt;__main__.Arvore object at 0x7efc5ee167f0 -->\n",
       "<g id=\"edge9\" class=\"edge\">\n",
       "<title>__main__.Arvore object at 0x7efc5ee16240&#45;&gt;__main__.Arvore object at 0x7efc5ee167f0:nw</title>\n",
       "<path fill=\"none\" stroke=\"black\" d=\"M190.39,-289.17C196.78,-279.91 205.54,-268 215.01,-257.42\"/>\n",
       "<polygon fill=\"black\" stroke=\"black\" points=\"217.69,-259.68 222,-250 212.59,-254.88 217.69,-259.68\"/>\n",
       "</g>\n",
       "</g>\n",
       "</svg>\n"
      ],
      "text/plain": [
       "<graphviz.graphs.Digraph at 0x7efc5ee16cc0>"
      ]
     },
     "execution_count": 28,
     "metadata": {},
     "output_type": "execute_result"
    }
   ],
   "source": [
    "# Testando a inserção automática\n",
    "arvore = Arvore(3)\n",
    "for valor in [10, 3, 1, 2, -1, -2, 20, 7, -10]:\n",
    "    no = Arvore(valor)\n",
    "    arvore.inserir(arvore, no)\n",
    "# Imprimindo a árvore\n",
    "arvore.verArvore(arvore)"
   ]
  },
  {
   "cell_type": "code",
   "execution_count": null,
   "metadata": {
    "id": "oi55uCb22JND",
    "outputId": "2971187b-8a72-44fe-8abf-67f6b0af3c6f"
   },
   "outputs": [
    {
     "data": {
      "text/plain": [
       "6"
      ]
     },
     "execution_count": 29,
     "metadata": {},
     "output_type": "execute_result"
    }
   ],
   "source": [
    "# Imprimindo a altura\n",
    "arvore.altura(arvore)"
   ]
  },
  {
   "cell_type": "markdown",
   "metadata": {
    "id": "3U_IO7NZK0ux"
   },
   "source": [
    "## Tabelas Hash\n",
    "\n",
    "---\n",
    "\n",
    "*Adaptado de https://panda.ime.usp.br/panda/static/pythonds_pt/05-OrdenacaoBusca/Hashing.html*\n",
    "\n",
    "---\n",
    "\n",
    "Uma tabela *hash* (ou tabela de espalhamento ou tabela de dispersão) é um tipo de estrutura de dados na qual o endereço (índice) de um elemento é gerado a partir de uma função *hash*.\n",
    "\n",
    "\n",
    "Cada índice da tabela *hash* pode guardar um item e possui um *label* inteiro. Uma tabela com $n$ índices, possui labels entre $0$ e $n$.\n",
    "\n",
    "Exemplo: Seja uma tabela de índices de tamanho $11$.\n",
    "\n",
    "![hashtable.png](data:image/png;base64,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)\n",
    "\n"
   ]
  },
  {
   "cell_type": "markdown",
   "metadata": {
    "id": "g0NMwwOcOyKQ"
   },
   "source": [
    "O mapeamento entre um valor e seu índice na tabela é realizado por uma função de *hash* que recebe um valor e retorna um inteiro dentro do intervalo dos índices ($0$ .. $n-1$).\n",
    "\n",
    "Suponha o conjunto de valores: $54, 26, 93, 17, 77, 31$. Uma função *hash* aplicável seria: $h(valor)=valor\\% 11$, onde o valor é submetido a uma divisão inteira pelo tamanho da tabela para calcular o resto da divisão (módulo)."
   ]
  },
  {
   "cell_type": "code",
   "execution_count": 4,
   "metadata": {
    "colab": {
     "base_uri": "https://localhost:8080/"
    },
    "executionInfo": {
     "elapsed": 272,
     "status": "ok",
     "timestamp": 1641839555223,
     "user": {
      "displayName": "Waldeyr Mendes Cordeiro da Silva",
      "photoUrl": "https://lh3.googleusercontent.com/a-/AOh14GgXl7vAH6l0VPjECKc5e3QXWv0QmnF7d2o7ekhr7-E=s64",
      "userId": "06543881337980292104"
     },
     "user_tz": 180
    },
    "id": "ItdNMgOiNhdi",
    "outputId": "7f308aec-2384-4ac5-e7ff-633d8d4650ce"
   },
   "outputs": [
    {
     "name": "stdout",
     "output_type": "stream",
     "text": [
      "54%11=10\n",
      "26%11=4\n",
      "93%11=5\n",
      "17%11=6\n",
      "77%11=0\n",
      "31%11=9\n"
     ]
    }
   ],
   "source": [
    "lista = [54, 26, 93, 17, 77, 31]\n",
    "tabela_hash = [None,None,None,None,None,None,None,None,None,None,None]\n",
    "for valor in lista:\n",
    "    print(f\"{valor}%{len(tabela_hash)}={valor%len(tabela_hash)}\")"
   ]
  },
  {
   "cell_type": "markdown",
   "metadata": {
    "id": "qJ96_fbEQ-fk"
   },
   "source": [
    "Uma vez computados os valores de espalhamento, podemos inserir cada item na tabela de dispersão na posição designada.\n",
    "\n",
    "![hashtable2.png](data:image/png;base64,iVBORw0KGgoAAAANSUhEUgAAAk4AAABmCAYAAAA9OR6HAAAC/GlDQ1BpY2MAAHjajZPLbxtVFMZ/Y4+nlRKxwbTFqtAVizZCSTR9qE2EaGvHrpU2GGuaFCdCqibja3vIzXh6Z5w+1AXqhh0tiD3iIVb8ARXqgl1XKJWqgpAq1lQIVKmoG1TMwo+ZlkA5q3O/853vfPdcXch96oahygjYDGLtVEuisbomdv1EhleZoMCE60VhsV5fAnDDUPGPePIDBsC9mZ3r/xkTTRl5YOwGus3I2wTjMmTPe6GOwbwLzF2Kwxhyu4G8bqyuQW4/kG8PchvIrw/yMpDXy84C5BrAS17HbUKuA0yvp/B2Kh94ACBflYHUviecaknUdbflK5my+4Ly/4xN1RvNexmYDOOSAxwA/mjp0yvAFBiFq53ld4E9YJT8eHF5iDeC9do7A77xwUb3rDPkfN2U5QowDcbtaOtcZcS52lmoDTm/vO+eqQMFMP4K4/pQJ7MvULWlgX7mhIwq50Z4yz+9OMRboaovDfQzH+meswK8DplvXV2pDvkPZLAy7M1mmm75LDAL2SnqSDQtfBQChyolBFUkAQ/R+Hh0qaPpjlltHo6rF+khETicp3Sz0JtKVK7rC763fePRM93d1JQ2kgA5nlJNnSM2xswZwkThzrXb+xKN++at9+5N3rlGEYWijWQTiU+AJEoppDy0gpuFRMHbvvFIflh7UuP6dILaP9q/2fftz+2v7F//ZUft53ZUTM2XBDu6lyhWUWOHO7N8FD4rBPhcQqKJcFEEXEGkdzHqNl8zD5mL5pw5jzBPmqfME2bZnDPfNJdGDKtila0iwnrDmrcOWWesYnIT66BVtuatg1blmRfwUndNv6BMsWRqIzOsI4nYQOOzhUQRISGWl2OAhW54RfvtTiwO2/ZxUQxDJcVi4M1OC1cpof12J46ElpHUW7I5S2N1TQy+42MHAzD2bCdY/Da89Ttk7ybYWg++iWDv0QSbKsArn8GtY15Pbw3/t2F8D1HryOHBabIEuZ/7/ccHYNcn8PTjfv/PL/r9p19C9gF8p/4GqSMK1roTvtgAAAAGYktHRAD/AP8A/6C9p5MAAAAJcEhZcwAAFxIAABcSAWef0lIAADz5SURBVHja7Z15nFxVmfe/597aek93Z+nOnhBIQJIgQVZBCcjrMAl+TDQEEWFU1JHFcWB0/IwoMKOjLy74quMySMBhEVESAgYVyUISwpaNhOwQsnS6s/VeXV1V997z/nGXquol6e50+tatOd/PpyFd3V11fuc8zznPec5yhZSWRKFQKBQKhUJxUjS/C6BQKBQKhUIRFFTgpFAoFAqFQtFHVOCkUCgUCoVC0UdU4KRQKBQKhULRR1TgpFAoFAqFQtFHVOCkUCgUCoVC0UdU4KRQKBQKhULRR1TgpFAoFAqFQtFHVOCkUCgUCoVC0UdU4KRQKBQKhULRR1TgpFAoFAqFQtFHAhY4CedLkT8USpsUig5FfqLsK38olLYoFB3B0yiC9JDfRCJBZ2cnpaWlhMMRIDBF74IgnU4BEA6H/S7MgDWkUini8XYikQjFxSWI/LPvPiGlJB6PYxgGpaVlhEIhgmtbth7TNNF1HRHARjFNE9M0kdJuA13XnTYJIraftLe3EQ6HKS0tDVybmKaJYRg55dY0LZBtIiW0tbVhWSalpaWEQmGC6uudnZ0kEglKSkqJRII9Hto2liYajXqvSgnt7W1YlkVpaRm6nj95noBYvmDHju08/PDDdHR0MG7cOD772c8yYsRIgmUsgoaGet566y1effVVZs+ezQc/eHnANNg6jh8/xqJFi3jnnXeQUvLxj3+cj3zkI2ha/hh3X0ilUjz//PO89tprdHR0MG3aNG6++WZKS8sIXrsACP7ylz+zfv167rzzTsrKygOmQ/Diiy/yl7/8haKiIkzTZMaMGSxYsCCAkwzB3r3v8tRTT3Hs2DGqqqq4/fbbKS+vIDhtIli5ciUvvPACQgiEEKTTac455xxuvvlmZ8AOBqZp8vzzz7N27VqklEyePJlPf/rTgfSRbdve5sknn6S1tZVx48bxD//wWaqrqwOno729jU2bNvHqq69SW1vLjTd+GpBICcuXv8SSJUsQQnD++edzww03EI3G8kJjAEY5QSKR4De/eZjp06fzb//2b3R2dvLMM8/4XbABUV9fz5YtW1i3bh0tLS1+F2fALF68mKKiIu655x6uvfZafvGLX7Bz507yMa3aO4J9+/axZ88ebr31Vu68807WrVvHyy+/7HfBBqxn//59/PGPf2TFihUkEgm/CzQgtm7dSiQS4ZOf/CSf+MQnuPjii9F13e9i9RN7cvHggw8yZcoUvvGNb/C5z32O4uJi8qHj7w+TJ0/mmmuu4ZprruHqq6/GNE2SyWTAMk6Ct99+mxdeeIFbbrmFu+66i4MHD7Js2TK/C9ZvHU1NjTz44INMnz6db3zjG7S0tPD007/3u2ADorW1lW3btvHqq6+yb98+T2Nd3UEef/xxFixYwJ133slrr73GK6+84ndxPQJh+fX1h2hoqOfuu+9m1KhR/J//81EeffQR2tpaAzZbkLz//edz1llTvUxNELEsk0mTJvG+951LTU0NV19dyZ/+9Cc2b97M2Wef43fx+oFk4sQJ3HbbbZSUlNLU1IiUMnBLKS6mafDMM88wZcoU2traAmtfmqYxfvx4zjvvPKSUaJpOcHw8w0svvYSmaZxzzjns2bOHadPODuDSkGTSpElMmjQZgDfffIOysjJuuOGGwLXL4cOHKS+v4IwzphCNRhk3bhz19fV+F6vf7N69m5aWFmbPvorhw4dz5ZVX8sQTTwRyPBw9ejRf+MIXaWxswrJM7ycbN25k+PDhXHTRxUQiEWbNmsXrr7/OlVde6XehgcAETvXEYjGKimIAjB5dy5EjR+jo6HAMJWjIwA5qYA9ss2df5e1pSqWSpFIpJ1UcLMLhqJcW/utf/8qYMWO49NJL/S7WABCsX7+e3bt38/nPf56NGzf6XaABI6Vk1apV1NXVUVFRwcKFC5kwYSLBGRAAJFu3bmXfvn0sXbqUffv2UVJSwre+9a2ALdVl6OiI8+STT3L11VdTXT08cBouuOAC3njjDX7zm4coLy/nwIED3HjjjX4Xq9+k02lCoZC356e8vIKGhoYAj4fQ1Zb2799PRUWFtxQ8cuRItm3bRjKZzIvlugAs1dmb4DRN8/bP6LpOOp3GNM1TfGfFQLGDJntT33PPPcf48eO55JJL/C7WgDAMg3379tHS0sKwYcNIpdJ+F6mf2HsFnn76aa699lpqamqcwDyYmbPy8nIqKyuZP38+uq7zk5/8hESiI0B6BMlkkoaGBmpra7njjju49957aWhoYO3atX4XbsCsW7eOpqamgE4sJCUlJdTU1LBt2zY2btxINBpl+PARfhes34wbN45EIsHOnTtJpZK8/vprgd720RPJZDIn859vY34gAqdYLOZUmgXYlRqJRAK476GQEBhGmqVLn2Xfvn18+cu3BXRDtaS4uJh/+IfP8uCDP6G1tZVHHlmElJbfBesXa9asYcuWLTQ2NrJs2TIaGhr4299epLHxOMEJOGwWLLieBx54gFmzLuC6665j8+bN1NXV+V2sfiGEoKioiPPOez8lJaWMGlXDpEmT2L17t99FGxBSWqxevZpzzz2XiophBM/PBcuXL+eNN97gvvvu54EHHiASifA///PbgPm6ZOzYscydO5ef/OQnPPDAA7z77ruMGTMm50Ra0IlGoxiG4X2fb2N+IJbqamtricfjtLa2UFFRwf79+6msrHQ2WgYR4Z1QCSqGkebZZ5/l4MGD3HbbbVRWVvldpAHR1tZGNBolEokSjUYZPXoMO3ZsJ51OE4lECcoAUVtby9y5c2lvb6ehoYFEIsGxY8dIpVJ+F61fWJZJNBohFrOX5dPpdACXtSWRSJQxY8bQ2mpnAtwN1SUlJX4XbgAIWlqa2bVrF7fccovfhRkwe/fu9bKZmqYxZswY3nzzzcD5uqZp3HTTTVxxxRWEw2GWLVtGWVkZZWVBnLhmyB4PJ0yYwI4dO0gkEhQVFVFXV0d1dXVeLNNBQDJOo0ePZuzYsfz+979n3773+POf/8zFF18csI1w4J60Wb/+TRoaGtixYwc7d+7IiayDgWDJkiU8/vjjlJeXs2rVKhYvfoZ3332HYGU3hLPn4Tfs2rWT7du38cYbr3PhhRcGqiMFycyZM7ntttv5x3/8MgsXLqS2tpaFC2+gpqY2QDoE8XicX/7yl6xYsYK6uoMsWbKEGTNmMGbMGL8L12+uuOIK3nrrLdavf5M1a1Zz5MgRLrvsMr+LNSDi8ThHjhxh1KhRfhdlwMyaNYu6ujreeON19u59l9dee43zzz8/YL4OlmWxZ88eIpEIdXV1bNy4keuuuw5dD0QeJIfOzk7eemsz+/fvZ//+/WzevInOzgTnn38+x44d4y9/+TNbt27hrbfe4vLLL/e7uB76vfd++16/C3EyQqEwZ5wxmbVr17JmzRomT57MwoU3eLPS4CB47729LF++nJKSEgzDIJlMMm3aNOe0TTCQUrJt2zY6OjpoaWnhwIED1NfXM3bsWMaOHed38fqBoLq6mnfffZfnnnuON998kw984ANcf/3CQN1P01WTYaQxDIPzzz/fmaEFB7fe//a3v7Fq1SpKSkr40pe+FMjNyLW1tWiaxtKlS9mzZw/XX389s2ZdEMCLYgXxuJ3JvPrqqwOaNYOamlqKi4tYtmwZr732GtOnT2fBggVO4BQcLMti5cqV/OEPf2Dv3neZN28+F154YSDtqqWlheeffx7LsigqKuLYsWNMnTqVUaNqGDlyBMuWLWPLli1ceeWVzj2B+SGyLzeHS8AAfF5cFHR2JkgkOqmoqHA2ive7I00AkUHW0s9duKKXt+gXKexl1sHMGHYA0b7XTW+S+6XFBNLAYI7uhlMvfawbgZTS2VwpqaioQIh+29bp0GFit3NR///UbZsBBRqDbVuWUzf9GJ0EqVSSeDxOaWmZc/Flv7X00577RNKpmz77iJSS1tYWdD1EaWkJdtv0S4t06nAwdXQC4f68p2VZ3pLWAAdo06m/wdxfYTnv28dZp3CeEtCOYRgD9XXod58/2HVjH8ppbW0hFiuiqKhoIBrg9PiIid139LF+TjSOCOfmcElZWZmzlDdkk6cEdn/eY930JXAyQQy2wfvFYaCCwR3g/Di+1AyU0OcOo0/UA5UMbt2cjBTQBgzmPQZx7M5gKPPWSaAVGMwjOp1ACzDUayOt2MHaYNlWGmjHtq2hpAEYxuDa83GgDHvyNVRY2H4ymDqOAuX0K5g9ZTqBJqB2EN/TwB7gyoZQh3S+BnPS2ondp9cMoQ44PX3+6ZjU+0E9yF7rZtAHl8w+zmCl1TN0jYGCqqOrlv9VOvzI5/bhM/tlW/mRkz51HQHSkrc6+mlbheLrQdZSKDq6agm2jsFazhyUwMkOluwKtSw7IJdSdqli6X+Vd8kNiS7/tX8suvyJ7PYmvuvoQk866KIlX3Xklpde/pXruHlnV73oclugp/boXnKZ9d/8YTB8ZEgT7P3SkXmtZyX5Z1tB9vXetPzv85EedOTBtWt98ZEg2FbXMnt2JuzAyT29dyqn2k8pcHIDJikllrSQ0r7vw7JkbgDlvJ53FSwEwotCBe7DBTMVmv29q0PmnamILKPwTN6z+q7f2+0m8/D2coFb1yKnDeyyd//ebYt80wHZttV1v1H37+3y9zTZ8J/B8RH/Q6fefaQHO3PaIR9ty/YRzXHtrvXavZ7z1dcBtJ583dOR+32h+IjbDt18JB8Cp/74uusjeT4eeuMJIDRhX6QtMtcBDfRaoAEHTpbdQzpBk8QyTUzLrkTLNLEsy37dspCW83/vr/2uaDfidKpUiO79p2MOOTM52dVx/daRrSU3mnZ1gOwWe7sdaX4tq/aiw9Miu83m8kyHzNWRcWBybEt6HQ9dbMvKGdz8bpOT+Uj39jiBDp/FCC/QOEUf8V2HLSOwPtJdB/aA1k2HE2Rk25YluwaAfmsZVB/JMx3CHgO7+Uhu9kla+TceCuy7rrIDJYRAE/ZruvMUEt35HYHzO/1gQIGT7YgWSPu0hWFamKZBZ2cne/fupbWtDcu0MKXlBE5WJnCS/iX3TNMMaZqmuRXp4laoq624uBhd12ltbfWcWwLSys2a+TWLsyxL14QQoosOgUBznl8kpSQaiVBcUkJzUzNSWl5H260DkhLDNMKaposhvZRTSmFZlq7rencdmuZMeiSarlNeXk5rayuGYXhG3q0DsjOfmjvLGEIdmmVZYU3XnY7H1QFC0zKBkhBUVFSQSCTo7Ozs3bZsXcKyzPBQ383Sm21lfMTuSUtKS5FS0t7efgIdIKUlLGmF7AfCDh2maYZ78nUhhPfoJiklsViMWCxGc3MzyMyv9uQjTv8xeBsl+oqUPfu64yNSSsKhEKVlZbS0tGCa5gl9xHB0DKWvyyx7Fl10CE14PiI0jYryCuLxOMlUMmNbXVct3EmslJrQhnofshsKiZxuJsdHgLKycox0mnhHxwl9xJKWZplmWA8Nra+bTp9/svGwqKiIcDhMa0srkOUjVm62yWmPoR1DuuBmzTTHpjRdRxMamiaIxWJMmjSJstJSNF0HPYSOBpqFROtX5mlAp+osaWGZdkbJME0Mw8A0TXbv3s03/vXrRCMRwuFw1hwtP5J50rIs0UNuzvtGCFKpFI2NTZSUlKBpwr6z5ETpYR9SrFJKS+TmuHN1OMdVW1pbKC4pIRHvoLKq8oQ6pGWZQoj+Wc8gCJEghX0mOAd3diORNB5vJBQOYZomlcOGeUWUvbynPWUaMhW2DokUWm86ACFoaW4hVlxEe1sbFRUVhPQQvfqGtBHa0I4Kjm1pXYODbB2diQQdiQSWJSktLSHm3Obbq45e2vi06ujFnrN9xDANmpubKSsrp7MzQUVFxYl9pBe/O71C7E/uXYcd5DU3N6PrOkY6nXPnVU9apCUtIYZah5RSSkv0EEFn21ZjYyNFxcUkOjqoKK/wHmTbi23h2NbQ9sC99PnZOuLtcRDQ3t5OVWWVd6XGCXy9x7o5rTL64CNpI01jYyNlZeVYlklpSSknHM/96H97wMuOObGtaVm0tLRw551f4aqrrkLTdELhEGE9hB7SnMxUThc1uKfqpARp2c5qmhaGYWCk06TSaZqam7FMk/vuu49Ro0bl47r6CTtvTRMcPFjHF77wRVLJTr75zW9y0UUXYVl59yyjE+oQQtDW1sY999zD9u07+MxnbuKmm2462QMS/binq0+poR//+Mc8/fTTzJkzh6997WuETjwz8+tE3Qk/V9d1Fi9ezH8/9BA1o2r4z+9+l8rKyhP5yBCnzTxO4iMab7/9Nv/yL/+CBO6799tMmzbtRD7il44T2rNwBum77r6bhoZ6vnjrrVz3sY+dzEf8OmJ9wvpLp9N8//v/l2UvLOP6BQv4p3/6p5P1vX7oEJykTUK6zqJHHuF/HnuMGdOnc99991HqZDYHWjd+oGkar7zyCv/5n99DSov7/t+9WQ/eHljdnCZO6iOHDx/mS1/6EseOHeVf7r6bD33oCu+ZsSfQklcIYT+R4L777uPw0aN0dCYJh3Ts5Ucn4wlIjT4nkweQG7SX6UzTxDBNTMMkmUrRmUyS6OwkHA4zduw4amsH87qOoUQQDoeQQE1NDePGjfe7QAOitbWVoqJiJJKqquqA3eidS0VFBRIoKy9nwoSJJwuc8hb3SezRWJRx48ZTVRXM5/s1NTU5j3eQjB49JrA+UlJSStS5NXr4iJGB9ZF0Ok1ZmR1gVFQMY/z4CX4XacBUVVV72yXGjx/vPDg8eIwa9a69n0aEGDt2HKNHj/a7SAMiHI4QCoWx0mlGjaph7Nhg+no8Hqe4uJhkMklHIkE0EkYIDU3T0TThHVToa9w3oBHIwt7sbRom6XSazlSKjkQnic5O7/SDTd5lnE6C8DaA5+5xCJ6OTIBrEdz2cEotnU2Inm0FUYfdJqZpFYiPuLPO4OpwT2kF20cyOqQVZLvKaHEPFgW9/7UsC6HrBLdNvF1ZTkY52DqkxA6cOjqQMoau64R0HV3XsJD9SvkNbOruHjmWFmnTIJVKkUylSKdS9h5Yv+vpFHGPWQYdW0feLTMOCPcUZ9CxLKsgdBSABFuHNygEn0Los8C5C7D7tq7AIQukz8qdKAUZSSqdJplKoYd0IoaBYRqErVC/Y8F+r3W7HY1pmvbJOdPEcDJP6bRBztGUoNLt2GtAke6FpAVAIbQH7r0nwce5QcvvYgyGkILwdffeqUIgH+/8G5AOq1BapDB8BMBI24medMp+ELp7dZJ90rHvGvu/SdDpaAzTzjalnQiuszNJZzJZMBVcCDokhTJTKIz2APtEaiEEgQUzmy6UjFOhTPbIZJyCTuH4SGFMwCWQShskOpMkUylSqTRp08S0LPsOSkv2ubkGcKpOeqk7y7JIG6Z3qi6VShdEhF0oS3VIWRAGDxRKfqOwZqF+F2CQRKjJRX5RKBknq0Dag0JZqpOStJG2M07psH0jgGF62yf601wDOpbqBk+m5V5JYAdPacMoDOctoNlbQekoAC2yQDJOWVcKB5zC8fWCsCsKp88qnMXTwmkTe1uRHTAZpoFpOUt1/WyrAexxsv3TktL5UDNzNcGJ70AJFgVgJ71fgafwiwLpfwrGtgoluxzUs6Y9anEHmYBTCHYFmTG/EDBNk7SRJm2YmIY14BWZAV6Elpn9W5ZlrxGa9m3iheK9hTJXKBjnLRQdhWJZBbLJHQqmyyqc0a1wWqQw2kQWRlhu79UynYNtJpa0srYe9e+9BrhUl73Xyd3vZG+yUuQHAgpqcCsYCqEjLSQKZAm4kHy9YCZJBaIDCiFssrEse9+v5d0N2PVevb5xSlfvu0erM4FU/4705TUFZPSK/EFZVf6h2iT/UG2SZxTMeOhcpCLd/w/sXfoVOGVPzmQmYjqlAigUCoVCoVCcbnJXytzVMumEMtm3o5+YU8g4yR7/qVAoFAqFQpGfZPY1ZRI+Q7hUp1AoFAqFQhEsTu3pJipwUigUCoVCoegjKnAaFATdI9ggPq+vNx1B01IoOhSK00Wh+EhvZQ6aDkWQyOPASfTwdaLX/aGjo4MDB/YTj7d7ZbEsi6NHj9DZ2elr2fqDYRgcPHiApqbGnNebmhppbW3B73ruK5ZlcfhwAw0N9TnPIIvH2zl+/FhBHREG4T1w2/0++2dSSowA3eZvmqZT1lwdpvMgzmDYoF3G7nWeP/1WIflIU1MjBw8ecB4wb5NOpzly5HBhXcjs2EtvPgJBuv7gZH7g/7h+Mvr9rLrTj2Dv3nd57rnnSKVS3qvl5eVcd911PP/88zQ1NSGEXbHhcJg5c+ZwxhlTGPpd6oJ169bxne98h49/fB633XYbmqYRj8f58Y9/zPz585k16wIfytV/HfX19Xz5y19m0qRJfOc736GsrByAxx9/nMrKSm688dN+F7JPOhKJBN/97nfZv38/DzzwA6ZMmQLA6tWr2bRpE//8z/9MJBIl/9vk5Fq3bHmLP/7xjzQ3N3Peeecxf/58r9327NnNc889x+HDhzn//POZN28eoVAeujuC9vY2Fi9ezLZt2xg5ciQ33HADNTW1dHYmeOGFF9i4cSOmaTJnzhwuvvgSRJ72qclkkv3797Nx40aKi4uZM2cuAK++uo7Vq1d7fZaUkilTpjBnzhzC4fAQl7KQfETw5JNP8tRTT/HNb36Tj3zkGgDq6ur40Y9+xLe//W2qq4cHQMfJdR47dpQlS5bw7rvvUlpaysKFC5k8+QySyc4ebC5f9QrWrXuFNWvWoGkaUkrOOussrr32Wq9vMk2TF154ASEEH/3oR9F13e9C90heZpzC4TCVlZVUVVUxfPhwmpqaeOWVV5BSMmzYMKqqqqiurkbTNFauXEkikfCtrC0tLYRCIV566W/s2bMHsGd0dXV1dHR0dPntEy3p+Rt5p1Ip2tvbeeedd1i9erX3+tGjR2lsbOzy2/mrwzRNmpubicfjLFmy2Hs4ZUtLCw0NDV1mZSfTka+zIcHhww088sgjfOADH+ATn/gEy5cv57HHHgNg7969PPjgg0ycOJFbbrmFWbNmoWl56epIafHYY4+xZcsWbrjhBkzT5Fe/+hWmabBmzRp27NjBvHnzmDVrFj/60Y84dKgO/+u/JwRHjhzhmWee4ZFHHmHLli3eT4qKiqiqqvL6rR07drB9+3bf2mRwfYQefjZ07XP8+HGEECxevJi2tlbADmAPHDiAYRhZvxlUX7dvu3722WcxTZMbb7yRSCTCT3/6U5LJTo4ePdqjzeUrr7zyCu+88w5nnXUWZ5xxBjU1Nd6EAgRvv/02P/vZz3jxxRedjKH/9d8TeTgFlYwdO5abbvoMAC0tzfz4xz/mC1/4ArW1o/nEJz4J2M7/0EP/zfz583nf+96HX1G2lJJp06ZRXl7OkiWL+drXvgaApmk5BpFIdHD48GGGDRvGsGGVgHSe0pxG0zTa2toYNmyYN9OTEhobj9He3k5t7WgikdM7M5VSUl1dzVVXXcWzzz7L5ZdfTllZOUKIHB3pdJrDhxsIh8OMHDkSIezlovb2dmKxGM3NzZSUlFJSUuz9TXt7G8eOHWPEiBGUlJSe9raKRCJ8/OMfZ/Xq1ezatZupU6cihMgZqKSUHDlymFQqRU1NLeFwGCkt2tvbiEajtLe3o2kaFRXDnAyHIJVKUl9fT1lZGVVVVadVw8mIx+Nceuml/N3fXYumaTQ3t/DUU7/jU5/6FEuWLGbSpElcfPHFAIwaVYOm5WMHJGhqamTlypXceedXmDFjJhUVFdx1110cPHiQWbNmceGFF1JeXkFZWRkPPfSQr5OkEyMZM2YMX//61+2HhnrBh2TmzJnMnHkeALt27WT37t3cdNNN6HoIv/qtvvhIOm3kva8DXHXVVRw8eJBVq1YxZ87cgvN1IQR///d/T2VlJdFojN2797BlyxZSqVQvNpffTJ8+g7lzr8t6xV56TCQ6WLx4Meeeey6hUCiv9eRh4ORiV+bSpc+haTof+MCFZJxQsH79m2zevJn7778fITT8TE+GQmHmzZvH97//fXbt2k1tbU3Oz/fs2c0jjzxCZ2cnlmXxsY99jA996MNs2LCBxYsXU1VVxd69e6mpqeHuu++mtLSMFSteYunSpQBMnjyZW2+9laKi4tOq07IsZs+ezfr1671OKJumpkYWLVrEwYMHkVJywQUXsHDhQpqamvj3f/93JkyYwIEDB0ilUtx1111MnnwGO3fuYNGiRSSTScrKyvjSl77E6NFjTruOadOm0dTUzJIli/n61//V+5kQAsNI8/vf/5433ngDIQSjR4/ms5/9HCUlxfzXf/0XlmXR1tZGfX09t9xyCx/60Ic5fvw4//3fv+bw4cMIIfjUpz7FBRd84LTq6B3JpEmTGD9+fFZAJIlGo8TjcTZt2kRVVRU///nP2bdvHx/72MeYP39+VgCcP6TTaTo7O6msHAZAaWkpIDh48CCXXfZB4vE4b7zxOosXL+bSSy9j3Lhxfhe5V+zB2p5o9NTpp1IpHnvsMWbOnMm4cePxs886sY9oNDc38fDDD+e9r0spqaqq5rzzzmPp0qVceeWVnp0LITBNg6eeeirAvm7rqKmp5dixo6xdu5Zly/7EtddeS1lZmfsbvdpcviGEYPPmTfzwhz9gxIgRzJkzh6qqagBeeuklkskkF198Ma+//rrfRT0h+Zm/B9zliBdf/CvXXvt3WXsBBKlUimeeeYaLLrqI4cNH4PearpQW06adzfTpM1i8eDGGYW9KFEKQTHbyi1/8gqlTp3L//ffzyU9+kkcffZQDB/bT1tbG6tWrufzyy7n99tvZtGkTO3bs4NChOhYtWsS8efO45557aG5uZsOGDUOgQ1JVVcWcOXNYunQp7e1tORmnp556ipaWFu655x6+8pWvsGbNGlatWoVpmrz++utUVlbyta99jXQ6zfLly0mnU/z617/mzDPP5P7772fChAn89a9/HZI2CYfDzJv3cTZs2MCePXu8GaimaaxevZpVq1Zxxx138K1vfYt4PM5TT/0O0zTZunUrx48f56tf/Spnn302zz33HIaR5g9/eNrTPnfuXJYtW0ZnZwK/UslCCGdfgOD48WOsXLmSuXPnEg6H2bdvHyNHjuRf//Vfufnmm3niiSc4dOiQb2U9ESUlJVRXV7N9+w4A9u8/QH39IZLJJADHjh3l6aefZtu2bUyffq7TD+T/ANETGzduYN++fcyePdvvogC9+4iUVqB8XUp7wmeaJqtWrfL6q0LxdZddu3bxxBNPEI/HmTp1qu/lGQjhcJijR49y5plnsn37dn7+859jGGkOHz7Mn/70J+bNm09ZWVmXlY78I48DJ3jjjTcJhUJMnTot5/WDBw+wc+dOLr30Ur+LCNgBRzgcYt68eWzcuIHdu3d5S3X19fXs37+fj3zkGoqLS5g1axaVlZWsX78eIQRnnHEG5547nYkTJzFy5Eja2trYsWMHDQ0NrFixgl//+tccOnSI+vr6IdPidkIrV670OtNEooMNGzYwe/ZVVFZWMXHiJKZPn866deuwLIuKigouu+yD1NaOZsKECbS2ttLY2MjmzZvZuXMnP/vZz9i+fTuHDx/GMNKnXYc9oz6b6dOns2TJYu+EjZSSdevWce655zJ58hkMG1bJVVddzYYNG2htbaW4uJgLL7yQESNGMnXqNFKpFC0tLWzYsIEjR47wq1/9ihUrVnD06NEe9rANNfZS18MPP8yMGTOYM2cuUkpKS0u58srZlJaWMWvWBRQVFbF3716fy9oTktLSMubOncsTTzzOD37wAEuXPouu6wwfPhyA8ePH873vfY/vf//7PP3006xdu5YgDhgAK1as4Mwzz2LECP8ne9CzjwghaGtrY/369YHxdSklJSWlzJkzh2effZbm5mYvA1M4vi655JJL+NWvfsUtt9zCAw88wMGDBwiaL8ybN4+f/vSnXHfdx7jxxhtZvXo1dXV1LFmymHg8jmka3vi3devWIbGfgZDXS3VvvvkGZ555ppOSzHQ07lJEbe1ovwvp4aa+3ayTO1DbS0MG6bRtAKZpkUwmvWi6tLSUUEjPORas6zoTJ05k3rx5RKNRNE3zBpLTjZSS8vIKL+tUVlZGdXW1p9HNBIC9CdNND+u6nrXXwUbTNKqrq5kzZw61tbWAfTpyKE9KzJs3j//4j/8gkUhkzahlNx1u/YdCIWe5CNyr+YUQFBUVcf7553PppZdiWRaxWIyKigr8GwDtTNOjjz7KlClTuO66j6HrOrFYjJqamix9mfbJTyRz5sxl3LhxxONxDMNg165d1NTUkE6nCYVCaJrGxImTKC0tZfPmzVx++RV+F/qk5M6WBa2tLWzfvp1PfnIB9mDnf+Dk0tVH3L1MQfP12bNns2zZMlatWlVQvm5ZFoZhEolE0HWNGTNm0tjYyHvvvcfYsZml63zO0ICdGaytrUXTbJuIRKKk02ni8TiVlZWMHj2aP//5z2zfvp1Dhw6xdu1apk6dSiiUf1nmPM042Udm6+rqGDlyVLef7t27l/LycoqKYvhdoZZleY6oaRrz5n2cTZs2sXv3bqSU1NbWMmXKFJ566nfs2/cef/7zC7S0tHDBBRdgmmbWvRx430+fPp1IJMJ7773HsGHDaG9v5+jRo6ddS3ZZZs+ejWVZrFq1CoCiomIuuuginntuKTt37uC1115lw4YNXHHFFc5egszfuncLDR8+nHPPPZfNmzdTWlqKaZocOnTotK7FSymz7v2BadOmMWPGDJYuXUo6nUYIwRVXXMGmTZtYt+4Vdu3aydKlz3LhhRdSVlaW87fuexUXF3PJJZewdetWNE0jFotRV1fnXJfhR2dlD8Q//OEPaW9vZ+zYsWzatJHt27dRXFzMzJkz+dvfXqS5uYnXX3+dSCTiHTnPPwQtLc2cccYZzJgxg1WrVvHhD3+YqqoqlixZzMsvr6K9vY09e3bT0NDAtGnTTv0jTxPpdJr6+kM0NjZy/Phx6usPeROmeDxOfX09o0fX+l3Mk/pIWVkZF198cd77uvv5ro6KimHMmTPHu7JG0zQuvzz4vt7W1sajjz7C229vJZHoYP36NwmHw4wfPx7TNHq1ufxCEI/H+e1vf8u2bW/T0RFn+fKXmDhxIuPGjWPBggV897vf5dvfvpe5c+dy3nnnceutt1JSUoLfY3xP5G3GybIsRo0axeTJk7r9rLi4mKlTp/p6KsVl1KhRnHXWWV60f9ZZU5k7dy5r1qzxTsndeeedLFq0iB/84AdEo1HuuOMOxowZS11dHdOmTUPXdaSUnHPOOc41DNV88Ytf5He/+x0vv/wyJSUlXH/99adVR1FRETNnziQajQJ2J7RgwQKam5sZO3YsAAsXLsQwDH7605+iaRrz58/ngx/8IE1NTbz//e8nFosBMGnSJCKRCEJofP7zn+fRRx/lBz/4AZFIhGuuuea0HsMOhUJePQJoms78+fN5++23mThxIgCXXnopjY2NPPnkk0gpOfvss7nhhk8RCoWYNm2al90bMWIE06ZNQ9M0rrvuOuLxOD/72c8IhULMmDGDWbNmndY2ORHHjh3zjo7/8pe/xLIsJk6cyN1338311y/kF7/4L+655x40TeOLX/wiI0aMxG9f6Y3Nmzfzpz/9CYAJEyZw/fXXEwqFOeecc3jyySdZsmQJyWSSOXPmcPnll/td3F4QNDc3s2jRIo4fPw7AokWL+NznPseoUTWYpsmkSZMYNWrUKX7OqXMiH5kwYQKapnH99QtJp9N57evu52c2ScOHP/xh1q5dS0dHB6FQiMsuu5TGxuMB9nVJWVkZkyZN4uGHH0ZKSWdnJ7fffjvjx0/g6NEjvdpcfvm79K7leOihh9A0Dcuy+OpXv+rcPSc9W6mtrXXG93zNkgNSWvIkX4aUMi6llJYlZSptyNa2dnmooUG+8957csNbW+TfVq2WTz/7vLz3u9+TH/rwh2R9/SFpc9L37vXLNA3Z1NQoOzsT3X7W0tIs29vbTun9e/6Sct++9+SMGdPltGlT5csvrzqpDtM0pGGku72WTqekZZne+xpGWjY3N8pkstN7T8syc/7WMNI5f5NMdsrGxuMylUr2W0drS7NcsOCTcsy4sfKXv/zFSXV0LYv7WjqdkqZpeO9rWaZsbW2R8Xh71u+aOWU3TSPnbwzDbsuOjviA2uWee74pq6qr5Fe/+k8ynU6d9Pdz69H+SqdTXfRJGY+3y9bWZud3Zbe/7Vonrva2ttZu79+XNnniicflxMmT5Ef/7qPy+PFjp+QjbtukUknvK1M3UnZ0xOWePbudzxlcH9m0aaM855yz5TnvO0du3brllH09nU7JffvekwcO7HfqW3qfFY+3y127dsq6uoNZNjU4Oo4dOyo/8pGr5aQzJsunnvrdKeuwLFMmk505X66dpNMpefz4MWkYg6nB1pFKJeWdd94hq6qr5L33frtPOk7uI374upQ///nP5Ogxo+UNn7pBtrW1nlRL7ufn9r9++vqKFcvl1GlT5cyZM2Rd3cFTti0ppWxsPC537Ngujx07llPO3mxuMGzr0KE6OWvW+fKsqWfJF1/86yDosGRTU6Pcs2d3r+3b05h6qjra29vkZ27+jPz8P35Z/vb3T8tnX/irXP3q63Lrjp2yrr5Btra1yWQqJS3LcsokD0lpJXp7z7zNOGma5t131JXy8go37PO7mD3OqDRN6/K6RNd1KipcPXa5hRA5UXVuhC2JRCJDdoNv17K4r+XeNm3vAXBnCFm/mfO33bX33pang55mKt1vzZYUFxeT2W/SfS9Q1zqxtZeRD3Rvm1xtRUVFzm36kA9+ciJCoRDjx0/IKmvmDqTi4mLOPPOsQOgQQhCJRHrVaB+7zg8NJ/eRYPh6X/vfIPu6q6GysorKyirve7ecvdlcvjJsWGWWjXS3k3y9rDebvA2cbGQ/X893BlLufNRaKDryuVz/27TJAf4sSARRh/L1/CHo5S8cHfkf2ikUCoVCoVDkCSpwUigUCoVCoegjKnBSKBQKhUKh6CMqcFIoFAqFQqHoIypwUigUCoVCoegjKnBSKBQKhUKh6CMqcFIoFAqFQqHoIypwUigUCoVCoegjKnBSKBQKhUKh6CMqcFIoFAqFQqHoI4MTOAm/ZSgUCoVCoVD0hVN77MuAAychhPsPQKjgSaFQKBQKRZ4jEEIghBO+OK/1h34FTqJLfCSEwAmbnIIUUvRUSFoUCkVvKE9XKE5GYXiJG6e4X5rQ0DQ3iNL6rLP/GSc3SnPDNQGaJtA0DU3TEAVSwYUhoyBEFBSqRfIN1SL5R8GMIgVD4eREnIBJEwihDTjZEzqVD7czThpCaGjYwZNt8cL7vaBhR51uFs2NK4OnA6E5cW12JjCAOsgsCwvh5Tf9LtJAlXhZ2mD7iD1pcjPNQdVht0fXbHlQdWgF4etum3hbQAKqxbOpgOvIZEqyw9lg6hBOjBLSdDvT5NiZEP0fU/odOHnJJuw0l647XyEdXdfpiHewevXLVFdXI+WpbcAaaoQQHDlyhM5kEsuyWL/+TdLpFJZl+V20ftPR0cHx48cRAnbu3MnKFcsxA6gDYN9776FpGgcPHmT5S39DDw0w3vcRTdPYtu1tpJS0tLTw8qqVlJeXn+IWxaFHCME777xDKpUCYN26dTQ0NATP14GW1lZaW1uxpGTr1q0MHz48kL5uGAaHDtUhNMHevXtZvvylwLUHgK5p7Nq1ExAcO3aMlStXUFRU5Hex+o2maWzauBHDMJBSsmbNaoYPHx64NhFCcPz4cRKJBKZpsnHjBjRdC5aPSAlCkEgkOHLkMJOHVaGHdDRdR9N0e5XM2e/Ur7qR0jpZa5ogkkAxgGmaJJNJ4okEnakUbW3ttLS00trWynvv7eP3Tz5Oe3s7UlpYpoUlLSzLQkqZYzh+mJCUMiUQISHsJUo30syseYJlSYSmEYlESHYmEJoGTtnt4kvfHUBKaYDQveRFzmY3O9PkFjFWXERHezu6rnfTkK3DsmRKCEIik2YbAh1YIE0hRDijI3cdGgmmZRErLiLZ2YkmBFLilD23XZy6MUFoYgiz/VJKC8jSkcnKaFnZDNM0KS4tJZno9OpeIh37ymjy6kZKU2iZ9xwiLTn1l8ku2eltsH0kFA4DEjNtgCZyfCRHh91IphBiSKPd7vbck49IEBqxItdHtBP6iJQyjd1/DJ1tOQXpWYf9b7fOo0UxOjsSveiALB9JA/rQ+rq0pMTQNBHJ6Oji64BpmBSX9eYjXXTY4iwhhD6E7QESmW0DPfmIaVrEiopIp1NIy8IO1XvxEYklpcyqm6Ghq4/0pMP1kWg0SmeiA03TcjS4bZPdzgjRdTv0kJKxKS2zhUgIQqEQH50zlxkzZlJeVsqwigoqKiooLy2luChGNBJF13U3iKoHWQnEevqMgXVmzqYqXWjouk44HELXQ1QPH86CG2+iubmFeEc7iUSCZGcnqVSKtGFgmkY34x9KpJTNCFEhhIhqQqBpOrquEQrZ5Xc7VF3TEZrANE37y7KwTBPLsr+3A0HPcORQG4mEuIBiEGF3rVbX7YxfKBRC0+x+RNc0b4bQVYdhmlimaeuwHboRGCZ6MZTThCGhXUCVa+R2BlMnFAo7wZ69h07XdaRlYbg6HC1uG2V1rkkgCgxZZ+roaBNQ7Tqsq0PXQ4RCIcAOojRdQ4Ctw7SwpIllWhkd0ptkpCW0CBg5hDqQ0AEUCSFCWlabhEJhT4cQOB2MwDQMTMvybMu0TEwjWweGRMYFDBtiHU3AMIGIZvtIKKQT0kMI10d0W6NlmhimhSlNpGl5OizLdPwcpJRtAkqBoRzgJJAGork+EnL6rVwf6e7rFqZpYJqWN1hbUrYIKB9iHSkpaRaCGm9Tblafpes6OAO2O8kzHR8xLRNpZXzdkt5kw5TIhICyoWwPCdKO+TKDs6ujNx8xsvusbj4i0xKaBYwaQh1IsPt8IWJdx8NQKOxNXDXHR7LbI9P/GpnECPakXthxhS+Bk90WdjtEIhFisRixaIxINEpZaRnV1dWEQiHCYbs/C+nu5vDTvVTn7kbXNEK6bn+FQoRDISLhMMUlJZimhabrhMMROiNRUqkUhpHGMO1OKDtCHVKklAghszMBnuOGQiBz16allcmWWZ7j2lm0zAxIDv1pQvtD7fbQNHtAdg0mHEITGhKJljWhtDwtmUE6OxPodAZD3yRIKRAIze5MhWtXobA3u9G0nnRkt4kdOElLeu835DKcmUC2f2iaRigcJqSHcnQIIXLaw7IsDMPugCw3y2H/Xw61bTmfmfERTUPXMoGTbXqatw9F9tIe2Tr8wLFnu02yfMQd3Ly9jFn1a1oW8gQ+4qb9/SLX10/iI9JCWtIJmrr6upQC4cvM1T1U5J5m0nWdUDiMrum5Opzsf0/tYUnb150pn39byR0f8Xy9Bx/pydd78BHpj68jhbMn2Q0eMuNhOLOjyenTuve9FpZlYFo5fZavp+sz40eIcDhCNBajKGZnk0pKSohGI0TCYcKhECHdXqrTBrBU1/+MkwChOQOdZu9tciO4SCRCLBIhHYthOSuAbmMYRtgzHt+WuqRTfpHZUW9rsCvRk+gGTlJ6A0P2l9cBSct9S190gPA6U7ueQ4RCtjFYjgG7swZ35my52QF3kCDTCflHVuDk2IseCqFn63DuCnPL3a1N8kIHnl25M9FQSHeCcrvRsgMOtz3sztTKmoF62ZohH6dd08r1ETtTow/QR/xFZO1jyGSdNKFhIdHcDbxOW3g+YlpZ2SbHtqT0cwGim4/Y2eU++Igz2fPbRzK2pXmnmtxgVtf1LB1kBeUSKU0sSzoZWekEHM7kFf+apEcf6dHXpRc05bRHlq/7IcTrX0TGrnLHQ3t50d1A3d3XZcZHchIJPjUI2RNWJ3CKRInFokTCETtoioQJh+0EQyhs6xSalhXo9u2TBrA53K5kdxYdCYeJRMIUFcVIm4adjQFCIZ1oJEwyFSOVTtlp76wBwRecjk84AYcQmSjb3RcA2XsHpOO49uzN6mLoln+Zs4wOdz1Xc1OturuannXKxi675cwMus6iLZk9KPjjvd5eICHQnYDcbQPhdkIIZ8+czDhxbobGxyHBLl/uHSECPRRC04RjW5l9HbY9WZ6NWVZWFtPdRyfxIcOR7QMZH3ED8pP7iOUMFF7qHv9Gha4+onmZcneXjPtzN6hw7SmvfCSrnJ5tOUvBA/ORjL0OpQb3M13fICt75vqIG/zZGQ434Mi0SXam3zcdjl9m9sv15CM9+7q0ZNfsn3++fpLx0NlEluMjvY2H3r4t33wkM+Fzg7+Ik8yxg6UwxUVFlBQXU1QUIxaJEnYyhLque8mgvjKgPU7uPQiaphEJh4lFo14UKrD3CEXCEZLRJGnDIJ02nHXqzN4gf3E2vzkNrOs6etagYGsks4/J3RtguZvhsl/3F1uH8DS5mTO3aK4pSDKdv+UGr1mdkN+4wZ+7F0gP6QiEk7EQni/aEjIdjyVdsdLLcvquw91k6eyX005iW9Iru9s+ZBpwqMmkBbzBbaA68sPX++kjlrcPKO98JEeHM1DTi4+42wmydWQCQPwY1zyyfV0IQUi3Z/xeUJ6lIzuTYcksH7HA/+xyb77ubgbvh4/40SZZKxe546GGrunYGylcrT2MhzIT9Ekp/dORhaa52wvsjGwkbK+GhcMhimIxiouLKS4qJlYUIxaNENJDXratP0u+Aw6cdE1HhuzajEaiXqVpmkY4FCYajZBKxTAMI7NZ0V2X9mnvgzc/cWbTbrSt6873PZQp47B4G6m9oxVuatJXHW4HhJem9Arb5W/sgKMHHQA+HTF15mZ2R+reDaTZWSd7UOhev1bWQJZzesj+IUPdoWbPe227ci6Gdfc/CNHjwJtrW9mZWH9ty10qcX1EcydKQhuQDv99Pfe0UI8+4g4MloUXZ+T4OuDTsmNPPpLRIXrx9awTXF19XVo+xhxdfN3JMIsB+shQ21ZOjqubjwTP120Z3cfDXn2dXB/JBFe5Ewx/Yifbtuxg3Dl4EA55+5mi0ShFRUX2VyxGJBxxMk4aWj/vAh/Q5nBNCKQmCKEh9RDRiMxsGA/phCNhYqkoacPwAid73d1Nrvq7xu7qyAQcvV2AJb10pWtD3nJQVkfk2+BmK/FSwrk6ZJd/5xp6rtF7XaqPWjJ7ArKP8PdXh/+2JbwOSBP2ZsXuOrLL3LsO323LCTa6+0iXNsn2kS7+khc6BtFH/DlAkesj2UtdA9GRDz7SdVNydx3ZZc5XHfTiIyfWkU8+ApklLvrh624s7mWccpT4mXRylxud/YzuCe2Q5i3dxaIxYpGIfRtAyF5t6u/JulNYqtNAWITQcwa8kK4TDocxYiZG2rCPvXsnIaycBhtystZ0yRqc3XtRuu/9zOqEsiZ23n4B7z392tXnGH3Waa3euqDcAaAXHfabDLEW3FgjS4fbRj23iRu49qwDH3qgTN1lZqJ2ITTRuw637FIIT4x0sgEyD9qjvzpw7hTK1eH8mo+Rk+jq6yf4Iylz+yffbSuLfvnIyXzdlx28bu6MTIbjJDrc4kpBxkeyxxEf+99B85GsfVNDroPMQY+u42H3gTo7KM8327JxfcTNkIec/Vqarnsn/729TV7Q1P9Hrww4cBKahibdaNs5seJs6o2EI/ZdFVlLdLlLK3myNt3l++wTAW77yywr6dqh+q8Dsu+w83Q4hRVZwZ4ngi6vZe8d8HFUyJ5BZ9on62RZ1vJ59ownW5uvBw8cutqWO3s7kW11LXP2PgLfkt4D0BEoH/EGjcxAl50N79lH/CU7E9CTj/Td1/0lx7bc7Fm2rwPusfbefcTy0dedAHBQfd1PHb37SPZ+s4yNybz0dci0gZtddgOjzCEE+2Cbva/ZuVdvKO5x8goohJ2qc2ZA9pq7fSQ+c/TS3QyXu6bu19knl+w5p5stcwrm9aAS13G7JMGzjMN/HZn/2lpE9gjgGHzmnpOcpGtuj+qzkq5t0l2Hl/brMqMLhA7oxbay2qbbPhW/batQdGT+627i9XQ4P+qeIaCblrzSQQH6enahsxIw+W1bheIjJxkPyQSy3cbxvBrXM/8Fsu4GdLd/uFd5aN6+uoEETXAKgRNk1kV13TUMDanbM+XcHfiZtVC3iv3FnbWRMRJXj+xiAF1SlvmlwymgyCxBSFdH1nq6+/Mch5X+7xUYiA4EiJwmkD3OtH3VQa5tufs5vHS2+1tdsgT5ZVuFpSPbtjIBeG7ZCsVHAqGDTLDhLnnl7l+yB3SZOzLnbHT3n0LxEbuAhTYeuhqy7cxeIdOwV4oHFjTBKQZOdsGcwiKwT/lmzdK6RtZ5kMrLLXtWpblr7V3K6f5Ozuwzn3X0UuZC0eG2Uz7r6KqlRx30MMDloZaC1tFlxpy9zB0EHTlaAufr0C2D1gcd+aml8HykEMfDbHGnug1r0B68mSlIdyMKGj2VO4halI78QunIL4SX7jjxa0GgYNpE6cg7CknLYDFkT8dWKAqcwZ525dc0TmkpJB0KheIU6EvGSQNpAi1+F3YQMIE4kBzE9/Tj6FPK+dzBDHwtBr9uToaJ/eT3wbStNHb9DOWkwASMQdZhOO871H6XdD53kOpPOG0sh1rH6bDnNNAO6Kf6Rn1HSMAE2TmIb2o4dTOY73kyHQZgDbIdWI6WobyZ9DRcsHFa6qYvnA4fcfuOoKekdE7g50LKPj2nwmJojfN00ePtFApA1Y2isFD23Dt+1Y1qk97xo25Ue/SOxgkmj33d43TCN1EoFAqFQqH434AKhhQKhUKhUCj6iAqcFAqFQqFQKPqICpwUCoVCoVAo+ogKnBQKhUKhUCj6iAqcFAqFQqFQKPqICpwUCoVCoVAo+kgIaPW7EAqFQqFQKBRB4P8DjMYic6JVza4AAAAldEVYdGRhdGU6Y3JlYXRlADIwMTItMDEtMjNUMTE6Mjg6NDItMDY6MDCV+lD2AAAAJXRFWHRkYXRlOm1vZGlmeQAyMDEyLTAxLTIzVDExOjI4OjQyLTA2OjAw5KfoSgAAABh0RVh0UE5HOmlDQ1AAY2h1bmsgd2FzIGZvdW5kqvNcLgAAABR0RVh0UE5HOklIRFIuYml0X2RlcHRoADgphX5QAAAAFXRFWHRQTkc6SUhEUi5jb2xvcl90eXBlADYGSqcrAAAAG3RFWHRQTkc6SUhEUi5pbnRlcmxhY2VfbWV0aG9kADD7OweMAAAAH3RFWHRQTkc6SUhEUi53aWR0aCxoZWlnaHQAMTE4MCwgMjAzZ4NFkAAAACh0RVh0UE5HOnBIWXMAeF9yZXM9NTkwNiwgeV9yZXM9NTkwNiwgdW5pdHM9MRbC6PkAAAAASUVORK5CYII=)"
   ]
  },
  {
   "cell_type": "markdown",
   "metadata": {
    "id": "_6l4dWHHRhEv"
   },
   "source": [
    "### Resolução de colisões\n",
    "\n",
    "Quando dois valores são levados à mesma posição pela função *hash*, é preciso, de forma sistemática, colocar o segundo item na tabela de dispersão. Esse processo é chamado de **resolução de colisões**. \n",
    "\n",
    "Se a função de espalhamento for perfeita, colisões não ocorrerão. Contudo, como isso não é muito realista, a resolução de colisões é parte importante do *hashing*.\n",
    "\n",
    "**Método do endereçamento aberto com sondagem linear**: começar pela posição do valor de espalhamento original e mover de forma sequencial pelas entradas até encontrar a primeira que esteja vazia.\n",
    "\n",
    "Sejam os valores $54,26,93,17,77,31,44,55,20$ submetidos à função de espalhamento simples baseada no resto da divisão. Quando tentamos colocar o 44 na entrada 0, ocorre uma colisão. Usando a sondagem linear, procuramos sequencialmente, entrada por entrada, até encontrarmos uma posição aberta. Nesse caso, achamos o índice 1"
   ]
  },
  {
   "cell_type": "code",
   "execution_count": 5,
   "metadata": {
    "colab": {
     "base_uri": "https://localhost:8080/"
    },
    "executionInfo": {
     "elapsed": 298,
     "status": "ok",
     "timestamp": 1641840034429,
     "user": {
      "displayName": "Waldeyr Mendes Cordeiro da Silva",
      "photoUrl": "https://lh3.googleusercontent.com/a-/AOh14GgXl7vAH6l0VPjECKc5e3QXWv0QmnF7d2o7ekhr7-E=s64",
      "userId": "06543881337980292104"
     },
     "user_tz": 180
    },
    "id": "wU2PDzvyRLCy",
    "outputId": "b8e747fd-7dc9-4e75-d584-f1a4423893e2"
   },
   "outputs": [
    {
     "name": "stdout",
     "output_type": "stream",
     "text": [
      "54%11=10\n",
      "26%11=4\n",
      "93%11=5\n",
      "17%11=6\n",
      "77%11=0\n",
      "31%11=9\n",
      "44%11=0\n",
      "55%11=0\n",
      "20%11=9\n"
     ]
    }
   ],
   "source": [
    "lista = [54,26,93,17,77,31,44,55,20]\n",
    "tabela_hash = [None,None,None,None,None,None,None,None,None,None,None]\n",
    "for valor in lista:\n",
    "    print(f\"{valor}%{len(tabela_hash)}={valor%len(tabela_hash)}\")"
   ]
  },
  {
   "cell_type": "markdown",
   "metadata": {
    "id": "EI92oPw4Sy78"
   },
   "source": [
    "Da mesma forma, que o 44, o 55 também ocuparia o índice $0$ usando a função modular, seguindo o algoritmo de  resolução de colisões com sondagem linear, a tabela hash ficaria assim:\n",
    "![linearprobing1.png](data:image/png;base64,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)"
   ]
  },
  {
   "cell_type": "markdown",
   "metadata": {
    "id": "GU3YRBoNTcXS"
   },
   "source": [
    "Há ainda outros adaptações que buscam potencialmente irá reduzir esta aglutinação, como **mais 3**, onde uma vez ocorrida a colisão, iremos procurar de três em três entradas até encontrar uma vazia. O nome geral para esse processo de procurar por outro índice depois de uma colisão é *rehashing*. "
   ]
  },
  {
   "cell_type": "markdown",
   "metadata": {
    "id": "f11Vahb3T6bd"
   },
   "source": [
    "Uma alternativa para lidar com o problema da colisão é permitir que cada entrada tenha uma referência para uma coleção (ou sequência) de itens. \n",
    "\n",
    "O **encadeamento** permite que muitos itens existam no mesma entrada de uma tabela *hash*. Quando colisões acontecem, o item ainda assim é colocado em uma lista na entrada apropriada da tabela *hash*. \n",
    "Obviamente, conforme mais itens vão sendo alocados para a mesma posição, a dificuldade de encontrar um item na coleção aumenta.\n",
    "![chaining.png](data:image/png;base64,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)"
   ]
  },
  {
   "cell_type": "markdown",
   "metadata": {
    "id": "-RrZ-cVuUeub"
   },
   "source": [
    "Tipicamente, no melhor caso, o tempo de busca de uma tabela *hash* é $O(1)$ ou seja, constante. Entretanto as colisões fazem com que haja algum processamento extra prejudicando um pouco o tempo de busca."
   ]
  },
  {
   "cell_type": "code",
   "execution_count": 13,
   "metadata": {
    "id": "IrxqBhDwYDel"
   },
   "outputs": [],
   "source": [
    "# Algoritmo original desenvolvido por Carlos H. Morimoto\n",
    "# https://panda.ime.usp.br/panda/static/pythonds_pt/05-OrdenacaoBusca/Hashing.html\n",
    "class TabelaHash:\n",
    "    def __init__(self):\n",
    "        self.tamanho = 11\n",
    "        self.celulas = [None] * self.tamanho\n",
    "        self.dados = [None] * self.tamanho\n",
    "\n",
    "    def put(self,chave,dados):\n",
    "      hashvalue = self.funcaoHash(chave,len(self.celulas))\n",
    "\n",
    "      if self.celulas[hashvalue] == None:\n",
    "        self.celulas[hashvalue] = chave\n",
    "        self.dados[hashvalue] = dados\n",
    "      else:\n",
    "        if self.celulas[hashvalue] == chave:\n",
    "          self.dados[hashvalue] = dados  #replace\n",
    "        else:\n",
    "          proximaCelula = self.reHash(hashvalue,len(self.celulas))\n",
    "          while self.celulas[proximaCelula] != None and \\\n",
    "                          self.celulas[proximaCelula] != chave:\n",
    "            proximaCelula = self.reHash(proximaCelula,len(self.celulas))\n",
    "\n",
    "          if self.celulas[proximaCelula] == None:\n",
    "            self.celulas[proximaCelula]=chave\n",
    "            self.dados[proximaCelula]=dados\n",
    "          else:\n",
    "            self.dados[proximaCelula] = dados #replace\n",
    "\n",
    "    def funcaoHash(self,chave,tamanho):\n",
    "         return chave%tamanho\n",
    "\n",
    "    def reHash(self,oldhash,tamanho):\n",
    "        return (oldhash+1)%tamanho\n",
    "\n",
    "    def get(self,chave):\n",
    "      celulaInicial = self.funcaoHash(chave,len(self.celulas))\n",
    "\n",
    "      dados = None\n",
    "      parada = False\n",
    "      encontrado = False\n",
    "      posicao = celulaInicial\n",
    "      while self.celulas[posicao] != None and  \\\n",
    "                           not encontrado and not parada:\n",
    "         if self.celulas[posicao] == chave:\n",
    "           encontrado = True\n",
    "           dados = self.dados[posicao]\n",
    "         else:\n",
    "           posicao=self.reHash(posicao,len(self.celulas))\n",
    "           if posicao == celulaInicial:\n",
    "               parada = True\n",
    "      return dados\n",
    "\n",
    "    def __getitem__(self,chave):\n",
    "        return self.get(chave)\n",
    "\n",
    "    def __setitem__(self,chave,dados):\n",
    "        self.put(chave,dados)"
   ]
  },
  {
   "cell_type": "code",
   "execution_count": 14,
   "metadata": {
    "executionInfo": {
     "elapsed": 332,
     "status": "ok",
     "timestamp": 1641841721059,
     "user": {
      "displayName": "Waldeyr Mendes Cordeiro da Silva",
      "photoUrl": "https://lh3.googleusercontent.com/a-/AOh14GgXl7vAH6l0VPjECKc5e3QXWv0QmnF7d2o7ekhr7-E=s64",
      "userId": "06543881337980292104"
     },
     "user_tz": 180
    },
    "id": "uV_ZW-HbX8Eq"
   },
   "outputs": [],
   "source": [
    "H = TabelaHash()\n",
    "H[54]=\"gato\"\n",
    "H[26]=\"cachorro\"\n",
    "H[93]=\"arara\"\n",
    "H[17]=\"papagaio\"\n",
    "H[77]=\"lobo guará\"\n",
    "H[31]=\"capivara\"\n",
    "H[44]=\"seriema\"\n",
    "H[55]=\"jaú\"\n",
    "H[20]=\"jacaré\""
   ]
  },
  {
   "cell_type": "code",
   "execution_count": 15,
   "metadata": {
    "colab": {
     "base_uri": "https://localhost:8080/"
    },
    "executionInfo": {
     "elapsed": 13,
     "status": "ok",
     "timestamp": 1641841721904,
     "user": {
      "displayName": "Waldeyr Mendes Cordeiro da Silva",
      "photoUrl": "https://lh3.googleusercontent.com/a-/AOh14GgXl7vAH6l0VPjECKc5e3QXWv0QmnF7d2o7ekhr7-E=s64",
      "userId": "06543881337980292104"
     },
     "user_tz": 180
    },
    "id": "N1Uh0Kl3Y0a4",
    "outputId": "3637a81d-26f6-49ef-babf-c08bd8d62b7b"
   },
   "outputs": [
    {
     "name": "stdout",
     "output_type": "stream",
     "text": [
      "[77, 44, 55, 20, 26, 93, 17, None, None, 31, 54]\n"
     ]
    }
   ],
   "source": [
    "print(H.celulas)"
   ]
  },
  {
   "cell_type": "code",
   "execution_count": 10,
   "metadata": {
    "colab": {
     "base_uri": "https://localhost:8080/"
    },
    "executionInfo": {
     "elapsed": 14,
     "status": "ok",
     "timestamp": 1641841722772,
     "user": {
      "displayName": "Waldeyr Mendes Cordeiro da Silva",
      "photoUrl": "https://lh3.googleusercontent.com/a-/AOh14GgXl7vAH6l0VPjECKc5e3QXWv0QmnF7d2o7ekhr7-E=s64",
      "userId": "06543881337980292104"
     },
     "user_tz": 180
    },
    "id": "8F7vEV-OY3H2",
    "outputId": "00c0b043-d257-424c-81a6-9109dfe5b2a9"
   },
   "outputs": [
    {
     "name": "stdout",
     "output_type": "stream",
     "text": [
      "['lobo guará', 'seriema', 'jaú', 'jacaré', 'cachorro', 'arara', 'papagaio', None, None, 'capivara', 'gato']\n"
     ]
    }
   ],
   "source": [
    "print(H.dados)"
   ]
  },
  {
   "cell_type": "code",
   "execution_count": 11,
   "metadata": {
    "colab": {
     "base_uri": "https://localhost:8080/"
    },
    "executionInfo": {
     "elapsed": 8,
     "status": "ok",
     "timestamp": 1641841723736,
     "user": {
      "displayName": "Waldeyr Mendes Cordeiro da Silva",
      "photoUrl": "https://lh3.googleusercontent.com/a-/AOh14GgXl7vAH6l0VPjECKc5e3QXWv0QmnF7d2o7ekhr7-E=s64",
      "userId": "06543881337980292104"
     },
     "user_tz": 180
    },
    "id": "49ZPLKFIY62V",
    "outputId": "aa649c8a-e33a-4e45-a764-3f165662a0eb"
   },
   "outputs": [
    {
     "name": "stdout",
     "output_type": "stream",
     "text": [
      "jacaré\n",
      "papagaio\n"
     ]
    }
   ],
   "source": [
    "print(H[20])\n",
    "print(H[17])"
   ]
  },
  {
   "cell_type": "code",
   "execution_count": 12,
   "metadata": {
    "colab": {
     "base_uri": "https://localhost:8080/"
    },
    "executionInfo": {
     "elapsed": 248,
     "status": "ok",
     "timestamp": 1641841727474,
     "user": {
      "displayName": "Waldeyr Mendes Cordeiro da Silva",
      "photoUrl": "https://lh3.googleusercontent.com/a-/AOh14GgXl7vAH6l0VPjECKc5e3QXWv0QmnF7d2o7ekhr7-E=s64",
      "userId": "06543881337980292104"
     },
     "user_tz": 180
    },
    "id": "yO_sBv_rZDYm",
    "outputId": "9fbbe41e-a0b2-4070-e330-5cb2d4bc8fca"
   },
   "outputs": [
    {
     "name": "stdout",
     "output_type": "stream",
     "text": [
      "jaguatirica\n",
      "papagaio\n"
     ]
    }
   ],
   "source": [
    "H[20]='jaguatirica'\n",
    "print(H[20])\n",
    "print(H[17])"
   ]
  },
  {
   "cell_type": "markdown",
   "metadata": {
    "id": "__wYsHgNPUCt"
   },
   "source": [
    "## Blockchain (aplicação com Hash)"
   ]
  },
  {
   "cell_type": "code",
   "execution_count": null,
   "metadata": {
    "id": "gyAjpILKOhvP"
   },
   "outputs": [],
   "source": [
    "from hashlib import sha256, sha1"
   ]
  },
  {
   "cell_type": "code",
   "execution_count": null,
   "metadata": {
    "colab": {
     "base_uri": "https://localhost:8080/",
     "height": 35
    },
    "executionInfo": {
     "elapsed": 258,
     "status": "ok",
     "timestamp": 1637930182626,
     "user": {
      "displayName": "Waldeyr Mendes Cordeiro da Silva",
      "photoUrl": "https://lh3.googleusercontent.com/a-/AOh14GgXl7vAH6l0VPjECKc5e3QXWv0QmnF7d2o7ekhr7-E=s64",
      "userId": "06543881337980292104"
     },
     "user_tz": 180
    },
    "id": "8DID25s8OnZN",
    "outputId": "6758778e-dfa4-4241-8613-74aba30f0722"
   },
   "outputs": [
    {
     "data": {
      "application/vnd.google.colaboratory.intrinsic+json": {
       "type": "string"
      },
      "text/plain": [
       "'89619cc6b8a3fa6c38e7bd1661b4c70d10ed5049e6d27abb1bbd00673285a611'"
      ]
     },
     "execution_count": 14,
     "metadata": {},
     "output_type": "execute_result"
    }
   ],
   "source": [
    "sha256(\"abacaxi\".encode()).hexdigest()"
   ]
  },
  {
   "cell_type": "code",
   "execution_count": null,
   "metadata": {
    "colab": {
     "base_uri": "https://localhost:8080/",
     "height": 35
    },
    "executionInfo": {
     "elapsed": 326,
     "status": "ok",
     "timestamp": 1638534121709,
     "user": {
      "displayName": "Waldeyr Mendes Cordeiro da Silva",
      "photoUrl": "https://lh3.googleusercontent.com/a-/AOh14GgXl7vAH6l0VPjECKc5e3QXWv0QmnF7d2o7ekhr7-E=s64",
      "userId": "06543881337980292104"
     },
     "user_tz": 180
    },
    "id": "F_nWf0muPdAB",
    "outputId": "ce552881-2c6c-4bff-d03c-31efd5cf927b"
   },
   "outputs": [
    {
     "data": {
      "application/vnd.google.colaboratory.intrinsic+json": {
       "type": "string"
      },
      "text/plain": [
       "'dd25d65c47f1a93a3e1e5e0562ecd85e3cf8040aaa2e98b7883daa0dceeda667'"
      ]
     },
     "execution_count": 3,
     "metadata": {},
     "output_type": "execute_result"
    }
   ],
   "source": [
    "sha256(\"Hoje é sexta-feira 03 de dezembro de 2021\".encode()).hexdigest()"
   ]
  },
  {
   "cell_type": "code",
   "execution_count": null,
   "metadata": {
    "colab": {
     "base_uri": "https://localhost:8080/",
     "height": 35
    },
    "executionInfo": {
     "elapsed": 314,
     "status": "ok",
     "timestamp": 1637930198092,
     "user": {
      "displayName": "Waldeyr Mendes Cordeiro da Silva",
      "photoUrl": "https://lh3.googleusercontent.com/a-/AOh14GgXl7vAH6l0VPjECKc5e3QXWv0QmnF7d2o7ekhr7-E=s64",
      "userId": "06543881337980292104"
     },
     "user_tz": 180
    },
    "id": "dnl0b0cIO8v7",
    "outputId": "5f6aa8bd-5ec9-4861-d0b5-59c82443395e"
   },
   "outputs": [
    {
     "data": {
      "application/vnd.google.colaboratory.intrinsic+json": {
       "type": "string"
      },
      "text/plain": [
       "'7751a23fa55170a57e90374df13a3ab78efe0e99'"
      ]
     },
     "execution_count": 15,
     "metadata": {},
     "output_type": "execute_result"
    }
   ],
   "source": [
    "sha1(\"senha\".encode()).hexdigest()"
   ]
  },
  {
   "cell_type": "code",
   "execution_count": null,
   "metadata": {
    "colab": {
     "base_uri": "https://localhost:8080/",
     "height": 35
    },
    "executionInfo": {
     "elapsed": 303,
     "status": "ok",
     "timestamp": 1637930469180,
     "user": {
      "displayName": "Waldeyr Mendes Cordeiro da Silva",
      "photoUrl": "https://lh3.googleusercontent.com/a-/AOh14GgXl7vAH6l0VPjECKc5e3QXWv0QmnF7d2o7ekhr7-E=s64",
      "userId": "06543881337980292104"
     },
     "user_tz": 180
    },
    "id": "CKL8eKI7QYei",
    "outputId": "43013b74-cfd4-4493-c3e9-66bf679b80a0"
   },
   "outputs": [
    {
     "data": {
      "application/vnd.google.colaboratory.intrinsic+json": {
       "type": "string"
      },
      "text/plain": [
       "'775cbddeaeaa30769dbfea94de5d2739fb1ef7346bb2d3bc293f865f3d589f88'"
      ]
     },
     "execution_count": 16,
     "metadata": {},
     "output_type": "execute_result"
    }
   ],
   "source": [
    "registro = \"2021-11-26 09:39:15, nascimento, 111.111.111-11, Fulano, M, Pai do Fulano, Mãe do Fulano, 2021-11-26\"\n",
    "sha256(registro.encode()).hexdigest()"
   ]
  },
  {
   "cell_type": "code",
   "execution_count": null,
   "metadata": {
    "colab": {
     "base_uri": "https://localhost:8080/",
     "height": 35
    },
    "executionInfo": {
     "elapsed": 268,
     "status": "ok",
     "timestamp": 1637930915107,
     "user": {
      "displayName": "Waldeyr Mendes Cordeiro da Silva",
      "photoUrl": "https://lh3.googleusercontent.com/a-/AOh14GgXl7vAH6l0VPjECKc5e3QXWv0QmnF7d2o7ekhr7-E=s64",
      "userId": "06543881337980292104"
     },
     "user_tz": 180
    },
    "id": "EFFVdUoJSaNW",
    "outputId": "15beef83-905e-477b-86d7-144b33c81ecd"
   },
   "outputs": [
    {
     "data": {
      "application/vnd.google.colaboratory.intrinsic+json": {
       "type": "string"
      },
      "text/plain": [
       "'6012e83f6f4d637c42d879338bba395fec23c2c6e4b75f7e9f32f7969bb44a54'"
      ]
     },
     "execution_count": 18,
     "metadata": {},
     "output_type": "execute_result"
    }
   ],
   "source": [
    "registro = \"Timestamp:  2021-11-19 10:41:00\\\n",
    "Transactions:  {obito}\\\n",
    "Data: {'cpf': '111.111.111.11', 'nome':'Zé', 'sexo':'M', 'nome_pai':'Pai do Zé', 'nome_mae':'Mãe do Zé', 'data_nascimento':'2021-11-19', 'data_obito':'2021-11-19'}\"\n",
    "sha256(registro.encode()).hexdigest()"
   ]
  },
  {
   "cell_type": "code",
   "execution_count": null,
   "metadata": {
    "id": "_25QEz8HTE8i"
   },
   "outputs": [],
   "source": [
    "from datetime import datetime\n",
    "from hashlib import sha256\n",
    "\n",
    "# Definição da classe Block\n",
    "class Block():\n",
    "  def __init__(self, transactions, previous_hash):\n",
    "    self.transactions = transactions\n",
    "    self.previous_hash = previous_hash\n",
    "    self.nonce = 0\n",
    "    self.timestamp = datetime.now()\n",
    "    self.hash = self.generate_hash()\n",
    "\n",
    "  def print_content(self):\n",
    "    print(\"Timestamp: \", self.timestamp)\n",
    "    print(\"Transactions: \", self.transactions)\n",
    "    print(\"Current Hash: \", self.generate_hash())\n",
    "    print(\"Previous Hash: \", self.previous_hash)\n",
    "    print(\"\\n\")\n",
    "\n",
    "  def generate_hash(self):\n",
    "    block_contents = str(self.timestamp) + str(self.transactions) + str(self.previous_hash) + str(self.nonce)\n",
    "    block_hash = sha256(block_contents.encode())\n",
    "    return block_hash.hexdigest()"
   ]
  },
  {
   "cell_type": "code",
   "execution_count": null,
   "metadata": {
    "id": "gFqiO_ytTSX-"
   },
   "outputs": [],
   "source": [
    "# Definição da classe Blockchain\n",
    "class Blockchain():\n",
    "  def __init__(self):\n",
    "    self.chain = []\n",
    "    self.all_transactions = []\n",
    "    self.genesis_block()\n",
    "    \n",
    "  def genesis_block(self):\n",
    "    transactions = []\n",
    "    previous_hash = \"0\"\n",
    "    self.chain.append(Block(transactions, previous_hash))\n",
    "\n",
    "  def print_blocks(self):\n",
    "    for i in range(len(self.chain)):\n",
    "      current_block = self.chain[i]\n",
    "      print(\"Block {} {}\".format(i, current_block))\n",
    "      current_block.print_content()  \n",
    "\n",
    "  def add_block(self, transactions):\n",
    "    previous_block_hash = self.chain[len(self.chain)-1].hash\n",
    "    new_block = Block(transactions, previous_block_hash)\n",
    "    self.chain.append(new_block)  \n",
    "\n",
    "  def validate_chain(self):\n",
    "    i=1\n",
    "    for i in range(1,len(self.chain)):\n",
    "      current = self.chain[i]\n",
    "      previous = self.chain[i-1]\n",
    "      if current.hash != current.generate_hash():\n",
    "        print(\"The current hash of the block does not equal the generated hash of the block.\")\n",
    "        return False\n",
    "      if previous.hash != previous.generate_hash():\n",
    "        print(\"The previous block's hash does not equal the previous hash value stored in the current block.\")\n",
    "        return False\n",
    "    return True\n",
    "\n",
    "  def proof_of_work(self,block, difficulty=2):\n",
    "    proof = block.generate_hash()\n",
    "    while proof[:difficulty] != '0'*difficulty:\n",
    "      block.nonce += 1\n",
    "      proof = block.generate_hash()\n",
    "    block.nonce = 0\n",
    "    return proof\n"
   ]
  },
  {
   "cell_type": "code",
   "execution_count": null,
   "metadata": {
    "id": "PSwN8JXvTGUC"
   },
   "outputs": [],
   "source": [
    "\n",
    "block_one_transactions = {\"pagador\": \"Alice\", \"recebedor\": \"Bob\", \"valor\":\"50\"}\n",
    "block_two_transactions = {\"pagador\": \"Bob\", \"recebedor\":\"Cole\", \"valor\":\"25\"}\n",
    "block_three_transactions = {\"pgador\":\"Alice\", \"recebedor\":\"Cole\", \"valor\":\"35\"}\n",
    "fake_transactions = {\"pagador\": \"Bob\", \"recebedor\":\"Cole, Alice\", \"valor\":\"25\"}"
   ]
  },
  {
   "cell_type": "code",
   "execution_count": null,
   "metadata": {
    "colab": {
     "base_uri": "https://localhost:8080/"
    },
    "executionInfo": {
     "elapsed": 228,
     "status": "ok",
     "timestamp": 1637931230618,
     "user": {
      "displayName": "Waldeyr Mendes Cordeiro da Silva",
      "photoUrl": "https://lh3.googleusercontent.com/a-/AOh14GgXl7vAH6l0VPjECKc5e3QXWv0QmnF7d2o7ekhr7-E=s64",
      "userId": "06543881337980292104"
     },
     "user_tz": 180
    },
    "id": "XW23XRkTTqZC",
    "outputId": "8158d129-ed36-4abc-f760-d90a6f14e400",
    "scrolled": false
   },
   "outputs": [
    {
     "name": "stdout",
     "output_type": "stream",
     "text": [
      "Block 0 <__main__.Block object at 0x7fb126d5d450>\n",
      "Timestamp:  2021-11-26 12:53:50.272902\n",
      "Transactions:  []\n",
      "Current Hash:  8c39da5fc5ebe9dd9367d7787166ee9f67d0bef9c7fb5986cb6f48152d265b49\n",
      "Previous Hash:  0\n",
      "\n",
      "\n"
     ]
    }
   ],
   "source": [
    "local_blockchain = Blockchain()\n",
    "local_blockchain.print_blocks()"
   ]
  },
  {
   "cell_type": "code",
   "execution_count": null,
   "metadata": {
    "colab": {
     "base_uri": "https://localhost:8080/"
    },
    "executionInfo": {
     "elapsed": 249,
     "status": "ok",
     "timestamp": 1637931259235,
     "user": {
      "displayName": "Waldeyr Mendes Cordeiro da Silva",
      "photoUrl": "https://lh3.googleusercontent.com/a-/AOh14GgXl7vAH6l0VPjECKc5e3QXWv0QmnF7d2o7ekhr7-E=s64",
      "userId": "06543881337980292104"
     },
     "user_tz": 180
    },
    "id": "aKzKuhHsTth6",
    "outputId": "80017b5f-337b-4539-c886-d973d4a00fae",
    "scrolled": false
   },
   "outputs": [
    {
     "name": "stdout",
     "output_type": "stream",
     "text": [
      "Block 0 <__main__.Block object at 0x7fb126d5d450>\n",
      "Timestamp:  2021-11-26 12:53:50.272902\n",
      "Transactions:  []\n",
      "Current Hash:  8c39da5fc5ebe9dd9367d7787166ee9f67d0bef9c7fb5986cb6f48152d265b49\n",
      "Previous Hash:  0\n",
      "\n",
      "\n",
      "Block 1 <__main__.Block object at 0x7fb126da0550>\n",
      "Timestamp:  2021-11-26 12:54:18.889473\n",
      "Transactions:  {'pagador': 'Alice', 'recebedor': 'Bob', 'valor': '50'}\n",
      "Current Hash:  7654a8ad58cc7bb1e4dd7299540be4045c66244e44178fffee777c71b8d4cf8d\n",
      "Previous Hash:  8c39da5fc5ebe9dd9367d7787166ee9f67d0bef9c7fb5986cb6f48152d265b49\n",
      "\n",
      "\n"
     ]
    }
   ],
   "source": [
    "local_blockchain.add_block(block_one_transactions)\n",
    "local_blockchain.print_blocks()"
   ]
  },
  {
   "cell_type": "code",
   "execution_count": null,
   "metadata": {
    "colab": {
     "base_uri": "https://localhost:8080/"
    },
    "executionInfo": {
     "elapsed": 232,
     "status": "ok",
     "timestamp": 1637931299211,
     "user": {
      "displayName": "Waldeyr Mendes Cordeiro da Silva",
      "photoUrl": "https://lh3.googleusercontent.com/a-/AOh14GgXl7vAH6l0VPjECKc5e3QXWv0QmnF7d2o7ekhr7-E=s64",
      "userId": "06543881337980292104"
     },
     "user_tz": 180
    },
    "id": "4fQnJVRAUBWG",
    "outputId": "15ac203f-8261-4445-9283-e2d85864d627",
    "scrolled": false
   },
   "outputs": [
    {
     "name": "stdout",
     "output_type": "stream",
     "text": [
      "Block 0 <__main__.Block object at 0x7fb126d5d450>\n",
      "Timestamp:  2021-11-26 12:53:50.272902\n",
      "Transactions:  []\n",
      "Current Hash:  8c39da5fc5ebe9dd9367d7787166ee9f67d0bef9c7fb5986cb6f48152d265b49\n",
      "Previous Hash:  0\n",
      "\n",
      "\n",
      "Block 1 <__main__.Block object at 0x7fb126da0550>\n",
      "Timestamp:  2021-11-26 12:54:18.889473\n",
      "Transactions:  {'pagador': 'Alice', 'recebedor': 'Bob', 'valor': '50'}\n",
      "Current Hash:  7654a8ad58cc7bb1e4dd7299540be4045c66244e44178fffee777c71b8d4cf8d\n",
      "Previous Hash:  8c39da5fc5ebe9dd9367d7787166ee9f67d0bef9c7fb5986cb6f48152d265b49\n",
      "\n",
      "\n",
      "Block 2 <__main__.Block object at 0x7fb126d8e910>\n",
      "Timestamp:  2021-11-26 12:54:58.883149\n",
      "Transactions:  {'pagador': 'Bob', 'recebedor': 'Cole', 'valor': '25'}\n",
      "Current Hash:  8581a73fcb298a274c1fc3371e84a66dd02f478d7ac5e6a5cee1c8edc32f7b5f\n",
      "Previous Hash:  7654a8ad58cc7bb1e4dd7299540be4045c66244e44178fffee777c71b8d4cf8d\n",
      "\n",
      "\n"
     ]
    }
   ],
   "source": [
    "local_blockchain.add_block(block_two_transactions)\n",
    "local_blockchain.print_blocks()"
   ]
  },
  {
   "cell_type": "code",
   "execution_count": null,
   "metadata": {
    "colab": {
     "base_uri": "https://localhost:8080/"
    },
    "executionInfo": {
     "elapsed": 239,
     "status": "ok",
     "timestamp": 1637931330216,
     "user": {
      "displayName": "Waldeyr Mendes Cordeiro da Silva",
      "photoUrl": "https://lh3.googleusercontent.com/a-/AOh14GgXl7vAH6l0VPjECKc5e3QXWv0QmnF7d2o7ekhr7-E=s64",
      "userId": "06543881337980292104"
     },
     "user_tz": 180
    },
    "id": "4UZNPtFEUI3_",
    "outputId": "8962c814-df27-48b6-d18e-8548db153654",
    "scrolled": false
   },
   "outputs": [
    {
     "name": "stdout",
     "output_type": "stream",
     "text": [
      "Block 0 <__main__.Block object at 0x7fb126d5d450>\n",
      "Timestamp:  2021-11-26 12:53:50.272902\n",
      "Transactions:  []\n",
      "Current Hash:  8c39da5fc5ebe9dd9367d7787166ee9f67d0bef9c7fb5986cb6f48152d265b49\n",
      "Previous Hash:  0\n",
      "\n",
      "\n",
      "Block 1 <__main__.Block object at 0x7fb126da0550>\n",
      "Timestamp:  2021-11-26 12:54:18.889473\n",
      "Transactions:  {'pagador': 'Alice', 'recebedor': 'Bob', 'valor': '50'}\n",
      "Current Hash:  7654a8ad58cc7bb1e4dd7299540be4045c66244e44178fffee777c71b8d4cf8d\n",
      "Previous Hash:  8c39da5fc5ebe9dd9367d7787166ee9f67d0bef9c7fb5986cb6f48152d265b49\n",
      "\n",
      "\n",
      "Block 2 <__main__.Block object at 0x7fb126d8e910>\n",
      "Timestamp:  2021-11-26 12:54:58.883149\n",
      "Transactions:  {'pagador': 'Bob', 'recebedor': 'Cole', 'valor': '25'}\n",
      "Current Hash:  8581a73fcb298a274c1fc3371e84a66dd02f478d7ac5e6a5cee1c8edc32f7b5f\n",
      "Previous Hash:  7654a8ad58cc7bb1e4dd7299540be4045c66244e44178fffee777c71b8d4cf8d\n",
      "\n",
      "\n",
      "Block 3 <__main__.Block object at 0x7fb126d6aed0>\n",
      "Timestamp:  2021-11-26 12:55:29.880453\n",
      "Transactions:  {'pgador': 'Alice', 'recebedor': 'Cole', 'valor': '35'}\n",
      "Current Hash:  87c8cb4df6d4e732b913e46d393fd29d8c6792559062dfbfa31463c1fd17abd8\n",
      "Previous Hash:  8581a73fcb298a274c1fc3371e84a66dd02f478d7ac5e6a5cee1c8edc32f7b5f\n",
      "\n",
      "\n"
     ]
    }
   ],
   "source": [
    "local_blockchain.add_block(block_three_transactions)\n",
    "local_blockchain.print_blocks()"
   ]
  },
  {
   "cell_type": "code",
   "execution_count": null,
   "metadata": {
    "colab": {
     "base_uri": "https://localhost:8080/"
    },
    "executionInfo": {
     "elapsed": 553,
     "status": "ok",
     "timestamp": 1637931366263,
     "user": {
      "displayName": "Waldeyr Mendes Cordeiro da Silva",
      "photoUrl": "https://lh3.googleusercontent.com/a-/AOh14GgXl7vAH6l0VPjECKc5e3QXWv0QmnF7d2o7ekhr7-E=s64",
      "userId": "06543881337980292104"
     },
     "user_tz": 180
    },
    "id": "ZcOC30dJT2EB",
    "outputId": "d24d86f1-0ffb-43c1-d598-65305e75c502",
    "scrolled": true
   },
   "outputs": [
    {
     "name": "stdout",
     "output_type": "stream",
     "text": [
      "Block 0 <__main__.Block object at 0x7fb126d5d450>\n",
      "Timestamp:  2021-11-26 12:53:50.272902\n",
      "Transactions:  []\n",
      "Current Hash:  8c39da5fc5ebe9dd9367d7787166ee9f67d0bef9c7fb5986cb6f48152d265b49\n",
      "Previous Hash:  0\n",
      "\n",
      "\n",
      "Block 1 <__main__.Block object at 0x7fb126da0550>\n",
      "Timestamp:  2021-11-26 12:54:18.889473\n",
      "Transactions:  {'pagador': 'Alice', 'recebedor': 'Bob', 'valor': '50'}\n",
      "Current Hash:  7654a8ad58cc7bb1e4dd7299540be4045c66244e44178fffee777c71b8d4cf8d\n",
      "Previous Hash:  8c39da5fc5ebe9dd9367d7787166ee9f67d0bef9c7fb5986cb6f48152d265b49\n",
      "\n",
      "\n",
      "Block 2 <__main__.Block object at 0x7fb126d8e910>\n",
      "Timestamp:  2021-11-26 12:54:58.883149\n",
      "Transactions:  {'pagador': 'Bob', 'recebedor': 'Cole', 'valor': '25'}\n",
      "Current Hash:  8581a73fcb298a274c1fc3371e84a66dd02f478d7ac5e6a5cee1c8edc32f7b5f\n",
      "Previous Hash:  7654a8ad58cc7bb1e4dd7299540be4045c66244e44178fffee777c71b8d4cf8d\n",
      "\n",
      "\n",
      "Block 3 <__main__.Block object at 0x7fb126d6aed0>\n",
      "Timestamp:  2021-11-26 12:55:29.880453\n",
      "Transactions:  {'pgador': 'Alice', 'recebedor': 'Cole', 'valor': '35'}\n",
      "Current Hash:  87c8cb4df6d4e732b913e46d393fd29d8c6792559062dfbfa31463c1fd17abd8\n",
      "Previous Hash:  8581a73fcb298a274c1fc3371e84a66dd02f478d7ac5e6a5cee1c8edc32f7b5f\n",
      "\n",
      "\n",
      "The current hash of the block does not equal the generated hash of the block.\n"
     ]
    },
    {
     "data": {
      "text/plain": [
       "False"
      ]
     },
     "execution_count": 28,
     "metadata": {},
     "output_type": "execute_result"
    }
   ],
   "source": [
    "local_blockchain.print_blocks()\n",
    "local_blockchain.chain[2].transactions = fake_transactions\n",
    "local_blockchain.validate_chain()"
   ]
  }
 ],
 "metadata": {
  "colab": {
   "collapsed_sections": [],
   "name": "Disciplina_Estrutura_de_Dados.ipynb",
   "provenance": [],
   "toc_visible": true
  },
  "kernelspec": {
   "display_name": "Python 3 (ipykernel)",
   "language": "python",
   "name": "python3"
  },
  "language_info": {
   "codemirror_mode": {
    "name": "ipython",
    "version": 3
   },
   "file_extension": ".py",
   "mimetype": "text/x-python",
   "name": "python",
   "nbconvert_exporter": "python",
   "pygments_lexer": "ipython3",
   "version": "3.7.12"
  }
 },
 "nbformat": 4,
 "nbformat_minor": 1
}
