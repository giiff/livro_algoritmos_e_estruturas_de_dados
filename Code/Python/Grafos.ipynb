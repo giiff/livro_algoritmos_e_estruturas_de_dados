{
 "cells": [
  {
   "cell_type": "code",
   "execution_count": 1,
   "metadata": {},
   "outputs": [],
   "source": [
    "from grafos import Grafo\n",
    "from grafos import mostrarGrafo"
   ]
  },
  {
   "cell_type": "code",
   "execution_count": 2,
   "metadata": {},
   "outputs": [],
   "source": [
    "G = Grafo(direcionado = True)"
   ]
  },
  {
   "cell_type": "code",
   "execution_count": 3,
   "metadata": {},
   "outputs": [],
   "source": [
    "G.adicionarVertice(\"Formosa\")\n",
    "G.adicionarVertice(\"Brasilia\")\n",
    "G.adicionarVertice(\"Goiania\")\n",
    "G.adicionarVertice(\"Sao Paulo\")\n",
    "#mostrarGrafo(G)"
   ]
  },
  {
   "cell_type": "code",
   "execution_count": 4,
   "metadata": {},
   "outputs": [
    {
     "name": "stdout",
     "output_type": "stream",
     "text": [
      "Formosa\n",
      "Brasilia\n",
      "Goiania\n",
      "Sao Paulo\n"
     ]
    }
   ],
   "source": [
    "for vertice in G.getVertices():\n",
    "    print(vertice)"
   ]
  },
  {
   "cell_type": "code",
   "execution_count": 5,
   "metadata": {},
   "outputs": [],
   "source": [
    "G.removerVertice('Sao Paulo')"
   ]
  },
  {
   "cell_type": "code",
   "execution_count": 6,
   "metadata": {},
   "outputs": [
    {
     "name": "stdout",
     "output_type": "stream",
     "text": [
      "Formosa\n",
      "Brasilia\n",
      "Goiania\n"
     ]
    }
   ],
   "source": [
    "for vertice in G.getVertices():\n",
    "    print(vertice)"
   ]
  },
  {
   "cell_type": "code",
   "execution_count": 7,
   "metadata": {},
   "outputs": [],
   "source": [
    "G.adicionarAresta(\"Formosa\", \"Brasilia\", 80)\n",
    "G.adicionarAresta(\"Formosa\", \"Goiania\", 240)\n",
    "G.adicionarAresta(\"Brasilia\", \"Goiania\", 160)"
   ]
  },
  {
   "cell_type": "code",
   "execution_count": 8,
   "metadata": {},
   "outputs": [],
   "source": [
    "#mostrarGrafo(G)"
   ]
  },
  {
   "cell_type": "code",
   "execution_count": 9,
   "metadata": {},
   "outputs": [
    {
     "name": "stdout",
     "output_type": "stream",
     "text": [
      "         Formosa Brasilia Goiania\n",
      "Formosa        0       80     240\n",
      "Brasilia       0        0     160\n",
      "Goiania        0        0       0\n"
     ]
    }
   ],
   "source": [
    "matrizAdjacencia = G.getMatrizAdjacencia()\n",
    "print(matrizAdjacencia)"
   ]
  },
  {
   "cell_type": "code",
   "execution_count": 10,
   "metadata": {},
   "outputs": [
    {
     "name": "stdout",
     "output_type": "stream",
     "text": [
      "[[0 80 240]\n",
      " [0 0 160]\n",
      " [0 0 0]]\n"
     ]
    }
   ],
   "source": [
    "matrizAdjacencia = G.getMatrizAdjacenciaComoArray()\n",
    "print(matrizAdjacencia)"
   ]
  },
  {
   "cell_type": "code",
   "execution_count": 11,
   "metadata": {},
   "outputs": [
    {
     "name": "stdout",
     "output_type": "stream",
     "text": [
      "{'Formosa': {'Formosa': 0, 'Brasilia': 0, 'Goiania': 0}, 'Brasilia': {'Formosa': 80, 'Brasilia': 0, 'Goiania': 0}, 'Goiania': {'Formosa': 240, 'Brasilia': 160, 'Goiania': 0}}\n"
     ]
    }
   ],
   "source": [
    "matrizAdjacencia = G.getMatrizAdjacenciaComoDict()\n",
    "print(matrizAdjacencia)"
   ]
  },
  {
   "cell_type": "code",
   "execution_count": 12,
   "metadata": {},
   "outputs": [
    {
     "data": {
      "text/plain": [
       "['Formosa', 'Brasilia', 'Goiania']"
      ]
     },
     "execution_count": 12,
     "metadata": {},
     "output_type": "execute_result"
    }
   ],
   "source": [
    "G.DFS('Formosa', visitados=[])"
   ]
  }
 ],
 "metadata": {
  "kernelspec": {
   "display_name": "Python 3",
   "language": "python",
   "name": "python3"
  },
  "language_info": {
   "codemirror_mode": {
    "name": "ipython",
    "version": 3
   },
   "file_extension": ".py",
   "mimetype": "text/x-python",
   "name": "python",
   "nbconvert_exporter": "python",
   "pygments_lexer": "ipython3",
   "version": "3.8.5"
  }
 },
 "nbformat": 4,
 "nbformat_minor": 4
}
