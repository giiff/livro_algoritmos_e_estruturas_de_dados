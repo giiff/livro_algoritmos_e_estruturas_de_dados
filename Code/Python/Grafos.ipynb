{
 "cells": [
  {
   "cell_type": "code",
   "execution_count": 14,
   "metadata": {},
   "outputs": [],
   "source": [
    "from grafos import Grafo\n",
    "from grafos import mostrarGrafo"
   ]
  },
  {
   "cell_type": "code",
   "execution_count": 15,
   "metadata": {},
   "outputs": [],
   "source": [
    "G = Grafo(direcionado = True)"
   ]
  },
  {
   "cell_type": "code",
   "execution_count": 18,
   "metadata": {},
   "outputs": [],
   "source": [
    "G.adicionarVertice(\"Formosa\")\n",
    "G.adicionarVertice(\"Brasília\")\n",
    "G.adicionarVertice(\"Goiânia\")\n",
    "G.adicionarVertice(\"Sao Paulo\")\n",
    "G.adicionarVertice(\"Aracajú\")\n",
    "G.adicionarVertice(\"Belém\")\n",
    "G.adicionarVertice(\"Belo Horizonte\")"
   ]
  },
  {
   "cell_type": "code",
   "execution_count": 21,
   "metadata": {},
   "outputs": [
    {
     "name": "stdout",
     "output_type": "stream",
     "text": [
      "Formosa\n",
      "Brasília\n",
      "Sao Paulo\n",
      "Aracajú\n",
      "Belém\n",
      "Belo Horizonte\n",
      "Goiânia\n"
     ]
    }
   ],
   "source": [
    "for vertice in G.getVertices():\n",
    "    print(vertice)"
   ]
  },
  {
   "cell_type": "code",
   "execution_count": 22,
   "metadata": {},
   "outputs": [],
   "source": [
    "G.removerVertice('Sao Paulo')"
   ]
  },
  {
   "cell_type": "code",
   "execution_count": 23,
   "metadata": {},
   "outputs": [
    {
     "name": "stdout",
     "output_type": "stream",
     "text": [
      "Formosa\n",
      "Brasília\n",
      "Aracajú\n",
      "Belém\n",
      "Belo Horizonte\n",
      "Goiânia\n"
     ]
    }
   ],
   "source": [
    "for vertice in G.getVertices():\n",
    "    print(vertice)"
   ]
  },
  {
   "cell_type": "code",
   "execution_count": 24,
   "metadata": {},
   "outputs": [],
   "source": [
    "G.adicionarAresta(\"Formosa\", \"Brasília\", 80)\n",
    "G.adicionarAresta(\"Formosa\", \"Goiânia\", 240)\n",
    "G.adicionarAresta(\"Brasília\", \"Goiânia\", 160)\n",
    "G.adicionarAresta(\"Goiânia\", \"Aracajú\", 1849)\n",
    "G.adicionarAresta(\"Goiânia\", \"Belém\", 2017)\n",
    "G.adicionarAresta(\"Goiânia\", \"Belo Horizonte\", 906)\n",
    "G.adicionarAresta(\"Brasília\", \"Aracajú\", 1650)\n",
    "G.adicionarAresta(\"Brasília\", \"Belém\", 2140)\n",
    "G.adicionarAresta(\"Brasília\", \"Belo Horizonte\", 741)"
   ]
  },
  {
   "cell_type": "code",
   "execution_count": 25,
   "metadata": {},
   "outputs": [],
   "source": [
    "mostrarGrafo(G)"
   ]
  },
  {
   "cell_type": "code",
   "execution_count": 44,
   "metadata": {},
   "outputs": [],
   "source": [
    "matrizAdjacencia = G.getMatrizAdjacencia()"
   ]
  },
  {
   "cell_type": "code",
   "execution_count": 45,
   "metadata": {},
   "outputs": [
    {
     "data": {
      "text/html": [
       "<div>\n",
       "<style scoped>\n",
       "    .dataframe tbody tr th:only-of-type {\n",
       "        vertical-align: middle;\n",
       "    }\n",
       "\n",
       "    .dataframe tbody tr th {\n",
       "        vertical-align: top;\n",
       "    }\n",
       "\n",
       "    .dataframe thead th {\n",
       "        text-align: right;\n",
       "    }\n",
       "</style>\n",
       "<table border=\"1\" class=\"dataframe\">\n",
       "  <thead>\n",
       "    <tr style=\"text-align: right;\">\n",
       "      <th></th>\n",
       "      <th>Formosa</th>\n",
       "      <th>Brasília</th>\n",
       "      <th>Aracajú</th>\n",
       "      <th>Belém</th>\n",
       "      <th>Belo Horizonte</th>\n",
       "      <th>Goiânia</th>\n",
       "    </tr>\n",
       "  </thead>\n",
       "  <tbody>\n",
       "    <tr>\n",
       "      <th>Formosa</th>\n",
       "      <td>0</td>\n",
       "      <td>80</td>\n",
       "      <td>0</td>\n",
       "      <td>0</td>\n",
       "      <td>0</td>\n",
       "      <td>240</td>\n",
       "    </tr>\n",
       "    <tr>\n",
       "      <th>Brasília</th>\n",
       "      <td>0</td>\n",
       "      <td>0</td>\n",
       "      <td>1650</td>\n",
       "      <td>2140</td>\n",
       "      <td>741</td>\n",
       "      <td>160</td>\n",
       "    </tr>\n",
       "    <tr>\n",
       "      <th>Aracajú</th>\n",
       "      <td>0</td>\n",
       "      <td>0</td>\n",
       "      <td>0</td>\n",
       "      <td>0</td>\n",
       "      <td>0</td>\n",
       "      <td>0</td>\n",
       "    </tr>\n",
       "    <tr>\n",
       "      <th>Belém</th>\n",
       "      <td>0</td>\n",
       "      <td>0</td>\n",
       "      <td>0</td>\n",
       "      <td>0</td>\n",
       "      <td>0</td>\n",
       "      <td>0</td>\n",
       "    </tr>\n",
       "    <tr>\n",
       "      <th>Belo Horizonte</th>\n",
       "      <td>0</td>\n",
       "      <td>0</td>\n",
       "      <td>0</td>\n",
       "      <td>0</td>\n",
       "      <td>0</td>\n",
       "      <td>0</td>\n",
       "    </tr>\n",
       "    <tr>\n",
       "      <th>Goiânia</th>\n",
       "      <td>0</td>\n",
       "      <td>0</td>\n",
       "      <td>1849</td>\n",
       "      <td>2017</td>\n",
       "      <td>906</td>\n",
       "      <td>0</td>\n",
       "    </tr>\n",
       "  </tbody>\n",
       "</table>\n",
       "</div>"
      ],
      "text/plain": [
       "               Formosa Brasília Aracajú Belém Belo Horizonte Goiânia\n",
       "Formosa              0       80       0     0              0     240\n",
       "Brasília             0        0    1650  2140            741     160\n",
       "Aracajú              0        0       0     0              0       0\n",
       "Belém                0        0       0     0              0       0\n",
       "Belo Horizonte       0        0       0     0              0       0\n",
       "Goiânia              0        0    1849  2017            906       0"
      ]
     },
     "execution_count": 45,
     "metadata": {},
     "output_type": "execute_result"
    }
   ],
   "source": [
    "matrizAdjacencia"
   ]
  },
  {
   "cell_type": "code",
   "execution_count": 46,
   "metadata": {},
   "outputs": [],
   "source": [
    "matrizAdjacenciaNumpy = G.getMatrizAdjacenciaComoArray()"
   ]
  },
  {
   "cell_type": "code",
   "execution_count": 47,
   "metadata": {},
   "outputs": [
    {
     "data": {
      "text/plain": [
       "array([[0, 80, 0, 0, 0, 240],\n",
       "       [0, 0, 1650, 2140, 741, 160],\n",
       "       [0, 0, 0, 0, 0, 0],\n",
       "       [0, 0, 0, 0, 0, 0],\n",
       "       [0, 0, 0, 0, 0, 0],\n",
       "       [0, 0, 1849, 2017, 906, 0]], dtype=object)"
      ]
     },
     "execution_count": 47,
     "metadata": {},
     "output_type": "execute_result"
    }
   ],
   "source": [
    "matrizAdjacenciaNumpy"
   ]
  },
  {
   "cell_type": "code",
   "execution_count": 49,
   "metadata": {},
   "outputs": [],
   "source": [
    "matrizAdjacenciaDic = G.getMatrizAdjacenciaComoDict()"
   ]
  },
  {
   "cell_type": "code",
   "execution_count": 50,
   "metadata": {},
   "outputs": [
    {
     "data": {
      "text/plain": [
       "{'Formosa': {'Formosa': 0,\n",
       "  'Brasília': 0,\n",
       "  'Aracajú': 0,\n",
       "  'Belém': 0,\n",
       "  'Belo Horizonte': 0,\n",
       "  'Goiânia': 0},\n",
       " 'Brasília': {'Formosa': 80,\n",
       "  'Brasília': 0,\n",
       "  'Aracajú': 0,\n",
       "  'Belém': 0,\n",
       "  'Belo Horizonte': 0,\n",
       "  'Goiânia': 0},\n",
       " 'Aracajú': {'Formosa': 0,\n",
       "  'Brasília': 1650,\n",
       "  'Aracajú': 0,\n",
       "  'Belém': 0,\n",
       "  'Belo Horizonte': 0,\n",
       "  'Goiânia': 1849},\n",
       " 'Belém': {'Formosa': 0,\n",
       "  'Brasília': 2140,\n",
       "  'Aracajú': 0,\n",
       "  'Belém': 0,\n",
       "  'Belo Horizonte': 0,\n",
       "  'Goiânia': 2017},\n",
       " 'Belo Horizonte': {'Formosa': 0,\n",
       "  'Brasília': 741,\n",
       "  'Aracajú': 0,\n",
       "  'Belém': 0,\n",
       "  'Belo Horizonte': 0,\n",
       "  'Goiânia': 906},\n",
       " 'Goiânia': {'Formosa': 240,\n",
       "  'Brasília': 160,\n",
       "  'Aracajú': 0,\n",
       "  'Belém': 0,\n",
       "  'Belo Horizonte': 0,\n",
       "  'Goiânia': 0}}"
      ]
     },
     "execution_count": 50,
     "metadata": {},
     "output_type": "execute_result"
    }
   ],
   "source": [
    "matrizAdjacenciaDic"
   ]
  },
  {
   "cell_type": "code",
   "execution_count": 51,
   "metadata": {},
   "outputs": [
    {
     "data": {
      "text/plain": [
       "['Formosa', 'Brasília', 'Aracajú', 'Belém', 'Belo Horizonte', 'Goiânia']"
      ]
     },
     "execution_count": 51,
     "metadata": {},
     "output_type": "execute_result"
    }
   ],
   "source": [
    "G.DFS('Formosa', visitados = [])"
   ]
  },
  {
   "cell_type": "code",
   "execution_count": 52,
   "metadata": {},
   "outputs": [
    {
     "data": {
      "text/plain": [
       "['Formosa',\n",
       " 'Brasília',\n",
       " 'Goiania',\n",
       " 'Belém',\n",
       " 'Belo Horizonte',\n",
       " 'Aracajú',\n",
       " 'Goiânia']"
      ]
     },
     "execution_count": 52,
     "metadata": {},
     "output_type": "execute_result"
    }
   ],
   "source": [
    "G.BFS(\"Formosa\")"
   ]
  }
 ],
 "metadata": {
  "kernelspec": {
   "display_name": "Python 3",
   "language": "python",
   "name": "python3"
  },
  "language_info": {
   "codemirror_mode": {
    "name": "ipython",
    "version": 3
   },
   "file_extension": ".py",
   "mimetype": "text/x-python",
   "name": "python",
   "nbconvert_exporter": "python",
   "pygments_lexer": "ipython3",
   "version": "3.6.13"
  }
 },
 "nbformat": 4,
 "nbformat_minor": 4
}
