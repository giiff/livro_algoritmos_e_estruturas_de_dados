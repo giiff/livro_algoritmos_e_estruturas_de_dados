{
 "cells": [
  {
   "cell_type": "code",
   "execution_count": 1,
   "metadata": {},
   "outputs": [],
   "source": [
    "from grafos import Grafo\n",
    "from grafos import mostrarGrafo"
   ]
  },
  {
   "cell_type": "code",
   "execution_count": 2,
   "metadata": {},
   "outputs": [],
   "source": [
    "G = Grafo(direcionado = True)"
   ]
  },
  {
   "cell_type": "code",
   "execution_count": 3,
   "metadata": {},
   "outputs": [],
   "source": [
    "G.adicionarVertice(\"Formosa\")\n",
    "G.adicionarVertice(\"Brasília\")\n",
    "G.adicionarVertice(\"Goiânia\")\n",
    "G.adicionarVertice(\"Sao Paulo\")\n",
    "G.adicionarVertice(\"Aracajú\")\n",
    "G.adicionarVertice(\"Belém\")\n",
    "G.adicionarVertice(\"Belo Horizonte\")"
   ]
  },
  {
   "cell_type": "code",
   "execution_count": 4,
   "metadata": {},
   "outputs": [
    {
     "name": "stdout",
     "output_type": "stream",
     "text": [
      "Formosa\n",
      "Brasília\n",
      "Goiânia\n",
      "Sao Paulo\n",
      "Aracajú\n",
      "Belém\n",
      "Belo Horizonte\n"
     ]
    }
   ],
   "source": [
    "for vertice in G.getVertices():\n",
    "    print(vertice)"
   ]
  },
  {
   "cell_type": "code",
   "execution_count": 5,
   "metadata": {},
   "outputs": [],
   "source": [
    "G.removerVertice('Sao Paulo')"
   ]
  },
  {
   "cell_type": "code",
   "execution_count": 6,
   "metadata": {},
   "outputs": [
    {
     "name": "stdout",
     "output_type": "stream",
     "text": [
      "Formosa\n",
      "Brasília\n",
      "Goiânia\n",
      "Aracajú\n",
      "Belém\n",
      "Belo Horizonte\n"
     ]
    }
   ],
   "source": [
    "for vertice in G.getVertices():\n",
    "    print(vertice)"
   ]
  },
  {
   "cell_type": "code",
   "execution_count": 7,
   "metadata": {},
   "outputs": [],
   "source": [
    "G.adicionarAresta(\"Formosa\", \"Brasília\", 80)\n",
    "G.adicionarAresta(\"Formosa\", \"Goiânia\", 240)\n",
    "G.adicionarAresta(\"Brasília\", \"Goiânia\", 160)\n",
    "G.adicionarAresta(\"Goiânia\", \"Aracajú\", 1849)\n",
    "G.adicionarAresta(\"Goiânia\", \"Belém\", 2017)\n",
    "G.adicionarAresta(\"Goiânia\", \"Belo Horizonte\", 906)\n",
    "G.adicionarAresta(\"Brasília\", \"Aracajú\", 1650)\n",
    "G.adicionarAresta(\"Brasília\", \"Belém\", 2140)\n",
    "G.adicionarAresta(\"Brasília\", \"Belo Horizonte\", 741)"
   ]
  },
  {
   "cell_type": "code",
   "execution_count": 8,
   "metadata": {},
   "outputs": [],
   "source": [
    "mostrarGrafo(G)"
   ]
  },
  {
   "cell_type": "code",
   "execution_count": 9,
   "metadata": {},
   "outputs": [],
   "source": [
    "matrizAdjacencia = G.getMatrizAdjacencia()"
   ]
  },
  {
   "cell_type": "code",
   "execution_count": 10,
   "metadata": {},
   "outputs": [
    {
     "data": {
      "text/html": [
       "<div>\n",
       "<style scoped>\n",
       "    .dataframe tbody tr th:only-of-type {\n",
       "        vertical-align: middle;\n",
       "    }\n",
       "\n",
       "    .dataframe tbody tr th {\n",
       "        vertical-align: top;\n",
       "    }\n",
       "\n",
       "    .dataframe thead th {\n",
       "        text-align: right;\n",
       "    }\n",
       "</style>\n",
       "<table border=\"1\" class=\"dataframe\">\n",
       "  <thead>\n",
       "    <tr style=\"text-align: right;\">\n",
       "      <th></th>\n",
       "      <th>Formosa</th>\n",
       "      <th>Brasília</th>\n",
       "      <th>Goiânia</th>\n",
       "      <th>Aracajú</th>\n",
       "      <th>Belém</th>\n",
       "      <th>Belo Horizonte</th>\n",
       "    </tr>\n",
       "  </thead>\n",
       "  <tbody>\n",
       "    <tr>\n",
       "      <th>Formosa</th>\n",
       "      <td>0</td>\n",
       "      <td>80</td>\n",
       "      <td>240</td>\n",
       "      <td>0</td>\n",
       "      <td>0</td>\n",
       "      <td>0</td>\n",
       "    </tr>\n",
       "    <tr>\n",
       "      <th>Brasília</th>\n",
       "      <td>0</td>\n",
       "      <td>0</td>\n",
       "      <td>160</td>\n",
       "      <td>1650</td>\n",
       "      <td>2140</td>\n",
       "      <td>741</td>\n",
       "    </tr>\n",
       "    <tr>\n",
       "      <th>Goiânia</th>\n",
       "      <td>0</td>\n",
       "      <td>0</td>\n",
       "      <td>0</td>\n",
       "      <td>1849</td>\n",
       "      <td>2017</td>\n",
       "      <td>906</td>\n",
       "    </tr>\n",
       "    <tr>\n",
       "      <th>Aracajú</th>\n",
       "      <td>0</td>\n",
       "      <td>0</td>\n",
       "      <td>0</td>\n",
       "      <td>0</td>\n",
       "      <td>0</td>\n",
       "      <td>0</td>\n",
       "    </tr>\n",
       "    <tr>\n",
       "      <th>Belém</th>\n",
       "      <td>0</td>\n",
       "      <td>0</td>\n",
       "      <td>0</td>\n",
       "      <td>0</td>\n",
       "      <td>0</td>\n",
       "      <td>0</td>\n",
       "    </tr>\n",
       "    <tr>\n",
       "      <th>Belo Horizonte</th>\n",
       "      <td>0</td>\n",
       "      <td>0</td>\n",
       "      <td>0</td>\n",
       "      <td>0</td>\n",
       "      <td>0</td>\n",
       "      <td>0</td>\n",
       "    </tr>\n",
       "  </tbody>\n",
       "</table>\n",
       "</div>"
      ],
      "text/plain": [
       "               Formosa Brasília Goiânia Aracajú Belém Belo Horizonte\n",
       "Formosa              0       80     240       0     0              0\n",
       "Brasília             0        0     160    1650  2140            741\n",
       "Goiânia              0        0       0    1849  2017            906\n",
       "Aracajú              0        0       0       0     0              0\n",
       "Belém                0        0       0       0     0              0\n",
       "Belo Horizonte       0        0       0       0     0              0"
      ]
     },
     "execution_count": 10,
     "metadata": {},
     "output_type": "execute_result"
    }
   ],
   "source": [
    "matrizAdjacencia"
   ]
  },
  {
   "cell_type": "code",
   "execution_count": 11,
   "metadata": {},
   "outputs": [],
   "source": [
    "matrizAdjacenciaNumpy = G.getMatrizAdjacenciaComoArray()"
   ]
  },
  {
   "cell_type": "code",
   "execution_count": 12,
   "metadata": {},
   "outputs": [
    {
     "data": {
      "text/plain": [
       "array([[0, 80, 240, 0, 0, 0],\n",
       "       [0, 0, 160, 1650, 2140, 741],\n",
       "       [0, 0, 0, 1849, 2017, 906],\n",
       "       [0, 0, 0, 0, 0, 0],\n",
       "       [0, 0, 0, 0, 0, 0],\n",
       "       [0, 0, 0, 0, 0, 0]], dtype=object)"
      ]
     },
     "execution_count": 12,
     "metadata": {},
     "output_type": "execute_result"
    }
   ],
   "source": [
    "matrizAdjacenciaNumpy"
   ]
  },
  {
   "cell_type": "code",
   "execution_count": 13,
   "metadata": {},
   "outputs": [],
   "source": [
    "matrizAdjacenciaDic = G.getMatrizAdjacenciaComoDict()"
   ]
  },
  {
   "cell_type": "code",
   "execution_count": 14,
   "metadata": {},
   "outputs": [
    {
     "data": {
      "text/plain": [
       "{'Formosa': {'Formosa': 0,\n",
       "  'Brasília': 0,\n",
       "  'Goiânia': 0,\n",
       "  'Aracajú': 0,\n",
       "  'Belém': 0,\n",
       "  'Belo Horizonte': 0},\n",
       " 'Brasília': {'Formosa': 80,\n",
       "  'Brasília': 0,\n",
       "  'Goiânia': 0,\n",
       "  'Aracajú': 0,\n",
       "  'Belém': 0,\n",
       "  'Belo Horizonte': 0},\n",
       " 'Goiânia': {'Formosa': 240,\n",
       "  'Brasília': 160,\n",
       "  'Goiânia': 0,\n",
       "  'Aracajú': 0,\n",
       "  'Belém': 0,\n",
       "  'Belo Horizonte': 0},\n",
       " 'Aracajú': {'Formosa': 0,\n",
       "  'Brasília': 1650,\n",
       "  'Goiânia': 1849,\n",
       "  'Aracajú': 0,\n",
       "  'Belém': 0,\n",
       "  'Belo Horizonte': 0},\n",
       " 'Belém': {'Formosa': 0,\n",
       "  'Brasília': 2140,\n",
       "  'Goiânia': 2017,\n",
       "  'Aracajú': 0,\n",
       "  'Belém': 0,\n",
       "  'Belo Horizonte': 0},\n",
       " 'Belo Horizonte': {'Formosa': 0,\n",
       "  'Brasília': 741,\n",
       "  'Goiânia': 906,\n",
       "  'Aracajú': 0,\n",
       "  'Belém': 0,\n",
       "  'Belo Horizonte': 0}}"
      ]
     },
     "execution_count": 14,
     "metadata": {},
     "output_type": "execute_result"
    }
   ],
   "source": [
    "matrizAdjacenciaDic"
   ]
  },
  {
   "cell_type": "code",
   "execution_count": 15,
   "metadata": {},
   "outputs": [
    {
     "data": {
      "text/plain": [
       "['Formosa', 'Brasília', 'Goiânia', 'Aracajú', 'Belém', 'Belo Horizonte']"
      ]
     },
     "execution_count": 15,
     "metadata": {},
     "output_type": "execute_result"
    }
   ],
   "source": [
    "G.DFS('Formosa', visitados = [])"
   ]
  },
  {
   "cell_type": "code",
   "execution_count": 16,
   "metadata": {},
   "outputs": [
    {
     "data": {
      "text/plain": [
       "['Formosa', 'Goiânia', 'Brasília', 'Aracajú', 'Belém', 'Belo Horizonte']"
      ]
     },
     "execution_count": 16,
     "metadata": {},
     "output_type": "execute_result"
    }
   ],
   "source": [
    "G.BFS(\"Formosa\")"
   ]
  },
  {
   "cell_type": "code",
   "execution_count": 18,
   "metadata": {},
   "outputs": [
    {
     "name": "stdout",
     "output_type": "stream",
     "text": [
      "Todos os vertices: ['Formosa', 'Brasília', 'Goiânia', 'Aracajú', 'Belém', 'Belo Horizonte']\n",
      "\n",
      "\n"
     ]
    },
    {
     "data": {
      "text/plain": [
       "[['Formosa', 80, 'Brasília'],\n",
       " ['Brasília', 160, 'Goiânia'],\n",
       " ['Goiânia', 906, 'Belo Horizonte']]"
      ]
     },
     "execution_count": 18,
     "metadata": {},
     "output_type": "execute_result"
    }
   ],
   "source": [
    "G.Prim()"
   ]
  },
  {
   "cell_type": "markdown",
   "metadata": {},
   "source": [
    "### Outros dados de teste para algoritmo de Prim"
   ]
  },
  {
   "cell_type": "code",
   "execution_count": 17,
   "metadata": {},
   "outputs": [
    {
     "name": "stdout",
     "output_type": "stream",
     "text": [
      "Todos os vertices: ['1', '2', '3', '4', '5', '6']\n",
      "\n",
      "\n"
     ]
    },
    {
     "data": {
      "text/plain": [
       "[['1', 2, '2'], ['2', 1, '6'], ['3', 3, '5'], ['4', 2, '5'], ['5', 2, '6']]"
      ]
     },
     "execution_count": 17,
     "metadata": {},
     "output_type": "execute_result"
    }
   ],
   "source": [
    "Prim = Grafo(direcionado = True)\n",
    "Prim.adicionarVertice(\"1\")\n",
    "Prim.adicionarVertice(\"2\")\n",
    "Prim.adicionarVertice(\"3\")\n",
    "Prim.adicionarVertice(\"4\")\n",
    "Prim.adicionarVertice(\"5\")\n",
    "Prim.adicionarVertice(\"6\")\n",
    "\n",
    "Prim.adicionarAresta(\"1\", \"2\", 2)\n",
    "Prim.adicionarAresta(\"1\", \"3\", 5)\n",
    "Prim.adicionarAresta(\"2\", \"4\", 3)\n",
    "Prim.adicionarAresta(\"3\", \"5\", 3)\n",
    "Prim.adicionarAresta(\"3\", \"4\", 4)\n",
    "Prim.adicionarAresta(\"2\", \"6\", 1)\n",
    "Prim.adicionarAresta(\"4\", \"5\", 2)\n",
    "Prim.adicionarAresta(\"5\", \"6\", 2)\n",
    "mostrarGrafo(Prim)\n",
    "Prim.Prim()"
   ]
  },
  {
   "cell_type": "code",
   "execution_count": null,
   "metadata": {},
   "outputs": [],
   "source": []
  }
 ],
 "metadata": {
  "kernelspec": {
   "display_name": "Python 3",
   "language": "python",
   "name": "python3"
  },
  "language_info": {
   "codemirror_mode": {
    "name": "ipython",
    "version": 3
   },
   "file_extension": ".py",
   "mimetype": "text/x-python",
   "name": "python",
   "nbconvert_exporter": "python",
   "pygments_lexer": "ipython3",
   "version": "3.6.13"
  }
 },
 "nbformat": 4,
 "nbformat_minor": 4
}
