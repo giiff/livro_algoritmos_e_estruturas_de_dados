{
 "cells": [
  {
   "cell_type": "code",
   "execution_count": 1,
   "metadata": {},
   "outputs": [],
   "source": [
    "from grafos import Grafo\n",
    "from grafos import mostrarGrafo"
   ]
  },
  {
   "cell_type": "code",
   "execution_count": 2,
   "metadata": {},
   "outputs": [],
   "source": [
    "G = Grafo(direcionado = True)"
   ]
  },
  {
   "cell_type": "code",
   "execution_count": 3,
   "metadata": {},
   "outputs": [],
   "source": [
    "G.adicionarVertice(\"Formosa\")\n",
    "G.adicionarVertice(\"Brasília\")\n",
    "G.adicionarVertice(\"Goiania\")\n",
    "G.adicionarVertice(\"Sao Paulo\")\n",
    "G.adicionarVertice(\"Aracajú\")\n",
    "G.adicionarVertice(\"Belém\")\n",
    "G.adicionarVertice(\"Belo Horizonte\")"
   ]
  },
  {
   "cell_type": "code",
   "execution_count": 4,
   "metadata": {},
   "outputs": [
    {
     "name": "stdout",
     "output_type": "stream",
     "text": [
      "Formosa\n",
      "Brasília\n",
      "Goiania\n",
      "Sao Paulo\n",
      "Aracajú\n",
      "Belém\n",
      "Belo Horizonte\n"
     ]
    }
   ],
   "source": [
    "for vertice in G.getVertices():\n",
    "    print(vertice)"
   ]
  },
  {
   "cell_type": "code",
   "execution_count": 5,
   "metadata": {},
   "outputs": [],
   "source": [
    "G.removerVertice('Sao Paulo')"
   ]
  },
  {
   "cell_type": "code",
   "execution_count": 6,
   "metadata": {},
   "outputs": [
    {
     "name": "stdout",
     "output_type": "stream",
     "text": [
      "Formosa\n",
      "Brasília\n",
      "Goiania\n",
      "Aracajú\n",
      "Belém\n",
      "Belo Horizonte\n"
     ]
    }
   ],
   "source": [
    "for vertice in G.getVertices():\n",
    "    print(vertice)"
   ]
  },
  {
   "cell_type": "code",
   "execution_count": 7,
   "metadata": {},
   "outputs": [],
   "source": [
    "G.adicionarAresta(\"Formosa\", \"Brasília\", 80)\n",
    "G.adicionarAresta(\"Formosa\", \"Goiania\", 240)\n",
    "G.adicionarAresta(\"Brasília\", \"Goiania\", 160)\n",
    "G.adicionarAresta(\"Goiania\", \"Aracajú\", 1849)\n",
    "G.adicionarAresta(\"Goiania\", \"Belém\", 2017)\n",
    "G.adicionarAresta(\"Goiania\", \"Belo Horizonte\", 906)\n",
    "G.adicionarAresta(\"Brasília\", \"Aracajú\", 1650)\n",
    "G.adicionarAresta(\"Brasília\", \"Belém\", 2140)\n",
    "G.adicionarAresta(\"Brasília\", \"Belo Horizonte\", 741)"
   ]
  },
  {
   "cell_type": "code",
   "execution_count": 8,
   "metadata": {},
   "outputs": [],
   "source": [
    "mostrarGrafo(G)"
   ]
  },
  {
   "cell_type": "code",
   "execution_count": 9,
   "metadata": {},
   "outputs": [
    {
     "name": "stdout",
     "output_type": "stream",
     "text": [
      "               Formosa Brasília Goiania Aracajú Belém Belo Horizonte\n",
      "Formosa              0       80     240       0     0              0\n",
      "Brasília             0        0     160    1650  2140            741\n",
      "Goiania              0        0       0    1849  2017            906\n",
      "Aracajú              0        0       0       0     0              0\n",
      "Belém                0        0       0       0     0              0\n",
      "Belo Horizonte       0        0       0       0     0              0\n"
     ]
    }
   ],
   "source": [
    "matrizAdjacencia = G.getMatrizAdjacencia()\n",
    "print(matrizAdjacencia)"
   ]
  },
  {
   "cell_type": "code",
   "execution_count": 10,
   "metadata": {},
   "outputs": [
    {
     "name": "stdout",
     "output_type": "stream",
     "text": [
      "[[0 80 240 0 0 0]\n",
      " [0 0 160 1650 2140 741]\n",
      " [0 0 0 1849 2017 906]\n",
      " [0 0 0 0 0 0]\n",
      " [0 0 0 0 0 0]\n",
      " [0 0 0 0 0 0]]\n"
     ]
    }
   ],
   "source": [
    "matrizAdjacencia = G.getMatrizAdjacenciaComoArray()\n",
    "print(matrizAdjacencia)"
   ]
  },
  {
   "cell_type": "code",
   "execution_count": 11,
   "metadata": {},
   "outputs": [
    {
     "name": "stdout",
     "output_type": "stream",
     "text": [
      "{'Formosa': {'Formosa': 0, 'Brasília': 0, 'Goiania': 0, 'Aracajú': 0, 'Belém': 0, 'Belo Horizonte': 0}, 'Brasília': {'Formosa': 80, 'Brasília': 0, 'Goiania': 0, 'Aracajú': 0, 'Belém': 0, 'Belo Horizonte': 0}, 'Goiania': {'Formosa': 240, 'Brasília': 160, 'Goiania': 0, 'Aracajú': 0, 'Belém': 0, 'Belo Horizonte': 0}, 'Aracajú': {'Formosa': 0, 'Brasília': 1650, 'Goiania': 1849, 'Aracajú': 0, 'Belém': 0, 'Belo Horizonte': 0}, 'Belém': {'Formosa': 0, 'Brasília': 2140, 'Goiania': 2017, 'Aracajú': 0, 'Belém': 0, 'Belo Horizonte': 0}, 'Belo Horizonte': {'Formosa': 0, 'Brasília': 741, 'Goiania': 906, 'Aracajú': 0, 'Belém': 0, 'Belo Horizonte': 0}}\n"
     ]
    }
   ],
   "source": [
    "matrizAdjacencia = G.getMatrizAdjacenciaComoDict()\n",
    "print(matrizAdjacencia)"
   ]
  },
  {
   "cell_type": "code",
   "execution_count": 12,
   "metadata": {},
   "outputs": [
    {
     "data": {
      "text/plain": [
       "['Formosa', 'Brasília', 'Goiania', 'Aracajú', 'Belém', 'Belo Horizonte']"
      ]
     },
     "execution_count": 12,
     "metadata": {},
     "output_type": "execute_result"
    }
   ],
   "source": [
    "G.DFS('Formosa', visitados=[])"
   ]
  },
  {
   "cell_type": "code",
   "execution_count": 13,
   "metadata": {},
   "outputs": [
    {
     "data": {
      "text/plain": [
       "['Formosa', 'Goiania', 'Brasília', 'Belém', 'Aracajú', 'Belo Horizonte']"
      ]
     },
     "execution_count": 13,
     "metadata": {},
     "output_type": "execute_result"
    }
   ],
   "source": [
    "G.BFS(\"Formosa\")"
   ]
  }
 ],
 "metadata": {
  "kernelspec": {
   "display_name": "Python 3",
   "language": "python",
   "name": "python3"
  },
  "language_info": {
   "codemirror_mode": {
    "name": "ipython",
    "version": 3
   },
   "file_extension": ".py",
   "mimetype": "text/x-python",
   "name": "python",
   "nbconvert_exporter": "python",
   "pygments_lexer": "ipython3",
   "version": "3.8.5"
  }
 },
 "nbformat": 4,
 "nbformat_minor": 4
}
