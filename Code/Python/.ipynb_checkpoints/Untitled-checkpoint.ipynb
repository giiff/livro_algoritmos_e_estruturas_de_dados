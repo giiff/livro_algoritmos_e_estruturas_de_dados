{
 "cells": [
  {
   "cell_type": "code",
   "execution_count": 1,
   "id": "cc383608",
   "metadata": {},
   "outputs": [],
   "source": [
    "from grafos import Grafo\n",
    "from grafos import mostrarGrafo"
   ]
  },
  {
   "cell_type": "code",
   "execution_count": 2,
   "id": "e86d143f",
   "metadata": {},
   "outputs": [
    {
     "name": "stdout",
     "output_type": "stream",
     "text": [
      "Todos os vertices: ['1', '2', '3', '4', '5']\n",
      "\n",
      "\n",
      "Menor peso: 2\n",
      "5 == 2 ?\n",
      "2 == 2 ?\n",
      "Menor peso: 3\n",
      "3 == 3 ?\n",
      "Menor peso: 3\n",
      "3 == 3 ?\n",
      "Menor peso: inf\n",
      "Menor peso: inf\n",
      "[['1', 2, '2'], ['2', 3, '4'], ['3', 3, '5']]\n"
     ]
    }
   ],
   "source": [
    "Prim = Grafo(direcionado = True)\n",
    "Prim.adicionarVertice(\"1\")\n",
    "Prim.adicionarVertice(\"2\")\n",
    "Prim.adicionarVertice(\"3\")\n",
    "Prim.adicionarVertice(\"4\")\n",
    "Prim.adicionarVertice(\"5\")\n",
    "Prim.adicionarVertice(\"6\")\n",
    "\n",
    "Prim.adicionarAresta(\"1\", \"2\", 2)\n",
    "Prim.adicionarAresta(\"1\", \"3\", 5)\n",
    "Prim.adicionarAresta(\"2\", \"4\", 3)\n",
    "Prim.adicionarAresta(\"3\", \"5\", 3)\n",
    "Prim.adicionarAresta(\"3\", \"4\", 4)\n",
    "Prim.adicionarAresta(\"2\", \"6\", 1)\n",
    "Prim.adicionarAresta(\"4\", \"5\", 2)\n",
    "Prim.adicionarAresta(\"5\", \"6\", 2)\n",
    "mostrarGrafo(Prim)\n",
    "Prim.Prim(\"1\")"
   ]
  }
 ],
 "metadata": {
  "kernelspec": {
   "display_name": "Python 3",
   "language": "python",
   "name": "python3"
  },
  "language_info": {
   "codemirror_mode": {
    "name": "ipython",
    "version": 3
   },
   "file_extension": ".py",
   "mimetype": "text/x-python",
   "name": "python",
   "nbconvert_exporter": "python",
   "pygments_lexer": "ipython3",
   "version": "3.6.13"
  }
 },
 "nbformat": 4,
 "nbformat_minor": 5
}
