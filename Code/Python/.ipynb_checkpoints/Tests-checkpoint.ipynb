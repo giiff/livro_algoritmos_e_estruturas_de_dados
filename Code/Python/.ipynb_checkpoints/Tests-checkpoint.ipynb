{
 "cells": [
  {
   "cell_type": "code",
   "execution_count": 1,
   "metadata": {},
   "outputs": [],
   "source": [
    "from grafos import Grafo\n",
    "from grafos import mostrarGrafo"
   ]
  },
  {
   "cell_type": "code",
   "execution_count": 2,
   "metadata": {},
   "outputs": [],
   "source": [
    "G = Grafo(direcionado = True)"
   ]
  },
  {
   "cell_type": "code",
   "execution_count": 3,
   "metadata": {},
   "outputs": [],
   "source": [
    "G.adicionarVertice(\"Formosa\")\n",
    "G.adicionarVertice(\"Brasília\")\n",
    "G.adicionarVertice(\"Goiânia\")\n",
    "G.adicionarVertice(\"Aracajú\")\n",
    "G.adicionarVertice(\"Belém\")\n",
    "G.adicionarVertice(\"Belo Horizonte\")\n",
    "G.adicionarVertice(\"Palmas\")"
   ]
  },
  {
   "cell_type": "code",
   "execution_count": 4,
   "metadata": {},
   "outputs": [
    {
     "name": "stdout",
     "output_type": "stream",
     "text": [
      "Formosa\n",
      "Brasília\n",
      "Goiânia\n",
      "Aracajú\n",
      "Belém\n",
      "Belo Horizonte\n",
      "Palmas\n"
     ]
    }
   ],
   "source": [
    "for vertice in G.getVertices():\n",
    "    print(vertice)"
   ]
  },
  {
   "cell_type": "code",
   "execution_count": 5,
   "metadata": {},
   "outputs": [
    {
     "ename": "AttributeError",
     "evalue": "'NoneType' object has no attribute 'getValor'",
     "output_type": "error",
     "traceback": [
      "\u001b[0;31m---------------------------------------------------------------------------\u001b[0m",
      "\u001b[0;31mAttributeError\u001b[0m                            Traceback (most recent call last)",
      "\u001b[0;32m<ipython-input-5-bbc0ac613dc9>\u001b[0m in \u001b[0;36m<module>\u001b[0;34m\u001b[0m\n\u001b[1;32m      2\u001b[0m \u001b[0mG\u001b[0m\u001b[0;34m.\u001b[0m\u001b[0madicionarAresta\u001b[0m\u001b[0;34m(\u001b[0m\u001b[0;34m\"Formosa\"\u001b[0m\u001b[0;34m,\u001b[0m \u001b[0;34m\"Goiânia\"\u001b[0m\u001b[0;34m,\u001b[0m \u001b[0;36m240\u001b[0m\u001b[0;34m)\u001b[0m\u001b[0;34m\u001b[0m\u001b[0;34m\u001b[0m\u001b[0m\n\u001b[1;32m      3\u001b[0m \u001b[0mG\u001b[0m\u001b[0;34m.\u001b[0m\u001b[0madicionarAresta\u001b[0m\u001b[0;34m(\u001b[0m\u001b[0;34m\"Brasília\"\u001b[0m\u001b[0;34m,\u001b[0m \u001b[0;34m\"Goiânia\"\u001b[0m\u001b[0;34m,\u001b[0m \u001b[0;36m160\u001b[0m\u001b[0;34m)\u001b[0m\u001b[0;34m\u001b[0m\u001b[0;34m\u001b[0m\u001b[0m\n\u001b[0;32m----> 4\u001b[0;31m \u001b[0mG\u001b[0m\u001b[0;34m.\u001b[0m\u001b[0madicionarAresta\u001b[0m\u001b[0;34m(\u001b[0m\u001b[0;34m\"Brasília\"\u001b[0m\u001b[0;34m,\u001b[0m \u001b[0;34m\"Vitória\"\u001b[0m\u001b[0;34m,\u001b[0m \u001b[0;36m947\u001b[0m\u001b[0;34m)\u001b[0m\u001b[0;34m\u001b[0m\u001b[0;34m\u001b[0m\u001b[0m\n\u001b[0m\u001b[1;32m      5\u001b[0m \u001b[0mG\u001b[0m\u001b[0;34m.\u001b[0m\u001b[0madicionarAresta\u001b[0m\u001b[0;34m(\u001b[0m\u001b[0;34m\"Goiânia\"\u001b[0m\u001b[0;34m,\u001b[0m \u001b[0;34m\"Aracajú\"\u001b[0m\u001b[0;34m,\u001b[0m \u001b[0;36m1849\u001b[0m\u001b[0;34m)\u001b[0m\u001b[0;34m\u001b[0m\u001b[0;34m\u001b[0m\u001b[0m\n\u001b[1;32m      6\u001b[0m \u001b[0mG\u001b[0m\u001b[0;34m.\u001b[0m\u001b[0madicionarAresta\u001b[0m\u001b[0;34m(\u001b[0m\u001b[0;34m\"Goiânia\"\u001b[0m\u001b[0;34m,\u001b[0m \u001b[0;34m\"Vitória\"\u001b[0m\u001b[0;34m,\u001b[0m \u001b[0;36m1022\u001b[0m\u001b[0;34m)\u001b[0m\u001b[0;34m\u001b[0m\u001b[0;34m\u001b[0m\u001b[0m\n",
      "\u001b[0;32m~/Insync/OneDrive/IFG/Formosa/livro_algoritmos_e_estruturas_de_dados/Code/Python/grafos/Grafo.py\u001b[0m in \u001b[0;36madicionarAresta\u001b[0;34m(self, origem, destino, peso)\u001b[0m\n\u001b[1;32m     59\u001b[0m             \u001b[0;32mraise\u001b[0m \u001b[0mValueError\u001b[0m\u001b[0;34m(\u001b[0m\u001b[0;34m\"Nao ha no grafo, vertices de origem ou de destino com os valores informados.\"\u001b[0m\u001b[0;34m)\u001b[0m\u001b[0;34m\u001b[0m\u001b[0;34m\u001b[0m\u001b[0m\n\u001b[1;32m     60\u001b[0m         \u001b[0maresta\u001b[0m \u001b[0;34m=\u001b[0m \u001b[0mAresta\u001b[0m\u001b[0;34m(\u001b[0m\u001b[0mverticeOrigem\u001b[0m\u001b[0;34m,\u001b[0m \u001b[0mverticeDestino\u001b[0m\u001b[0;34m,\u001b[0m \u001b[0mpeso\u001b[0m\u001b[0;34m,\u001b[0m \u001b[0mself\u001b[0m\u001b[0;34m.\u001b[0m\u001b[0m__direcionado\u001b[0m\u001b[0;34m)\u001b[0m\u001b[0;34m\u001b[0m\u001b[0;34m\u001b[0m\u001b[0m\n\u001b[0;32m---> 61\u001b[0;31m         \u001b[0mverticeOrigem\u001b[0m\u001b[0;34m.\u001b[0m\u001b[0madicionarAresta\u001b[0m\u001b[0;34m(\u001b[0m\u001b[0maresta\u001b[0m\u001b[0;34m)\u001b[0m\u001b[0;34m\u001b[0m\u001b[0;34m\u001b[0m\u001b[0m\n\u001b[0m\u001b[1;32m     62\u001b[0m         \u001b[0;32mif\u001b[0m \u001b[0mverticeOrigem\u001b[0m \u001b[0;34m!=\u001b[0m \u001b[0mverticeDestino\u001b[0m\u001b[0;34m:\u001b[0m\u001b[0;34m\u001b[0m\u001b[0;34m\u001b[0m\u001b[0m\n\u001b[1;32m     63\u001b[0m             \u001b[0mverticeDestino\u001b[0m\u001b[0;34m.\u001b[0m\u001b[0madicionarAresta\u001b[0m\u001b[0;34m(\u001b[0m\u001b[0maresta\u001b[0m\u001b[0;34m)\u001b[0m\u001b[0;34m\u001b[0m\u001b[0;34m\u001b[0m\u001b[0m\n",
      "\u001b[0;32m~/Insync/OneDrive/IFG/Formosa/livro_algoritmos_e_estruturas_de_dados/Code/Python/grafos/Vertice.py\u001b[0m in \u001b[0;36madicionarAresta\u001b[0;34m(self, aresta)\u001b[0m\n\u001b[1;32m     81\u001b[0m         \u001b[0;34m:\u001b[0m\u001b[0;32mreturn\u001b[0m\u001b[0;34m:\u001b[0m \u001b[0mvoid\u001b[0m\u001b[0;34m\u001b[0m\u001b[0;34m\u001b[0m\u001b[0m\n\u001b[1;32m     82\u001b[0m         '''\n\u001b[0;32m---> 83\u001b[0;31m         \u001b[0mself\u001b[0m\u001b[0;34m.\u001b[0m\u001b[0m__arestas\u001b[0m\u001b[0;34m.\u001b[0m\u001b[0madd\u001b[0m\u001b[0;34m(\u001b[0m\u001b[0maresta\u001b[0m\u001b[0;34m)\u001b[0m\u001b[0;34m\u001b[0m\u001b[0;34m\u001b[0m\u001b[0m\n\u001b[0m\u001b[1;32m     84\u001b[0m \u001b[0;34m\u001b[0m\u001b[0m\n\u001b[1;32m     85\u001b[0m     \u001b[0;32mdef\u001b[0m \u001b[0mremoverAresta\u001b[0m\u001b[0;34m(\u001b[0m\u001b[0mself\u001b[0m\u001b[0;34m,\u001b[0m \u001b[0maresta\u001b[0m\u001b[0;34m)\u001b[0m\u001b[0;34m:\u001b[0m\u001b[0;34m\u001b[0m\u001b[0;34m\u001b[0m\u001b[0m\n",
      "\u001b[0;32m~/Insync/OneDrive/IFG/Formosa/livro_algoritmos_e_estruturas_de_dados/Code/Python/grafos/Aresta.py\u001b[0m in \u001b[0;36m__hash__\u001b[0;34m(self)\u001b[0m\n\u001b[1;32m     73\u001b[0m         '''\n\u001b[1;32m     74\u001b[0m         return hash(self.__verticeOrigem.getValor() +\n\u001b[0;32m---> 75\u001b[0;31m                     self.__verticeDestino.getValor() + str(self.__peso))\n\u001b[0m",
      "\u001b[0;31mAttributeError\u001b[0m: 'NoneType' object has no attribute 'getValor'"
     ]
    }
   ],
   "source": [
    "G.adicionarAresta(\"Formosa\", \"Brasília\", 80)\n",
    "G.adicionarAresta(\"Formosa\", \"Goiânia\", 240)\n",
    "G.adicionarAresta(\"Brasília\", \"Goiânia\", 160)\n",
    "G.adicionarAresta(\"Brasília\", \"Vitória\", 947)\n",
    "G.adicionarAresta(\"Goiânia\", \"Aracajú\", 1849)\n",
    "G.adicionarAresta(\"Goiânia\", \"Vitória\", 1022)\n",
    "G.adicionarAresta(\"Goiânia\", \"Belém\", 2017)\n",
    "G.adicionarAresta(\"Goiânia\", \"Belo Horizonte\", 906)\n",
    "G.adicionarAresta(\"Brasília\", \"Aracajú\", 1650)\n",
    "G.adicionarAresta(\"Brasília\", \"Belém\", 2140)\n",
    "G.adicionarAresta(\"Brasília\", \"Belo Horizonte\", 741)"
   ]
  },
  {
   "cell_type": "code",
   "execution_count": null,
   "metadata": {},
   "outputs": [],
   "source": [
    "mostrarGrafo(G)"
   ]
  },
  {
   "cell_type": "code",
   "execution_count": null,
   "metadata": {},
   "outputs": [],
   "source": [
    "#G.menorPeso(80,120,240)"
   ]
  },
  {
   "cell_type": "code",
   "execution_count": null,
   "metadata": {},
   "outputs": [],
   "source": [
    "result = G.Dijkstra(\"Formosa\")\n",
    "print(result)"
   ]
  },
  {
   "cell_type": "code",
   "execution_count": null,
   "metadata": {},
   "outputs": [],
   "source": [
    "G.getCaminho(\"Formosa\", \"Vitória\", G.Dijkstra(\"Formosa\")[1])"
   ]
  }
 ],
 "metadata": {
  "kernelspec": {
   "display_name": "Python 3",
   "language": "python",
   "name": "python3"
  },
  "language_info": {
   "codemirror_mode": {
    "name": "ipython",
    "version": 3
   },
   "file_extension": ".py",
   "mimetype": "text/x-python",
   "name": "python",
   "nbconvert_exporter": "python",
   "pygments_lexer": "ipython3",
   "version": "3.6.13"
  }
 },
 "nbformat": 4,
 "nbformat_minor": 4
}
